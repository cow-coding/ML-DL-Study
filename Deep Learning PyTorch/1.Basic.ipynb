{
  "nbformat": 4,
  "nbformat_minor": 0,
  "metadata": {
    "colab": {
      "name": "1.Basic.ipynb",
      "provenance": [],
      "collapsed_sections": [],
      "toc_visible": true,
      "authorship_tag": "ABX9TyOqYOfsjIwfa6zyRsnb0FCx",
      "include_colab_link": true
    },
    "kernelspec": {
      "name": "python3",
      "display_name": "Python 3"
    },
    "language_info": {
      "name": "python"
    },
    "accelerator": "GPU"
  },
  "cells": [
    {
      "cell_type": "markdown",
      "metadata": {
        "id": "view-in-github",
        "colab_type": "text"
      },
      "source": [
        "<a href=\"https://colab.research.google.com/github/cow-coding/ML-DL-Study/blob/master/Deep%20Learning%20PyTorch/1.Basic.ipynb\" target=\"_parent\"><img src=\"https://colab.research.google.com/assets/colab-badge.svg\" alt=\"Open In Colab\"/></a>"
      ]
    },
    {
      "cell_type": "markdown",
      "metadata": {
        "id": "lifiY6I6EtO9"
      },
      "source": [
        "# import library"
      ]
    },
    {
      "cell_type": "code",
      "metadata": {
        "id": "PXluYAn4Es0K"
      },
      "source": [
        "import torch"
      ],
      "execution_count": null,
      "outputs": []
    },
    {
      "cell_type": "code",
      "metadata": {
        "id": "Pb7X4TqLP1vo"
      },
      "source": [
        "if torch.cuda.is_available():\n",
        "  device = torch.device('cuda')\n",
        "else:\n",
        "  device = torch.device('cpu')"
      ],
      "execution_count": null,
      "outputs": []
    },
    {
      "cell_type": "markdown",
      "metadata": {
        "id": "2cohTsYOeVlg"
      },
      "source": [
        "# Basic tensor"
      ]
    },
    {
      "cell_type": "markdown",
      "metadata": {
        "id": "YPmE-qduEwnG"
      },
      "source": [
        "## Scalar"
      ]
    },
    {
      "cell_type": "markdown",
      "metadata": {
        "id": "s_k4Gw-wJi6I"
      },
      "source": [
        "일반적으로 알고 있는 상수값"
      ]
    },
    {
      "cell_type": "code",
      "metadata": {
        "colab": {
          "base_uri": "https://localhost:8080/"
        },
        "id": "A6LC6LWKEot-",
        "outputId": "7891c0f6-5993-4ef3-be0e-46eb9eac4a6e"
      },
      "source": [
        "scalar1 = torch.tensor([1.])\n",
        "print(scalar1)\n",
        "\n",
        "scalar2 = torch.tensor([3.])\n",
        "print(scalar2)"
      ],
      "execution_count": null,
      "outputs": [
        {
          "output_type": "stream",
          "text": [
            "tensor([1.])\n",
            "tensor([3.])\n"
          ],
          "name": "stdout"
        }
      ]
    },
    {
      "cell_type": "code",
      "metadata": {
        "colab": {
          "base_uri": "https://localhost:8080/",
          "height": 51
        },
        "id": "h5nZOYTlF24U",
        "outputId": "268f4ef4-88c4-4030-bddc-ceb44748fe42"
      },
      "source": [
        "add_scalar = scalar1 + scalar2\n",
        "display(torch.add(scalar1, scalar2))\n",
        "add_scalar"
      ],
      "execution_count": null,
      "outputs": [
        {
          "output_type": "display_data",
          "data": {
            "text/plain": [
              "tensor([4.])"
            ]
          },
          "metadata": {
            "tags": []
          }
        },
        {
          "output_type": "execute_result",
          "data": {
            "text/plain": [
              "tensor([4.])"
            ]
          },
          "metadata": {
            "tags": []
          },
          "execution_count": 4
        }
      ]
    },
    {
      "cell_type": "code",
      "metadata": {
        "colab": {
          "base_uri": "https://localhost:8080/",
          "height": 51
        },
        "id": "-A_NxCF7F9Su",
        "outputId": "aa9ab24b-2286-4fb1-ba66-1542ceca0c7a"
      },
      "source": [
        "sub_scalar = scalar1 - scalar2\n",
        "display(torch.sub(scalar2, scalar2))\n",
        "sub_scalar"
      ],
      "execution_count": null,
      "outputs": [
        {
          "output_type": "display_data",
          "data": {
            "text/plain": [
              "tensor([0.])"
            ]
          },
          "metadata": {
            "tags": []
          }
        },
        {
          "output_type": "execute_result",
          "data": {
            "text/plain": [
              "tensor([-2.])"
            ]
          },
          "metadata": {
            "tags": []
          },
          "execution_count": 5
        }
      ]
    },
    {
      "cell_type": "code",
      "metadata": {
        "colab": {
          "base_uri": "https://localhost:8080/",
          "height": 51
        },
        "id": "G1i1q7ijGdhJ",
        "outputId": "c2b60785-cdec-4295-fd82-11c397c4f5cc"
      },
      "source": [
        "mul_scalar = scalar1 * scalar2\n",
        "display(torch.mul(scalar1, scalar2))\n",
        "mul_scalar"
      ],
      "execution_count": null,
      "outputs": [
        {
          "output_type": "display_data",
          "data": {
            "text/plain": [
              "tensor([3.])"
            ]
          },
          "metadata": {
            "tags": []
          }
        },
        {
          "output_type": "execute_result",
          "data": {
            "text/plain": [
              "tensor([3.])"
            ]
          },
          "metadata": {
            "tags": []
          },
          "execution_count": 6
        }
      ]
    },
    {
      "cell_type": "code",
      "metadata": {
        "colab": {
          "base_uri": "https://localhost:8080/",
          "height": 51
        },
        "id": "QZzVA-iWGhkY",
        "outputId": "b25e8722-c9e7-42f8-dff6-13f1d258f341"
      },
      "source": [
        "div_scalar = scalar1 / scalar2\n",
        "display(torch.div(scalar1, scalar2))\n",
        "div_scalar"
      ],
      "execution_count": null,
      "outputs": [
        {
          "output_type": "display_data",
          "data": {
            "text/plain": [
              "tensor([0.3333])"
            ]
          },
          "metadata": {
            "tags": []
          }
        },
        {
          "output_type": "execute_result",
          "data": {
            "text/plain": [
              "tensor([0.3333])"
            ]
          },
          "metadata": {
            "tags": []
          },
          "execution_count": 7
        }
      ]
    },
    {
      "cell_type": "markdown",
      "metadata": {
        "id": "H5cAMfJaK9B4"
      },
      "source": [
        "## Vector"
      ]
    },
    {
      "cell_type": "markdown",
      "metadata": {
        "id": "C2Q9AaowJmX4"
      },
      "source": [
        "하나의 값을 2개 이상의 수치로 표현한 것"
      ]
    },
    {
      "cell_type": "code",
      "metadata": {
        "colab": {
          "base_uri": "https://localhost:8080/"
        },
        "id": "g_xKl_8KJPO4",
        "outputId": "02c8fd85-47e3-413b-b1f3-7280d7da9fb8"
      },
      "source": [
        "vector1 = torch.tensor([1., 2., 3.])\n",
        "print(vector1)\n",
        "\n",
        "vector2 = torch.tensor([4., 5., 6.])\n",
        "print(vector2)"
      ],
      "execution_count": null,
      "outputs": [
        {
          "output_type": "stream",
          "text": [
            "tensor([1., 2., 3.])\n",
            "tensor([4., 5., 6.])\n"
          ],
          "name": "stdout"
        }
      ]
    },
    {
      "cell_type": "markdown",
      "metadata": {
        "id": "EUTgsOZtJ0fu"
      },
      "source": [
        "벡터의 산술연산은 요소별(element-wise)로 수행"
      ]
    },
    {
      "cell_type": "code",
      "metadata": {
        "colab": {
          "base_uri": "https://localhost:8080/",
          "height": 51
        },
        "id": "VL4KIVV9JyC8",
        "outputId": "49a947ae-fd35-404c-8769-15e896d23913"
      },
      "source": [
        "add_vector = vector1 + vector2\n",
        "display(torch.add(vector1, vector2))\n",
        "add_vector"
      ],
      "execution_count": null,
      "outputs": [
        {
          "output_type": "display_data",
          "data": {
            "text/plain": [
              "tensor([5., 7., 9.])"
            ]
          },
          "metadata": {
            "tags": []
          }
        },
        {
          "output_type": "execute_result",
          "data": {
            "text/plain": [
              "tensor([5., 7., 9.])"
            ]
          },
          "metadata": {
            "tags": []
          },
          "execution_count": 9
        }
      ]
    },
    {
      "cell_type": "code",
      "metadata": {
        "colab": {
          "base_uri": "https://localhost:8080/",
          "height": 51
        },
        "id": "ZFJnaSy3Kd2u",
        "outputId": "50c01422-7121-4a6d-b536-55c12f7c2de3"
      },
      "source": [
        "sub_vector = vector1 - vector2\n",
        "display(torch.sub(vector1, vector2))\n",
        "sub_vector"
      ],
      "execution_count": null,
      "outputs": [
        {
          "output_type": "display_data",
          "data": {
            "text/plain": [
              "tensor([-3., -3., -3.])"
            ]
          },
          "metadata": {
            "tags": []
          }
        },
        {
          "output_type": "execute_result",
          "data": {
            "text/plain": [
              "tensor([-3., -3., -3.])"
            ]
          },
          "metadata": {
            "tags": []
          },
          "execution_count": 10
        }
      ]
    },
    {
      "cell_type": "code",
      "metadata": {
        "colab": {
          "base_uri": "https://localhost:8080/",
          "height": 51
        },
        "id": "tc7S1ieEKglm",
        "outputId": "7928d942-10f8-46b1-e37a-753596013669"
      },
      "source": [
        "mul_vector = vector1 * vector2\n",
        "display(torch.mul(vector1, vector2))\n",
        "mul_vector"
      ],
      "execution_count": null,
      "outputs": [
        {
          "output_type": "display_data",
          "data": {
            "text/plain": [
              "tensor([ 4., 10., 18.])"
            ]
          },
          "metadata": {
            "tags": []
          }
        },
        {
          "output_type": "execute_result",
          "data": {
            "text/plain": [
              "tensor([ 4., 10., 18.])"
            ]
          },
          "metadata": {
            "tags": []
          },
          "execution_count": 11
        }
      ]
    },
    {
      "cell_type": "code",
      "metadata": {
        "colab": {
          "base_uri": "https://localhost:8080/",
          "height": 51
        },
        "id": "gJQhQ2fPKqPW",
        "outputId": "5515ecf0-84be-4c9b-fd8d-e03aed69e778"
      },
      "source": [
        "div_vector = vector1 / vector2\n",
        "display(torch.div(vector1, vector2))\n",
        "div_vector"
      ],
      "execution_count": null,
      "outputs": [
        {
          "output_type": "display_data",
          "data": {
            "text/plain": [
              "tensor([0.2500, 0.4000, 0.5000])"
            ]
          },
          "metadata": {
            "tags": []
          }
        },
        {
          "output_type": "execute_result",
          "data": {
            "text/plain": [
              "tensor([0.2500, 0.4000, 0.5000])"
            ]
          },
          "metadata": {
            "tags": []
          },
          "execution_count": 12
        }
      ]
    },
    {
      "cell_type": "code",
      "metadata": {
        "colab": {
          "base_uri": "https://localhost:8080/"
        },
        "id": "Gm_9uuIIL2u2",
        "outputId": "cd51a08c-cf95-457e-8733-eb021f8fc8b6"
      },
      "source": [
        "torch.dot(vector1, vector2)"
      ],
      "execution_count": null,
      "outputs": [
        {
          "output_type": "execute_result",
          "data": {
            "text/plain": [
              "tensor(32.)"
            ]
          },
          "metadata": {
            "tags": []
          },
          "execution_count": 13
        }
      ]
    },
    {
      "cell_type": "markdown",
      "metadata": {
        "id": "cmhoJ7vQL_uf"
      },
      "source": [
        "vector의 내적값"
      ]
    },
    {
      "cell_type": "markdown",
      "metadata": {
        "id": "Pzilq91JK7pK"
      },
      "source": [
        "## Matrix"
      ]
    },
    {
      "cell_type": "markdown",
      "metadata": {
        "id": "hCGV-ehFK_gc"
      },
      "source": [
        "2개 이상의 벡터 값으로 구선된 값\n",
        "선형 대수의 기본단위"
      ]
    },
    {
      "cell_type": "code",
      "metadata": {
        "colab": {
          "base_uri": "https://localhost:8080/"
        },
        "id": "2gv8LuHBKydA",
        "outputId": "e9385876-73d9-4bb8-a92a-6c5f4c63b384"
      },
      "source": [
        "matrix1 = torch.tensor([[1., 2.], [3., 4.]])\n",
        "matrix1"
      ],
      "execution_count": null,
      "outputs": [
        {
          "output_type": "execute_result",
          "data": {
            "text/plain": [
              "tensor([[1., 2.],\n",
              "        [3., 4.]])"
            ]
          },
          "metadata": {
            "tags": []
          },
          "execution_count": 14
        }
      ]
    },
    {
      "cell_type": "code",
      "metadata": {
        "colab": {
          "base_uri": "https://localhost:8080/"
        },
        "id": "ufYkG8GtLOPF",
        "outputId": "4d7aa98c-4b99-43e1-fd6d-9b1f47ea2cbe"
      },
      "source": [
        "matrix2 = torch.tensor([[5., 6.],[7., 8.]])\n",
        "matrix2"
      ],
      "execution_count": null,
      "outputs": [
        {
          "output_type": "execute_result",
          "data": {
            "text/plain": [
              "tensor([[5., 6.],\n",
              "        [7., 8.]])"
            ]
          },
          "metadata": {
            "tags": []
          },
          "execution_count": 15
        }
      ]
    },
    {
      "cell_type": "code",
      "metadata": {
        "colab": {
          "base_uri": "https://localhost:8080/",
          "height": 85
        },
        "id": "q6MywLJOLVGU",
        "outputId": "275c381d-b091-4893-9d06-aaf2552164c0"
      },
      "source": [
        "sum_matrix = matrix1 + matrix2\n",
        "display(torch.add(matrix1, matrix2))\n",
        "sum_matrix"
      ],
      "execution_count": null,
      "outputs": [
        {
          "output_type": "display_data",
          "data": {
            "text/plain": [
              "tensor([[ 6.,  8.],\n",
              "        [10., 12.]])"
            ]
          },
          "metadata": {
            "tags": []
          }
        },
        {
          "output_type": "execute_result",
          "data": {
            "text/plain": [
              "tensor([[ 6.,  8.],\n",
              "        [10., 12.]])"
            ]
          },
          "metadata": {
            "tags": []
          },
          "execution_count": 16
        }
      ]
    },
    {
      "cell_type": "code",
      "metadata": {
        "colab": {
          "base_uri": "https://localhost:8080/",
          "height": 85
        },
        "id": "H7z_nhyjLbWg",
        "outputId": "fb2bfc9c-ce0c-4a7f-a1da-e1b217c325ae"
      },
      "source": [
        "sub_matrix = matrix1 - matrix2\n",
        "display(torch.sub(matrix1, matrix2))\n",
        "sub_matrix"
      ],
      "execution_count": null,
      "outputs": [
        {
          "output_type": "display_data",
          "data": {
            "text/plain": [
              "tensor([[-4., -4.],\n",
              "        [-4., -4.]])"
            ]
          },
          "metadata": {
            "tags": []
          }
        },
        {
          "output_type": "execute_result",
          "data": {
            "text/plain": [
              "tensor([[-4., -4.],\n",
              "        [-4., -4.]])"
            ]
          },
          "metadata": {
            "tags": []
          },
          "execution_count": 17
        }
      ]
    },
    {
      "cell_type": "code",
      "metadata": {
        "colab": {
          "base_uri": "https://localhost:8080/",
          "height": 85
        },
        "id": "2wiAv5hKLk4O",
        "outputId": "50db1e3b-4dbc-45b1-e0ce-9e7e657be6b4"
      },
      "source": [
        "mul_matrix = matrix1 * matrix2\n",
        "display(torch.mul(matrix1, matrix2))\n",
        "mul_matrix"
      ],
      "execution_count": null,
      "outputs": [
        {
          "output_type": "display_data",
          "data": {
            "text/plain": [
              "tensor([[ 5., 12.],\n",
              "        [21., 32.]])"
            ]
          },
          "metadata": {
            "tags": []
          }
        },
        {
          "output_type": "execute_result",
          "data": {
            "text/plain": [
              "tensor([[ 5., 12.],\n",
              "        [21., 32.]])"
            ]
          },
          "metadata": {
            "tags": []
          },
          "execution_count": 18
        }
      ]
    },
    {
      "cell_type": "code",
      "metadata": {
        "colab": {
          "base_uri": "https://localhost:8080/",
          "height": 85
        },
        "id": "c83BrPbPLp4i",
        "outputId": "d61175c4-2ac4-41e9-9f5e-92afdcbcde5f"
      },
      "source": [
        "div_matrix = matrix1 / matrix2\n",
        "display(torch.div(matrix1, matrix2))\n",
        "div_matrix"
      ],
      "execution_count": null,
      "outputs": [
        {
          "output_type": "display_data",
          "data": {
            "text/plain": [
              "tensor([[0.2000, 0.3333],\n",
              "        [0.4286, 0.5000]])"
            ]
          },
          "metadata": {
            "tags": []
          }
        },
        {
          "output_type": "execute_result",
          "data": {
            "text/plain": [
              "tensor([[0.2000, 0.3333],\n",
              "        [0.4286, 0.5000]])"
            ]
          },
          "metadata": {
            "tags": []
          },
          "execution_count": 19
        }
      ]
    },
    {
      "cell_type": "code",
      "metadata": {
        "colab": {
          "base_uri": "https://localhost:8080/"
        },
        "id": "9EcvqpNXLvD9",
        "outputId": "c46ba001-8774-453a-8ccb-720fa5ef3fa2"
      },
      "source": [
        "torch.matmul(matrix1, matrix2)"
      ],
      "execution_count": null,
      "outputs": [
        {
          "output_type": "execute_result",
          "data": {
            "text/plain": [
              "tensor([[19., 22.],\n",
              "        [43., 50.]])"
            ]
          },
          "metadata": {
            "tags": []
          },
          "execution_count": 20
        }
      ]
    },
    {
      "cell_type": "markdown",
      "metadata": {
        "id": "bd4GQxqIMCKS"
      },
      "source": [
        "`torch.mul()`은 각 원소별 곱을 구하는 것이다.\n",
        "우리가 아는 행렬 곱 연산은 `torch.matmul()`로 계산한다."
      ]
    },
    {
      "cell_type": "markdown",
      "metadata": {
        "id": "-ELv8arbMb4B"
      },
      "source": [
        "## Tensor"
      ]
    },
    {
      "cell_type": "markdown",
      "metadata": {
        "id": "7WqWOuOEMdeU"
      },
      "source": [
        "2차원 이상의 배열을 텐서라고 한다."
      ]
    },
    {
      "cell_type": "code",
      "metadata": {
        "colab": {
          "base_uri": "https://localhost:8080/"
        },
        "id": "QeDzCXgGL-t_",
        "outputId": "ea0befb0-20c7-4ece-cd13-b80b55476434"
      },
      "source": [
        "tensor1 = torch.tensor([[[1., 2.], [3., 4.]], [[5., 6.], [7., 8.]]])\n",
        "tensor1"
      ],
      "execution_count": null,
      "outputs": [
        {
          "output_type": "execute_result",
          "data": {
            "text/plain": [
              "tensor([[[1., 2.],\n",
              "         [3., 4.]],\n",
              "\n",
              "        [[5., 6.],\n",
              "         [7., 8.]]])"
            ]
          },
          "metadata": {
            "tags": []
          },
          "execution_count": 21
        }
      ]
    },
    {
      "cell_type": "code",
      "metadata": {
        "colab": {
          "base_uri": "https://localhost:8080/"
        },
        "id": "DK7sPLXLMyBN",
        "outputId": "79e7f91e-6fa7-4408-e5bc-38d914e24817"
      },
      "source": [
        "tensor2 = torch.tensor([[[9., 10.], [11., 12.]], [[13., 14.], [15., 16.]]])\n",
        "tensor2"
      ],
      "execution_count": null,
      "outputs": [
        {
          "output_type": "execute_result",
          "data": {
            "text/plain": [
              "tensor([[[ 9., 10.],\n",
              "         [11., 12.]],\n",
              "\n",
              "        [[13., 14.],\n",
              "         [15., 16.]]])"
            ]
          },
          "metadata": {
            "tags": []
          },
          "execution_count": 22
        }
      ]
    },
    {
      "cell_type": "code",
      "metadata": {
        "colab": {
          "base_uri": "https://localhost:8080/",
          "height": 187
        },
        "id": "ynLeLVxnNaBo",
        "outputId": "acf69377-ed4c-454d-e915-07458c52f139"
      },
      "source": [
        "sum_tensor = tensor1 + tensor2\n",
        "display(torch.add(tensor1, tensor2))\n",
        "sum_tensor"
      ],
      "execution_count": null,
      "outputs": [
        {
          "output_type": "display_data",
          "data": {
            "text/plain": [
              "tensor([[[10., 12.],\n",
              "         [14., 16.]],\n",
              "\n",
              "        [[18., 20.],\n",
              "         [22., 24.]]])"
            ]
          },
          "metadata": {
            "tags": []
          }
        },
        {
          "output_type": "execute_result",
          "data": {
            "text/plain": [
              "tensor([[[10., 12.],\n",
              "         [14., 16.]],\n",
              "\n",
              "        [[18., 20.],\n",
              "         [22., 24.]]])"
            ]
          },
          "metadata": {
            "tags": []
          },
          "execution_count": 23
        }
      ]
    },
    {
      "cell_type": "code",
      "metadata": {
        "colab": {
          "base_uri": "https://localhost:8080/",
          "height": 187
        },
        "id": "keO-bJJMNk8j",
        "outputId": "a6398e29-6cd5-48c1-c553-500b1e664ac5"
      },
      "source": [
        "sub_tensor = tensor1 - tensor2\n",
        "display(torch.sub(tensor1, tensor2))\n",
        "sub_tensor"
      ],
      "execution_count": null,
      "outputs": [
        {
          "output_type": "display_data",
          "data": {
            "text/plain": [
              "tensor([[[-8., -8.],\n",
              "         [-8., -8.]],\n",
              "\n",
              "        [[-8., -8.],\n",
              "         [-8., -8.]]])"
            ]
          },
          "metadata": {
            "tags": []
          }
        },
        {
          "output_type": "execute_result",
          "data": {
            "text/plain": [
              "tensor([[[-8., -8.],\n",
              "         [-8., -8.]],\n",
              "\n",
              "        [[-8., -8.],\n",
              "         [-8., -8.]]])"
            ]
          },
          "metadata": {
            "tags": []
          },
          "execution_count": 24
        }
      ]
    },
    {
      "cell_type": "code",
      "metadata": {
        "colab": {
          "base_uri": "https://localhost:8080/",
          "height": 187
        },
        "id": "rjUGEa0mNr1i",
        "outputId": "5da8f482-6bd5-409f-8129-e88087eaccb3"
      },
      "source": [
        "mul_tensor = tensor1 * tensor2\n",
        "display(torch.mul(tensor1, tensor2))\n",
        "mul_tensor"
      ],
      "execution_count": null,
      "outputs": [
        {
          "output_type": "display_data",
          "data": {
            "text/plain": [
              "tensor([[[  9.,  20.],\n",
              "         [ 33.,  48.]],\n",
              "\n",
              "        [[ 65.,  84.],\n",
              "         [105., 128.]]])"
            ]
          },
          "metadata": {
            "tags": []
          }
        },
        {
          "output_type": "execute_result",
          "data": {
            "text/plain": [
              "tensor([[[  9.,  20.],\n",
              "         [ 33.,  48.]],\n",
              "\n",
              "        [[ 65.,  84.],\n",
              "         [105., 128.]]])"
            ]
          },
          "metadata": {
            "tags": []
          },
          "execution_count": 25
        }
      ]
    },
    {
      "cell_type": "code",
      "metadata": {
        "colab": {
          "base_uri": "https://localhost:8080/",
          "height": 187
        },
        "id": "e8LSZNRJPiBs",
        "outputId": "9b62bd08-f898-43fb-9f54-ef0b0fbec32e"
      },
      "source": [
        "div_tensor = tensor1 / tensor2\n",
        "display(torch.div(tensor1, tensor2))\n",
        "div_tensor"
      ],
      "execution_count": null,
      "outputs": [
        {
          "output_type": "display_data",
          "data": {
            "text/plain": [
              "tensor([[[0.1111, 0.2000],\n",
              "         [0.2727, 0.3333]],\n",
              "\n",
              "        [[0.3846, 0.4286],\n",
              "         [0.4667, 0.5000]]])"
            ]
          },
          "metadata": {
            "tags": []
          }
        },
        {
          "output_type": "execute_result",
          "data": {
            "text/plain": [
              "tensor([[[0.1111, 0.2000],\n",
              "         [0.2727, 0.3333]],\n",
              "\n",
              "        [[0.3846, 0.4286],\n",
              "         [0.4667, 0.5000]]])"
            ]
          },
          "metadata": {
            "tags": []
          },
          "execution_count": 26
        }
      ]
    },
    {
      "cell_type": "code",
      "metadata": {
        "colab": {
          "base_uri": "https://localhost:8080/"
        },
        "id": "CRKxBJ7nPt9o",
        "outputId": "f1b524a3-ab56-41ff-923c-e0716815085a"
      },
      "source": [
        "torch.matmul(tensor1, tensor2)"
      ],
      "execution_count": null,
      "outputs": [
        {
          "output_type": "execute_result",
          "data": {
            "text/plain": [
              "tensor([[[ 31.,  34.],\n",
              "         [ 71.,  78.]],\n",
              "\n",
              "        [[155., 166.],\n",
              "         [211., 226.]]])"
            ]
          },
          "metadata": {
            "tags": []
          },
          "execution_count": 27
        }
      ]
    },
    {
      "cell_type": "markdown",
      "metadata": {
        "id": "HasI2T1uQGJ1"
      },
      "source": [
        "# Autograd"
      ]
    },
    {
      "cell_type": "markdown",
      "metadata": {
        "id": "JJgEZbsdQH3c"
      },
      "source": [
        "back propagation으로 파라미터를 업데이트하는 방법으로 autograd방식을 사용한다.  \n"
      ]
    },
    {
      "cell_type": "markdown",
      "metadata": {
        "id": "1CP3cJCTektL"
      },
      "source": [
        "## Setting"
      ]
    },
    {
      "cell_type": "code",
      "metadata": {
        "id": "Twm_1Q_aPx0f"
      },
      "source": [
        "BATCH_SIZE = 64\n",
        "INPUT_SIZE = 1000\n",
        "HIDDEN_SIZE = 100\n",
        "OUTPUT_SIZE = 10"
      ],
      "execution_count": null,
      "outputs": []
    },
    {
      "cell_type": "markdown",
      "metadata": {
        "id": "fMIP2KY9QbhR"
      },
      "source": [
        "`BATCH_SIZE` : 파라미터를 업데이트할 때 계산되는 데이터의 개수, 이 크기에 맞춰 output을 계산하고 오찻값을 계산. input으로 이용되는 데이터가 64개라는 의미  \n",
        "\n",
        "`INPUT_SIZE` : 입력층의 노드 수, 전체 Input의 크기를 의미함. `INPUT_SIZE`크기의 벡터 값을 `BATCH_SIZE`개만큼 사용한다는 의미  \n",
        "\n",
        "`HIDDEN_SIZE` : 은닉층의 노드 수  \n",
        "`OUTPUT_SIZE` : 최종 출력 벡터 크기"
      ]
    },
    {
      "cell_type": "markdown",
      "metadata": {
        "id": "c3RFzUXMfHTh"
      },
      "source": [
        "## "
      ]
    },
    {
      "cell_type": "code",
      "metadata": {
        "id": "xgaHUwWLQV68"
      },
      "source": [
        "x = torch.randn(BATCH_SIZE,\n",
        "                INPUT_SIZE,\n",
        "                device = device,\n",
        "                dtype = torch.float,\n",
        "                requires_grad = False)\n",
        "\n",
        "y = torch.randn(BATCH_SIZE,\n",
        "                OUTPUT_SIZE,\n",
        "                device = device,\n",
        "                dtype = torch.float,\n",
        "                requires_grad = False)\n",
        "\n",
        "w1 = torch.randn(INPUT_SIZE,\n",
        "                 HIDDEN_SIZE,\n",
        "                 device = device,\n",
        "                 dtype = torch.float,\n",
        "                 requires_grad = True)\n",
        "\n",
        "w2 = torch.randn(HIDDEN_SIZE,\n",
        "                 OUTPUT_SIZE,\n",
        "                 device = device,\n",
        "                 dtype = torch.float,\n",
        "                 requires_grad = True)"
      ],
      "execution_count": null,
      "outputs": []
    },
    {
      "cell_type": "markdown",
      "metadata": {
        "id": "pPDl_bg6NhS4"
      },
      "source": [
        "gradient 계산은 가중치(weight)에 대해서 진행하는 것이므로 Input과 Output인 x와 y에는 적용하지 않는다.  \n",
        "`require_grad = False`로 설정하면 해당 값은 gradient를 계산하지 않는다."
      ]
    },
    {
      "cell_type": "code",
      "metadata": {
        "colab": {
          "base_uri": "https://localhost:8080/"
        },
        "id": "LRciuX-NUBM_",
        "outputId": "37fba033-1af4-44cd-c8f8-a12de2af90ff"
      },
      "source": [
        "learning_rate = 1e-6\n",
        "\n",
        "for t in range(1, 501):\n",
        "  y_pred = x.mm(w1).clamp(min = 0).mm(w2)\n",
        "  loss = (y_pred - y).pow(2).sum()\n",
        "\n",
        "  if t % 100 == 0:\n",
        "    print('Iteration: ', t, '\\t', 'Loss: ', loss.item())\n",
        "    \n",
        "  loss.backward()\n",
        "\n",
        "  with torch.no_grad():\n",
        "    w1 -= learning_rate * w1.grad\n",
        "    w2 -= learning_rate * w2.grad\n",
        "\n",
        "    w1.grad.zero_()\n",
        "    w2.grad.zero_()"
      ],
      "execution_count": null,
      "outputs": [
        {
          "output_type": "stream",
          "text": [
            "Iteration:  100 \t Loss:  581.0009765625\n",
            "Iteration:  200 \t Loss:  2.449338912963867\n",
            "Iteration:  300 \t Loss:  0.02515566535294056\n",
            "Iteration:  400 \t Loss:  0.0006018607527948916\n",
            "Iteration:  500 \t Loss:  7.998217188287526e-05\n"
          ],
          "name": "stdout"
        }
      ]
    }
  ]
}