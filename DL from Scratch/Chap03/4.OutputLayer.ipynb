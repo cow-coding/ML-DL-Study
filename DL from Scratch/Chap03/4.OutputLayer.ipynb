{
  "nbformat": 4,
  "nbformat_minor": 0,
  "metadata": {
    "colab": {
      "name": "4. OutputLayer.ipynb",
      "provenance": [],
      "collapsed_sections": [],
      "authorship_tag": "ABX9TyNpLWxtljUlXnu98jb6l/tV",
      "include_colab_link": true
    },
    "kernelspec": {
      "name": "python3",
      "display_name": "Python 3"
    }
  },
  "cells": [
    {
      "cell_type": "markdown",
      "metadata": {
        "id": "view-in-github",
        "colab_type": "text"
      },
      "source": [
        "<a href=\"https://colab.research.google.com/github/cow-coding/ML-DL-Study/blob/master/DL%20from%20Scratch/Chap03/4.OutputLayer.ipynb\" target=\"_parent\"><img src=\"https://colab.research.google.com/assets/colab-badge.svg\" alt=\"Open In Colab\"/></a>"
      ]
    },
    {
      "cell_type": "markdown",
      "metadata": {
        "id": "dCjmTowBrU8F"
      },
      "source": [
        "# import Library"
      ]
    },
    {
      "cell_type": "code",
      "metadata": {
        "id": "2s5tzgGrrXV5"
      },
      "source": [
        "import numpy as np"
      ],
      "execution_count": 1,
      "outputs": []
    },
    {
      "cell_type": "markdown",
      "metadata": {
        "id": "WpQgEHdZrbNZ"
      },
      "source": [
        "# OutPut Layer\n",
        "\n",
        "신경망은 분류와 회귀 모두에 사용 가능  \n",
        "\n",
        "어떤 문제를 다루냐가 출력층의 활성황 함수를 결정함  \n",
        "\n",
        "- 회귀 (regression) : 항등함수 (idetity function)\n",
        "- 분류 (classification) : 소프트맥스 (softmax function)"
      ]
    },
    {
      "cell_type": "markdown",
      "metadata": {
        "id": "ojn-unxar9iM"
      },
      "source": [
        "## Identity Function\n",
        "\n",
        "항등함수(Identity function)는 입력 그대로 출력하는 함수  \n"
      ]
    },
    {
      "cell_type": "markdown",
      "metadata": {
        "id": "NU0qngkHs-Fx"
      },
      "source": [
        "![identity.png](data:image/png;base64,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)"
      ]
    },
    {
      "cell_type": "markdown",
      "metadata": {
        "id": "nskyptUbtE5w"
      },
      "source": [
        "## Softmax Function\n",
        "\n",
        "소프트맥스 함수(Softmax Function)의 식은 아래와 같다.\n",
        "\n",
        "$$\n",
        "y_{k} = \\frac{ exp(a_{k}) }{ \\sum^{n}_{i=1}exp(a_{i}) } = \\frac{ e^{a_{k}} }{ \\sum^{n}_{i=1}e^{a_{i}} }\n",
        "$$  \n",
        "\n",
        "- n : 출력층의 뉴런 수\n",
        "- $y_{k}$ : 출력층의 뉴런 중 k번째 출력\n",
        "- $a_{k}$ : 입력 신호"
      ]
    },
    {
      "cell_type": "markdown",
      "metadata": {
        "id": "qoZD2_DBvevI"
      },
      "source": [
        "![softmax.png](data:image/png;base64,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)"
      ]
    },
    {
      "cell_type": "markdown",
      "metadata": {
        "id": "0KyKznWXvg27"
      },
      "source": [
        "### Softmax implementation"
      ]
    },
    {
      "cell_type": "code",
      "metadata": {
        "colab": {
          "base_uri": "https://localhost:8080/"
        },
        "id": "8DAfWE9GrAlk",
        "outputId": "77b48fd4-91d2-4f6f-c0c1-f2f218a8ef4a"
      },
      "source": [
        "a = np.array([0.3, 2.9, 4.0])\n",
        "\n",
        "exp_a = np.exp(a) # exponential function\n",
        "print(exp_a)\n",
        "\n",
        "sum_exp_a = np.sum(exp_a) # sum of exponential function\n",
        "print(sum_exp_a)\n",
        "\n",
        "y = exp_a / sum_exp_a\n",
        "print(y)"
      ],
      "execution_count": 2,
      "outputs": [
        {
          "output_type": "stream",
          "text": [
            "[ 1.34985881 18.17414537 54.59815003]\n",
            "74.1221542101633\n",
            "[0.01821127 0.24519181 0.73659691]\n"
          ],
          "name": "stdout"
        }
      ]
    },
    {
      "cell_type": "code",
      "metadata": {
        "id": "lFqKSYc-v5Eo"
      },
      "source": [
        "def softmax(a):\n",
        "  exp_a = np.exp(a)\n",
        "  sum_exp_a = np.sum(exp_a)\n",
        "  y = exp_a / sum_exp_a\n",
        "\n",
        "  return y"
      ],
      "execution_count": 3,
      "outputs": []
    },
    {
      "cell_type": "markdown",
      "metadata": {
        "id": "QRnozyBa4d8I"
      },
      "source": [
        "### Caution in Implementation\n",
        "\n",
        "소프트맥스를 구현할 때, 오버플로 문제를 주의해야한다.  \n",
        "\n",
        "지수 함수를 활용할 때 지수값을 주의해야한다.  \n",
        "\n",
        "이를 해결할 수 있는 수식 변환이 존재한다.  \n",
        "\n"
      ]
    },
    {
      "cell_type": "markdown",
      "metadata": {
        "id": "z47XbtBw6pf8"
      },
      "source": [
        "### Solution of overflow problem\n",
        "\n",
        "$$\n",
        "y_{k} = \\frac{exp(a_{k}}{\\sum_{i = 1}^{n} exp(a_{i})} \\\\\n",
        "\\\\\n",
        "= \\frac{C exp(a_{k}}{C\\sum_{i = 1}^{n} exp(a_{i})} \\\\\n",
        "\\\\\n",
        "= \\frac{exp(a_{k} + \\log{C})}{\\sum^{i = 1}_{n}exp(a_{i} + \\log{C})} \\\\\n",
        "\\\\\n",
        "= \\frac{exp(a_{k} + C')}{\\sum^{i = 1}_{n}exp(a_{i} + C')}\n",
        "$$  \n",
        "\n",
        "전개 방식은 간단하다.  \n",
        "\n",
        "분모와 분자에 모두 임의의 정수를 곱하고 $exp$안으로 넣으면서 로그연산으로 변경한다.  \n",
        "\n",
        "로그값도 어떤 값으로 변형가능하므로 $C'$으로 기호를 변경해준다.  \n",
        "\n",
        "여기서 정리한 식으로 알 수 있는 것은 소프트맥스의 지수함수를 계산하는 과정에서 어떤 정수를 덧셈/뺄셈 연산을 해도 결과는 동일하다는 것을 알 수 있다.  \n",
        "\n",
        "이를 활용하면 오버플로 문제 해결을 위해서 입력 중 최댓값을 처리하면 된다."
      ]
    },
    {
      "cell_type": "markdown",
      "metadata": {
        "id": "H8jYpoVN7Z94"
      },
      "source": [
        "#### Example of Solutin"
      ]
    },
    {
      "cell_type": "code",
      "metadata": {
        "colab": {
          "base_uri": "https://localhost:8080/"
        },
        "id": "MU2-wOn_0cgL",
        "outputId": "6b25f2b0-4a4d-4680-fd34-30f3a593fdc7"
      },
      "source": [
        "a = np.array([1010, 1000, 990])\n",
        "print(np.exp(a) / np.sum(np.exp(a))) # softmax function # output is nan\n",
        "\n",
        "c = np.max(a)\n",
        "print(a - c)\n",
        "\n",
        "print(np.exp(a - c) / np.sum(np.exp(a - c)))"
      ],
      "execution_count": 4,
      "outputs": [
        {
          "output_type": "stream",
          "text": [
            "[nan nan nan]\n",
            "[  0 -10 -20]\n",
            "[9.99954600e-01 4.53978686e-05 2.06106005e-09]\n"
          ],
          "name": "stdout"
        },
        {
          "output_type": "stream",
          "text": [
            "/usr/local/lib/python3.7/dist-packages/ipykernel_launcher.py:2: RuntimeWarning: overflow encountered in exp\n",
            "  \n",
            "/usr/local/lib/python3.7/dist-packages/ipykernel_launcher.py:2: RuntimeWarning: invalid value encountered in true_divide\n",
            "  \n"
          ],
          "name": "stderr"
        }
      ]
    },
    {
      "cell_type": "markdown",
      "metadata": {
        "id": "kswkMrzt73-b"
      },
      "source": [
        "### Reimplementation Softmax function"
      ]
    },
    {
      "cell_type": "code",
      "metadata": {
        "id": "RzJ5buLE7x12"
      },
      "source": [
        "def softmax(a):\n",
        "  c = np.max(a)\n",
        "  exp_a = np.exp(a - c) # overflow solution\n",
        "  sum_exp_a = np.sum(exp_a)\n",
        "  y = exp_a / sum_exp_a\n",
        "\n",
        "  return y"
      ],
      "execution_count": 5,
      "outputs": []
    },
    {
      "cell_type": "markdown",
      "metadata": {
        "id": "YuSqqOay8MF5"
      },
      "source": [
        "### Characteristic of Softmax function\n",
        "\n",
        "모든 소프트맥스 함수 출력의 합은 1이다.  \n",
        "\n",
        "이런 원리로 소프트맥스 함수 출력을 '확률'로 해석할 수 있다."
      ]
    },
    {
      "cell_type": "code",
      "metadata": {
        "colab": {
          "base_uri": "https://localhost:8080/"
        },
        "id": "aVEjDwTY8Inn",
        "outputId": "189a8a09-5836-4568-d535-0fa8e8094f1a"
      },
      "source": [
        "a = np.array([0.3, 2.9, 4.0])\n",
        "y = softmax(a)\n",
        "print(y)\n",
        "np.sum(y)"
      ],
      "execution_count": 7,
      "outputs": [
        {
          "output_type": "stream",
          "text": [
            "[0.01821127 0.24519181 0.73659691]\n"
          ],
          "name": "stdout"
        },
        {
          "output_type": "execute_result",
          "data": {
            "text/plain": [
              "1.0"
            ]
          },
          "metadata": {
            "tags": []
          },
          "execution_count": 7
        }
      ]
    },
    {
      "cell_type": "markdown",
      "metadata": {
        "id": "BgBwhxKW8kkY"
      },
      "source": [
        "위의 예를보면 `y[0]`의 확률은 0.018(1.8%), `y[1]`의 확률은 0.245(24.5%), `y[2]`의 확률은 0.737(73.7%)로 해석할 수 있다.  \n",
        "\n",
        "그리고 확률적 관점에서 보면 2번 원소의 확률이 가장 높으므로 답은 2번째 클래스라고 할 수 있다."
      ]
    }
  ]
}