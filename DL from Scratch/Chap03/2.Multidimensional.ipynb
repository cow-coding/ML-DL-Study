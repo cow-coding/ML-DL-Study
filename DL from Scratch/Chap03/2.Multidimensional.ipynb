{
  "nbformat": 4,
  "nbformat_minor": 0,
  "metadata": {
    "colab": {
      "name": "Multidimensional.ipynb",
      "provenance": [],
      "toc_visible": true,
      "include_colab_link": true
    },
    "kernelspec": {
      "name": "python3",
      "display_name": "Python 3"
    }
  },
  "cells": [
    {
      "cell_type": "markdown",
      "metadata": {
        "id": "view-in-github",
        "colab_type": "text"
      },
      "source": [
        "<a href=\"https://colab.research.google.com/github/cow-coding/ML-DL-Study/blob/master/DL%20from%20Scratch/Chap03/2.Multidimensional.ipynb\" target=\"_parent\"><img src=\"https://colab.research.google.com/assets/colab-badge.svg\" alt=\"Open In Colab\"/></a>"
      ]
    },
    {
      "cell_type": "markdown",
      "metadata": {
        "id": "c9EulKWb1XJi"
      },
      "source": [
        "# Library import"
      ]
    },
    {
      "cell_type": "code",
      "metadata": {
        "id": "Yov9d8AE1aUZ"
      },
      "source": [
        "import numpy as np"
      ],
      "execution_count": null,
      "outputs": []
    },
    {
      "cell_type": "markdown",
      "metadata": {
        "id": "pYhxjjtS08dW"
      },
      "source": [
        "# Multidimensional Array\n",
        "\n",
        "숫자를 N차원으로 나열하는 것을 다차원 배열이라한다.\n",
        "\n",
        "\n",
        "\n"
      ]
    },
    {
      "cell_type": "markdown",
      "metadata": {
        "id": "V2qSWbpd1QQn"
      },
      "source": [
        "## Multidimensional Array implementation\n"
      ]
    },
    {
      "cell_type": "markdown",
      "metadata": {
        "id": "0UX2QO1T2WR8"
      },
      "source": [
        "### One dimesion Array\n",
        "\n",
        "- `np.ndim()` : 배열의 차원 수\n",
        "- `shape` : 배열의 형상 (몇행 몇열 ..) return tuple"
      ]
    },
    {
      "cell_type": "code",
      "metadata": {
        "colab": {
          "base_uri": "https://localhost:8080/"
        },
        "id": "w7FddIa_0Vgw",
        "outputId": "7ef4f40b-a8f5-4d63-8fcd-60d1413b1b41"
      },
      "source": [
        "A = np.array([1,2,3,4])\n",
        "print(A)\n",
        "\n",
        "print(np.ndim(A))\n",
        "\n",
        "print(A.shape)\n",
        "\n",
        "print(A.shape[0])"
      ],
      "execution_count": null,
      "outputs": [
        {
          "output_type": "stream",
          "text": [
            "[1 2 3 4]\n",
            "1\n",
            "(4,)\n",
            "4\n"
          ],
          "name": "stdout"
        }
      ]
    },
    {
      "cell_type": "markdown",
      "metadata": {
        "id": "TtPBW0TR20Wr"
      },
      "source": [
        "### Two dimensional Array\n",
        "\n",
        "$$\n",
        "\\begin{pmatrix}\n",
        "1 & 2 \\\\\n",
        "3 & 4 \\\\\n",
        "5 & 6\n",
        "\\end{pmatrix}\n",
        "$$"
      ]
    },
    {
      "cell_type": "code",
      "metadata": {
        "colab": {
          "base_uri": "https://localhost:8080/"
        },
        "id": "rrYTYBj91gX2",
        "outputId": "b85b4ccd-0f2c-4f79-b18b-af3988c3c718"
      },
      "source": [
        "B = np.array([[1,2], [3,4], [5,6]])\n",
        "print(B)\n",
        "\n",
        "print(np.ndim(B))\n",
        "\n",
        "print(B.shape)"
      ],
      "execution_count": null,
      "outputs": [
        {
          "output_type": "stream",
          "text": [
            "[[1 2]\n",
            " [3 4]\n",
            " [5 6]]\n",
            "2\n",
            "(3, 2)\n"
          ],
          "name": "stdout"
        }
      ]
    },
    {
      "cell_type": "markdown",
      "metadata": {
        "id": "KE5gFpi33pfm"
      },
      "source": [
        "# Multiply of Matrix\n",
        "\n",
        "$$\n",
        "  \\left(\\begin{array}\n",
        "  &1 & 2 \\\\\n",
        "  3 & 4\n",
        "  \\end{array}\\right)\n",
        "\\left(\\begin{array}\n",
        "&5 & 6 \\\\\n",
        "7 & 8\n",
        "\\end{array}\n",
        "\\right)\n",
        "=\n",
        "\\left(\\begin{array}\n",
        "&19 & 22 \\\\\n",
        "43 & 50\n",
        "\\end{array}\n",
        "\\right)\n",
        "$$\n",
        "\n",
        "행렬 곱은 n행 x m열의 값들의 합을 n행 m열에 기록하면된다.\n",
        "예를 들어 19는 1행 1열인데, 앞의 행렬의 1행과 뒤의 행렬의 1열을 곱한 값들의 합으로 기록한다. "
      ]
    },
    {
      "cell_type": "markdown",
      "metadata": {
        "id": "-qQMOIiz6e8x"
      },
      "source": [
        "## Multiply implementation\n",
        "\n",
        "`np.dot(A,B)` : A와 B의 벡터 곱(1차원) , 행렬 곱(2차원)"
      ]
    },
    {
      "cell_type": "code",
      "metadata": {
        "colab": {
          "base_uri": "https://localhost:8080/"
        },
        "id": "826LrYHa27k7",
        "outputId": "3aebab10-9621-44c8-fb22-a6e1ac345575"
      },
      "source": [
        "# example 1\n",
        "A = np.array([[1,2],[3,4]])\n",
        "print(A.shape)\n",
        "\n",
        "B = np.array([[5,6],[7,8]])\n",
        "print(B.shape)\n",
        "\n",
        "print(np.dot(A, B))"
      ],
      "execution_count": null,
      "outputs": [
        {
          "output_type": "stream",
          "text": [
            "(2, 2)\n",
            "(2, 2)\n",
            "[[19 22]\n",
            " [43 50]]\n"
          ],
          "name": "stdout"
        }
      ]
    },
    {
      "cell_type": "code",
      "metadata": {
        "colab": {
          "base_uri": "https://localhost:8080/"
        },
        "id": "U0XHdj4W6rjI",
        "outputId": "4f6b4051-ccac-4523-a81d-9fafc10e2b6a"
      },
      "source": [
        "# example 2\n",
        "A = np.array([[1,2,3],[4,5,6]])\n",
        "print(A.shape)\n",
        "\n",
        "B = np.array([[1,2],[3,4],[5,6]])\n",
        "print(B.shape)\n",
        "\n",
        "print(np.dot(A, B))"
      ],
      "execution_count": null,
      "outputs": [
        {
          "output_type": "stream",
          "text": [
            "(2, 3)\n",
            "(3, 2)\n",
            "[[22 28]\n",
            " [49 64]]\n"
          ],
          "name": "stdout"
        }
      ]
    },
    {
      "cell_type": "code",
      "metadata": {
        "colab": {
          "base_uri": "https://localhost:8080/",
          "height": 266
        },
        "id": "aldkfFWt8V_u",
        "outputId": "fb975e7e-8b19-4a7c-ef6f-4f2b715b7c1f"
      },
      "source": [
        "# example 3 : error case\n",
        "C = np.array([[1,2], [3,4]])\n",
        "print(C.shape)\n",
        "\n",
        "print(A.shape)\n",
        "\n",
        "# print(np.dot(A, C))"
      ],
      "execution_count": null,
      "outputs": [
        {
          "output_type": "stream",
          "text": [
            "(2, 2)\n",
            "(2, 3)\n"
          ],
          "name": "stdout"
        },
        {
          "output_type": "error",
          "ename": "ValueError",
          "evalue": "ignored",
          "traceback": [
            "\u001b[0;31m---------------------------------------------------------------------------\u001b[0m",
            "\u001b[0;31mValueError\u001b[0m                                Traceback (most recent call last)",
            "\u001b[0;32m<ipython-input-9-c43f20b8de1e>\u001b[0m in \u001b[0;36m<module>\u001b[0;34m()\u001b[0m\n\u001b[1;32m      5\u001b[0m \u001b[0mprint\u001b[0m\u001b[0;34m(\u001b[0m\u001b[0mA\u001b[0m\u001b[0;34m.\u001b[0m\u001b[0mshape\u001b[0m\u001b[0;34m)\u001b[0m\u001b[0;34m\u001b[0m\u001b[0;34m\u001b[0m\u001b[0m\n\u001b[1;32m      6\u001b[0m \u001b[0;34m\u001b[0m\u001b[0m\n\u001b[0;32m----> 7\u001b[0;31m \u001b[0mprint\u001b[0m\u001b[0;34m(\u001b[0m\u001b[0mnp\u001b[0m\u001b[0;34m.\u001b[0m\u001b[0mdot\u001b[0m\u001b[0;34m(\u001b[0m\u001b[0mA\u001b[0m\u001b[0;34m,\u001b[0m \u001b[0mC\u001b[0m\u001b[0;34m)\u001b[0m\u001b[0;34m)\u001b[0m\u001b[0;34m\u001b[0m\u001b[0;34m\u001b[0m\u001b[0m\n\u001b[0m",
            "\u001b[0;32m<__array_function__ internals>\u001b[0m in \u001b[0;36mdot\u001b[0;34m(*args, **kwargs)\u001b[0m\n",
            "\u001b[0;31mValueError\u001b[0m: shapes (2,3) and (2,2) not aligned: 3 (dim 1) != 2 (dim 0)"
          ]
        }
      ]
    },
    {
      "cell_type": "markdown",
      "metadata": {
        "id": "nDY_vNju85C8"
      },
      "source": [
        "# Matrix Multiply in Neural Network\n",
        "\n"
      ]
    },
    {
      "cell_type": "markdown",
      "metadata": {
        "id": "qXLG2cNo9z-x"
      },
      "source": [
        "![nn.png](data:image/png;base64,iVBORw0KGgoAAAANSUhEUgAAAKEAAADJCAYAAABL9lKBAAAGGHRFWHRteGZpbGUAJTNDbXhmaWxlJTIwaG9zdCUzRCUyMkVsZWN0cm9uJTIyJTIwbW9kaWZpZWQlM0QlMjIyMDIxLTAyLTI1VDExJTNBMzMlM0ExMS41MThaJTIyJTIwYWdlbnQlM0QlMjI1LjAlMjAoTWFjaW50b3NoJTNCJTIwSW50ZWwlMjBNYWMlMjBPUyUyMFglMjAxMF8xNl8wKSUyMEFwcGxlV2ViS2l0JTJGNTM3LjM2JTIwKEtIVE1MJTJDJTIwbGlrZSUyMEdlY2tvKSUyMGRyYXcuaW8lMkYxMy4zLjklMjBDaHJvbWUlMkY4My4wLjQxMDMuMTE5JTIwRWxlY3Ryb24lMkY5LjAuNSUyMFNhZmFyaSUyRjUzNy4zNiUyMiUyMGV0YWclM0QlMjJYXzZhZmZyQjJGZTZiMVg3Sll3ZCUyMiUyMHZlcnNpb24lM0QlMjIxMy4zLjklMjIlMjB0eXBlJTNEJTIyZGV2aWNlJTIyJTNFJTNDZGlhZ3JhbSUyMGlkJTNEJTIyN05UUnNhaURpaC1GeWVqVDlGdXYlMjIlMjBuYW1lJTNEJTIyUGFnZS0xJTIyJTNFN1ZsZGI5c2dGUDAxZnV4a3dCJTJGSlk1TjJuU1pOMmhTMTZ4NnBUVzBrTzg0d2FaeiUyQiUyQnVFQSUyRm9CVXlib29yclc4Uk55RHVYRFBQVEZ3N2FCNVh0MHh2RXElMkZGVEhKSE9qR2xZTnVIQWdEQk1WdkRXd2w0Q0ZmQWdtanNZUkFDeXpvSzFHZ3E5QTFqVW5aZTVBWFJjYnBxZzlHeFhKSkl0N0RNR1BGcHYlMkZZYzVIMVoxM2hoRmpBSXNLWmpmNmtNVThsT29GaGkzOGhORW4xekNDWXlwNGM2NGRWSkdXSzQyTFRnZEN0ZyUyQmFzS0xoczVkV2NaRFYzbWhjNTd2TWJ2YzNDR0ZueVl3YWthVGk5bnp4YzNkOSUyQiUyRmUzaUglMkJ1SFJYNTNwYnk4NEd5dEFxNGNHR1RDNGF4Y1A0bG1VamVCeG9UM0Rxemk0bHRObHBoUTVFVVlzMDFLT1Ztc2NGVDNiSVF5QkpieVBCTVdFRTFjcm1TeW5tbEY0c2JWQzJHY1ZHJTJGR0J4cldoTnBJa1JQT3R1SVJQU0JRUkN1bFFWZlptelp2bm9MU1RzbzBocFZTa3NaelM2Wm9LRDclMkZnbHQ0Rkxkd2xOeE9CdVlXV2R4dXg2cmJoc3V0d2ZWUTNIcEhjVHNLM1pyY05xUU54YTElMkZGTGRvak53aU9EQzNnY1d0VGRneXZxNFBCY0tLTWx5V05PcnpSQ3JLSHp2dFg2THRmdktWZFZOSDdtcGpxNDJsV1B4ajElMkJpTXFzMTIyTTdTNCUyQlRpU0d5ZFA0d0VpQUNLTll2STRWMmNZNVlRZnVpdGFTZTBrekIlMkZUOEkweGtpR09YM3BMM2RmRnRVTTN3c3FBbW4wMHVoRDZ5VXdoQ0REVktPNkJ4blRVV2c0QW9ZanlZUGxhQ2VxSnV6MzZ5eTg2T3lBenJ5THprNmdzOGxGWndkMDVnJTJCcHMlMkJhS3FzOFc2SjA2ZzFQRFVYaGVuVTMlMkZXNTNCTWV5YnA5TlpHUFljZ1lsM1ZwM3BPQzVDJTJCNWdicHlrMGE3OTc3d3NOVE0lMkY3UWdOMlZlc2l0QSUyQjhjNTVNYU9mZU9RRzBoS1lUMVNwTjNMQzVjUnZQYUxLc2hTZlNTNWdBNm5zNGpYQjJyVHB5R3NmMThCa2pKWDNGVHp0WHRWSldkU1M3MlB5WjQ5JTJGVXZ0YThLR1hWSEp6b1htJTJCY244R2VXaCUyRmNJdzdvdnEyRGY3clhBN3ZZWiUyRiUyQmZSOGN5TXFRTGhtYlpMazJoOGJOczFxM1IwQ3piUlNwdiUyRkN4N0JzdiUyQjBDemJKUnAlMkYlMkZDeWJXcDRPemJKZG9Bakd6N0paUGRwVDFUNFJ5OEpzdiUyRjdLSTBuN0NSM2QlMkZnRSUzRCUzQyUyRmRpYWdyYW0lM0UlM0MlMkZteGZpbGUlM0XIaGHQAAAZW0lEQVR4Xu2dd4xVxRfHzwIuTUEURVcFFERBQZHQhBh/IOAfUm0YAkpZgtRgoiCgIFhAXZUaC6sCEhAEKQqISBEREAtFjVgoFjQCSgRBiuwv34n35e7lvb135s7cO3PfTLKh7L3zZs583jlTzpyTU1RUVES2WAl4JPDjjz/SqlWraNOmTfTll1/S3r176cCBA3TixAnKzc2lqlWrUo0aNejaa6+lZs2a0S233ELVq1cXkmOOhVBIbol96dVXX6VZs2bRjh07qF27dtSiRQtq0KABXX755Qy8smXL0vHjxxmQu3fvpu3bt9OGDRvovffeo/r161P37t2pV69eXPKxEHKJK7kPv/jiizRhwgQGEiDq1KkTd2cXLVpEgBgADxs2jPr16xeoDgthIDEl96EvvviChg4dyjTcI488Qi1btgzd2Y8++ojGjRvHNObzzz9PDRs2LLFOC2FokZtbAbRW7969aerUqdS/f3/pHZk2bRoNGDCACgsLSzTRFkLpojejwieeeIJmzpzJ5n9NmjRR1uhPPvmEzRN79OhBI0eOTPs5FkJl4te3YgD49ttv0+LFi+mSSy5R3tBffvmFOnbsSJ07d04LooVQ+RDo9QEwwViArF69OhIAnd4DxFatWrEFi3f1bCHUixGlrcEi5IYbbqDNmzcrNcGZOgHT3LRpU/r888+LLVYshEqHXa/Kb775ZrrrrruULEKC9hSLlXnz5tHatWtTr1gIg0rP8OewD4h5IDaV4y7YBMf80NlHtBDGPSIRfT5OPLASlrEPGLbJ2EfEihknLigWwrASNeB9LEZwmrFkyRJtWtuhQwd2KoNFioVQm2FR15D//e9/NGTIEKGjOFWtwpdi4sSJtGbNGguhKiHrUi+8YbAihsOBbgUOEVgpW02o28hIbg9M8QcffECzZ8+WXHP46rp160atW7e2EIYXpd419O3bl66//vpYt2UySQjbNVu3brUQ6o1Q+NbdeOON9PTTT3OvigsKCmjXrl3MuQEFfoN9+vSh999/nypXrhy+YUSEVfJDDz1kIZQiTY0rwdkwTip4z4hXrlzJnFr/+usvOuecc2js2LGE/wM4sgqO8uA8YeeEsiSqaT3wEwRI+JOnnDx5ks4//3yaMWMG21i+5pprmFuW2+UL9VaqVImn2mLPwt8Q71sIhUUY/4twxYKZhKZKVw4fPkwwq6LXiADcsWPHaNSoUVS7dm2C5srLy6Pvv/+e1q1bR8899xx99dVXoQSRk5NjIQwlwZhf7tKlCy1dupROnTp1RktKlSrF4CtdujQdOXKEWxOiQnjaYEN59OjR9M4777A9PZTx48czF34sKsJAaDVhzADJ+nhACIdRaCwMqlOgYcqXL89+tm3bxj0nRD2A+7zzziNo1Jdffpny8/NT9UMD33PPPaEgtHNCWRTEXA8GEvc5pk+fTv/++2+x1lSsWJGuuuoqdjIhemY8ePBgmjx5MtvsxhzRKTIgtKvjmOEJ+/GAD3My/OBKJqDwFmhDbKuE2SccPnw47du3j10FcBcZENp9wrAUxPS+G74HHniA8FOnTh06evQoaxHmgqdPn2Z/x7EYvKhFTkwOHTrE9hefeuqpM5xQUbcMCO2JiQ9EMEEVKlRgt9F0KOngc+/91a1bl/bs2UP//PMPmwdijggNiHskImfH2H7Bdc327duz971FBoT27DgDWThQh+PniBEj2H0IrATjLH7wOW175ZVX6JlnnmGOonDfX7hwIVvZzp8/n6wXTZwjKPDZU6ZMofXr1zP38549e8YGYVD4nC5Ca61YsYJ9gRA3Bk6sAwcOpEmTJrGoCNafUACGuF/BXYwrrrgicgh54YOcsFeHwEQIXISTDRTMFW+99VZq27Yt+7f1rI6bKIHPjxpCEficbjmwAbxMxd4xEYAg7leigjAMfJCR2wz7yczetvOTkGa/Vw1hWPgymeGSxGjvHWsGmV9zVEEoAz4eM+ztp43A4DfyGv3+7rvvZgsTbNbKKDLh4zXD3vbbWDQyRtSgOmTDJ2KG04nLRuUyCCLRpqqAL4wZTtcPG59QdHQ1f08lfGHNcDrR2UitmgPF0zzV8Mkyw5n6ZGNW84y2Zs9GAZ9sM1ySCI2K3h9lngvNuGPNiRI+FWbYT6ZRji/3Rac4vil+Aovy91HDp9oMRym7TJ8VGMI45ww6CCoO+KI0w3HK2BdCHVZPcQooTvjiMMNxyLpECHXZR4pDMHHDlw1m2BnXjBDqtKMeJYQ6wJctZrhECHU7W4wCQp3gyxYznBFCHb0sVEKoG3zZZIbTQqirv5kKCHWEL9vMcFoIdfW8lQmhzvBlmxk+A0Kd7yDIgFB3+LLRDJ8Boc63scJAaAJ82WqGi0Go+71UEQhNgi9bzXAxCHW/oc8DoWnwZbMZTkG4d+/eIpFYJTxgiD7rxCqpXr26bxUmwpftZjgFYWFhYZFI1CZfKiQ84ERt8ubHdVdtMnzZboZTEObn5xeFiV8ngbWMVTjx6xAl1Fvihm///v3sJh6ioN50003UtWtXFpCSp6QL38HzflKezWnevHmRSJ6LuXPnEoIHLViwgKpVq8YGBDGM58yZw2LkyShOJM+PP/44VV3c8DkNadSoEQun++CDD7L4fYiEcPDgQRZeN2gJEr4jaF0mP5eTl5dXJJLnAnHwrrvuOmrevDkLvoO/IyKUE4BHhlAAHPJc4E9d4EO/fv/9d/bFQ5sQzR5heqtUqcIiYN13332Bus4TviNQhQY/lJObm1skkucCfd6wYQOLhXzppZcy+AoLC4uJQkaeC6RHGDRoEAuL60Qm5U0MI3t8EA0fQSKRLQnlm2++IQSphGlG6F6/Ys1wcQnlECHTQJGf3DL+HvAh1RQSKNesWZM9JzvPRb169VjMZJhA3cqqVasIC6jGjRuzNAtBijXDHgjDaMItW7YwcwltBTMEc4QiM88FItBfdtllLBSuLpoQfcR8EDmEsXh68skn2dywTJkyvgxaM3ymiITnhCdOnKCGDRsyc3znnXdSmzZtWN6zFi1asE+REdPYmRMiAGSzZs1YUhhdzDK0H4JSzps3L/Cq2Jrh9N9R4dUxVsP4gRlGfgtowo0bN7JMP7m5uVIgdFbHiMfsRCI999xzU6kT4tKMCMeLqQd2BpzIqBDvhRdeyBYomYo1wxkgVLVPKEMTuvcJoQGRZRJxmVHiXC0DvjvuuOMMiSItqzsBofsBa4Yzz1RyVJ2YyIDQe2KC1Kf4cYfFjRNG3wngfw9YM1yypHJUnR3LgNB7dlzSYOoMozXDPhBif8YkLxqvWfZ2TzcYrRn2txfsyqdp/oTpzLKOMFoz7A8gnkjdOzbJs5pncOPUjNYMc0Jo2h0TP7Mct2a0ZjgYgMU0If5h2m07EU0ThWbk0dTBhyq5TxYLA2LaveMwg60SRpEvR3IR8+/ZGbFoTIvAwGuWVZtpa4b9ofM+kTYgkmmxaGRoHhmaMYxm5h+65LyRiKhcMgc/DIwyvgzJQSt4TxITnzCsWQ5rpqMywzt37qQXXniBOY5gIYm7LY4fZ/Bh1+vJREVqVaGJgmhGmZq4JDxOnjzJPJZatWrFHGlxn+fAgQP04Ycf6kUVZ2t8IXTqMyFmtUoYSoJRBfzpxvHTTz9lHtyAEQ60zvUK3gtWnIwofzwwhE5LdI/eL9ss+5lpeJXDjxKXvFQXXMPAparjx4+zG37jxo2jw4cPs883uXBD6HQ2yjwXvAKOQjNBM44cOZJmzJhB9957L2FHIaoLWM5+LuQycOBAdt00yNUCHjlGOb7CEPJ0KOpnVZpld18Ae9OmTWO5doA7LsuWLaOOHTvSunXr2AV8GSUOS5dICDEYqs2ydzUcZAETFpI333yTXSnAvRYUmOfKlStz3XfO1IY45/yJhRDCVmWW43Ku3bVrF9WqVYtB2L59e3rrrbeoe/fuhJAkcAAWKTrkqUk0hKrMchC4VWnGvn37Ei5+oSAzPa6a9uvXT4Q/0iVPTaIhVGGWeTelVcCIMCSIblG7dm0h+PCSTnlqEg+hTLMcRrOqgFGUQN18A7ICwjDweFfDCHvivu3HC0LcMOroJZUVEMowy7xm2A/OOGDU1V80ayAMY5ZladJ0YEYJo66e81kFoShMQVbDfprP7/eqYdT5DlFWQShilmWb4bhg1Pk2ZdZByGOWRTWnH2hBfi9TM+p+rzwrIQwKVxRm2A/IoDAiuDxOTuBU4S26R9jISgiDmOWozXBYGBGu+KeffqLvvvuOLr744lR18IbRPU9N1kJYklkOqin9wFHx+0yaEfGz4fSKP9euXZv6aJhi3fPUZDWEmWBTYYaPHTvGItpioxvu+WGLF0a4c3322WdUqVIlFiMRAUxRcNase56arIYwnVlWZYaHDh3KLijB8+X2228Py2DqfcAID2tkToCPIUr58uWZp81tt93GNKNInpqCggKC1w4Cf6Ig1F+fPn1YkHy4j8koTiTerIfQbZYR7csJS+wOAxxW4MuXL6dRo0bRoUOHGBAyIUTGALhzQdPC7d8pCKsMTY87KSJ5ahAVF/KAowSuMIwdO5ZFygU4sooTk9xCSMQGC/Ah6HuXLl1CnQ17BwgeL/Xr1yekmkCIYUT6lwUh2goIcfHJW+Duj+sGv/76KwOpbNmyXOw4N/twfaFz584sNveAAQNS4ZCPHj3K6qtQoQJXve6H8aXB9MFC+J9U4CaP9GXY5pBV4PmMepH16uGHH2ZR/mVCiPkeLjxBU6UruASFeaJonhrMLaFhocXhNgbNdcEFF7Ag+QgeD39GXLzCVKBcuXJCYsvJybEQQnKqNOHs2bPp/vvvZ/PAs846i3r06EG9e/dmd4avvPJKoUFzvwRNuHTp0tRc0P270qVLs0xbopoQda1evZo6depEo0ePZhp3zZo17I7ziBEjUmYZe5CAFYsu3mI1oUtizmpY9pwQG8gTJ05MfdLXX3/N0kxghTxs2DDeMUv7PCAE3LLnhPgwLHSQMBIaFX3Jz89n/4e8hmeffTbThphqIJ9LkJzU3g7YOeF/EvGuhlVekEISykcffVTanBBdULU6doAZPHgwTZ48mUV6QPQHp+DSFaAcM2aM8Bzaro5dZhjfZPdqWMU+IQZPJoRR7RMOHz6c9u3bx3ILOgXzWkw1Zs2axU5jRIuTpyarFyaZYLMnJpTaTsKmNxY/SCGHgikF5oHffvtt6P1CJ09N1kLotymt0iyLaA4/RwbZZ8fY1oGMcLXUre1ef/116tmzZ7Eu4GjQ+39B+ujkqclKCINqOlVmOcgAOc/4wec8h2ug2JO0XjQ80o3x2aBwBYVVRVeCwhfks60/YRApRfiMnxn2NiVqsywTPndfrGd1hJCV9FGimi2o5gzTTVXwOW2yd0zCjI7Ed0VhEoU3SNNVw+dug71tF2REFD7Da4ZVm+Uo4XP6Yu8dKwTMr2pZmkxUk7rbFwd87s+3ERj8aFH0exnwoGlhYI4bPrdobSwaRaBlqjasGQ5rlnWCzwsijuJw9NakSRNlowKHWjjdwski3R4mPjjRm9VhNFdJoxJEs+oKn9c0w7UMLvxwx5JdcDYMR1j4G/bq1Stj9YmGMAgsIoKPK1KrSFv93rGRWv0kFOL3ss2wn1k2QfOVJE4bszoEbOleVWWGvZ8VZ/R+ySJLVWdU9P4o81zwClyVGfZutcSVx4RXHiLPRzm+3HPCOL4pPEJUbYa9Zhdu7ps3b6YVK1bwNNM+65JAYAjjnDMEHTGVZrikOV8UmjeoDEx8zhdCHVZPQQWrAoYgCw6V8Aftu8nPlQihLnkugggYLldIcigr0WEQ+NztitrlK4hMTHkmI4Q65bnwE6ZMTcQLn7ttKjSxX9+T8Pu0EOp2tugnaBmDHwY+p30yvwx+fU7S78+AUEcvi5IEHtYMy4DPmuVwX4liEOrqb5api2E0j2z4rFkWB7EYhLp63mbqnogZVgmfNctiIKYg1PkOQrqu8ZrhKOBztxOb5lip201sfzBTEOp8G8vbDR4zHDV81iz7Q+d9gkGo+71Ub6ODmOE44bNmmQ9EBqHueS68q8+SNqV1gM+aZU4I9+7dW6R7ngsn9p2pzqRBNDffsCXr6ZzCwsIi3fNcOK7h6QZTN82XDg+eOWyy8ArWm5z8/Pwi3fNcIEqodzVsAnwqzPKiRYtY6F53QTAkxH42teQ0b968SCTPxdy5c2nKlCm0YMECqlatGkvesnXrVpozZw6VKlVKijycSJ4QspPaAakRACR+EHYXP4hSb0KRYZZxMQnBypGfxCkIoG5yycnLyysSyXOBuMWIPIrI9AABf8eCoW3bttLk4cQ0Rlzkpk2b0pEjR4yET+ZquWXLlvT4448TDhaSUnJyc3OLRPJcQAAbNmwgCAVR4gEfrvY5RVaei4oVK7L6EaTbNM2XDpKwm9jI+wEtuHv3bpaxCVoQqSlMLphIYJdGuA+AD6mmIJSaNWuyxC6y81wgnjSSujRq1Ei4nTq9KGqWkRGqSpUq1K9fP5YfD196WJ+ff/7ZmClJunEIpQm3bNnCbu8jmQvAmzRpkvQ8F6h70KBBRpthr+BFV8tQFn/88Ucqiv6ff/7JUjy89tprTP6mFuE54YkTJ1gwbZhjJFJp06YNS7CCuZvsPBeYG5q2GvYDQsQsI+EhgpgjPRkKFijQjG+88QZ16NDB7yO1/b3w6hirYfzADCO/Bb6JGzdupB07dlBubi7JzHOBdF9OSRKMvGb5t99+Ywm1sTOBfHPYuoKV+Pvvv0PlmIubTiX7hLLzXEDY3pIEGEXM8rPPPssybiLLEspLL73EFicmF+knJiryXJQUTMd0GEXMMhZ/MM01atQQTmyoE7Q5ss+OVeS5CJI3zWQYec2yTgDJaItxXjR+nTYRRhGz7CcHk35vpD9hEAGbBqOIWQ4iBxOeMdKzmkewJsGYrWbZ2DsmPCDiWRNgzFazbPRtO14QTYAxG82y0feORSA0YdM728yy8REYwoCoq2bMNrOciFg0YUHUEcZsMsuJiMolA0IdzXS2mOXExCeUCaIumjFbzHKiIrXKBlEHGLPBLPtC6AysCTGrVUCog5lOulkODKEzGLpH71cJYlyaMelmmRtCZ5CjzHOhGiyR+qM+gYnaLEc5vsIQigxcEt+JEsYozHIcls5CKOmbEQWMKs1ynHN+C6EkCKNawMg2yzrkqbEQSoYwChhlmWVd8tRYCBVBqBJGGWZZpzw1FkIPhLhEhNt97777LlWtWpWGDBkiJfKD7DljmESSuuWpsRB6IBwzZgzNmjWL8OcPP/xAjz32GCH8RuXKlaXoTJkwiphlHfPUWAhdaB07doxdIkeUA0SXQEF0A0TAQlAmmUUGjLxmWdc8NRZCF1k7d+6kq6++mhAPcebMmSzcXX5+PjVo0EAmf8XqCgsjj1nWNU+NhdCFxMqVK6ldu3ZUr149FtVgyZIlhKBP+/fvp7JlyyoDMexxYBCzrHOeGguhCy0sRhDzb/369SzQkxNwaPbs2dS+fXulEIZZTaczy4jl6MCJunXOU2MhdKHlzJkQkNOJ+oAAlCNHjqQePXpEAqEojG6zjPYjViSCJSFcn+55aiyELrQQ7q5WrVos1B2CDq1Zs4aFXDt48CCLAxhHCTpnxLYSgiUhgOamTZsIAdY7duxI8+fPJ93z1FgIPWQBPAyeE/Vq/PjxNGzYsDj441rA1K1bl/bs2cNiQ5YvX56w0kdWhsWLF5PueWoshGnwgkZE1Ku8vDxCjGidSjrNWKdOHXJihCNzwunTp1mTsdk+YcIE0j1PjYVQJ8I42uKGEdkNEJzUW5DbpE+fPkwj9u/fn6P2aB6dNm0aSztiIYxG3so+BTCOGzeOpk+fzlbz7oLMB1hYTZw4ka32eUpBQQGzBlOnTmWvbd++nQGNIPmyTo+cPDUWQp6R0fBZZHfq3r07mwMeP3481UJoQcwN8bNt2zbu6P7OninSiyB4PRZq+D+AI6s4eWoshLIkGkM9Xbp0YSnG4HThLZgbItp/6dKlWRIi3s121IlY5EjdgfjYSOMxYMCAlFnHwg2AlylTRrjn+NJgzm0hFBZh/C8CEMwFoanSFWgxpF8TzVODeSQ07KhRo6h27dosshnSuiF7ABY/AAib4Fj8iBZobAuhqPQMeQ8aUDRj1+rVq6lTp040evRopnGxfQVzjL1HzDOhDQHigQMHUrlVeMRiNSGPtAx+FsknRXIXosunTp1im/SADZvhcOZwyvLly1nmAGxnLVu2TEhCdk4oJDbzXkIePJEsrk5PBw8eTJMnTz5D20Ezwu9y7dq1bOFz0UUXcQvHro65RWbmC/AGCrNPOHz4cNq3bx9zbUOBVsU8rnHjxuzfyPIK7/OuXbtyC8juE3KLzMwX4LwgcmICb3JoUGTtcjv5wgxjPrhw4UImEOxDIskj3N94S7du3ah169Z2YcIrONOeRyQFkbNjLGbgmQMXNrzvFBwPIoXcunXr2H8BJKzARQqOFQG4XR2LSM+wd1R40SDbKK5ClCtXTkga8PKBRsWK20IoJEKzXrL+hGaNV2Jbaz2rEzu05nTM3jExZ6wS3VJ72y7Rw2tG5+y9YzPGKfGttBEYEj/EZnTQxqIxY5wS30oblSvxQ2xGB218QjPGKfGttJFaEz/E5nTQxqw2Z6wS31IbvT/xQ2xOB6PMY/J/QhZn2TVq6oQAAAAASUVORK5CYII=)"
      ]
    },
    {
      "cell_type": "markdown",
      "metadata": {
        "id": "u1p6nA3aMCeG"
      },
      "source": [
        "각 신경망의 가중치들을 행렬도 나타내면 다음과 같다.\n",
        "\n",
        "$$\n",
        "\\begin{pmatrix}\n",
        "1 & 3 & 5 \\\\\n",
        "2 & 4 & 6\n",
        "\\end{pmatrix}\n",
        "$$   \n",
        "\n",
        "이때 X의 입력 값의 수는 2, 출력 값 Y는 3개이다.  \n",
        "행, 열 값이 같으므로 곱연산이 가능하다.  \n",
        "\n",
        "\n",
        "$$\n",
        "X \\quad W \\quad = \\quad Y \n",
        "$$  \n",
        "\n",
        "$$\n",
        "2 \\quad 2 \\times 3 \\quad = \\quad 3\n",
        "$$"
      ]
    },
    {
      "cell_type": "markdown",
      "metadata": {
        "id": "_yYucN9zMavo"
      },
      "source": [
        "## Neural Network matrix multiply implementation"
      ]
    },
    {
      "cell_type": "code",
      "metadata": {
        "colab": {
          "base_uri": "https://localhost:8080/"
        },
        "id": "-CAR5iFk8ygf",
        "outputId": "e0297ada-a051-48ef-93a6-83c37b735f4e"
      },
      "source": [
        "X = np.array([1,2])\n",
        "print(X.shape)\n",
        "\n",
        "W = np.array([[1,3,5],[2,4,6]])\n",
        "print(W)\n",
        "\n",
        "print(W.shape)\n",
        "\n",
        "Y = np.dot(X, W)\n",
        "print(Y)"
      ],
      "execution_count": null,
      "outputs": [
        {
          "output_type": "stream",
          "text": [
            "(2,)\n",
            "[[1 3 5]\n",
            " [2 4 6]]\n",
            "(2, 3)\n",
            "[ 5 11 17]\n"
          ],
          "name": "stdout"
        }
      ]
    }
  ]
}