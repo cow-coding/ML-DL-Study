{
  "nbformat": 4,
  "nbformat_minor": 0,
  "metadata": {
    "colab": {
      "name": "perceptron.ipynb",
      "provenance": [],
      "collapsed_sections": [],
      "include_colab_link": true
    },
    "kernelspec": {
      "name": "python3",
      "display_name": "Python 3"
    }
  },
  "cells": [
    {
      "cell_type": "markdown",
      "metadata": {
        "id": "view-in-github",
        "colab_type": "text"
      },
      "source": [
        "<a href=\"https://colab.research.google.com/github/cow-coding/ML-DL-Study/blob/master/DL%20from%20Scratch/Chap02/perceptron.ipynb\" target=\"_parent\"><img src=\"https://colab.research.google.com/assets/colab-badge.svg\" alt=\"Open In Colab\"/></a>"
      ]
    },
    {
      "cell_type": "markdown",
      "metadata": {
        "id": "Dvr1pla4fcCn"
      },
      "source": [
        "# Library import"
      ]
    },
    {
      "cell_type": "code",
      "metadata": {
        "id": "q2r63lYNfesh"
      },
      "source": [
        "import numpy as np\n",
        "import matplotlib\n",
        "import matplotlib.pyplot as plt"
      ],
      "execution_count": null,
      "outputs": []
    },
    {
      "cell_type": "markdown",
      "metadata": {
        "id": "JkculEHSbIew"
      },
      "source": [
        "# Perceptron\n",
        "가중치(weight)와 입력신호(x)의 곱들로 연산  \n",
        "임계값(thetha) 비교해서 0또는 1을 출력"
      ]
    },
    {
      "cell_type": "markdown",
      "metadata": {
        "id": "lZTJEQsBeCZc"
      },
      "source": [
        "## 설계 수식\n",
        "$$\n",
        "y = \n",
        "\\begin{cases}\n",
        "0 \\quad (w_1x_1 + w_2x_2 \\leq \\theta)\\\\\n",
        "1 \\quad (w_1x_1 + w_2x_2 \\gt \\theta)\n",
        "\\end{cases}\n",
        "$$"
      ]
    },
    {
      "cell_type": "markdown",
      "metadata": {
        "id": "aU-7SVEabiJB"
      },
      "source": [
        "## AND Gate\n",
        "|$x_1$|$x_2$|$y$|\n",
        "|:---:|:---:|:---:|\n",
        "|0|0|0|\n",
        "|1|0|0|\n",
        "|0|1|0|\n",
        "|1|1|1|\n",
        "\n",
        "AND Gate는 두 입력($x_1 , x_2$)이 모두 1인 경우만 1을 출력한다.  \n",
        "AND Gate perceptron 설계는 반드시 입력이 1인 경우에 임계값을 넘는 방식으로 설계한다."
      ]
    },
    {
      "cell_type": "code",
      "metadata": {
        "colab": {
          "base_uri": "https://localhost:8080/"
        },
        "id": "0osz2MzDaN16",
        "outputId": "24f93897-c1d6-4204-c5df-fc65eddd3f5a"
      },
      "source": [
        "def AND(x1, x2):\n",
        "  w1, w2, theta = 0.5, 0.5, 0.7\n",
        "  tmp = x1 * w1 + x2 * w2\n",
        "\n",
        "  if tmp <= theta:\n",
        "    return 0\n",
        "  elif tmp > theta:\n",
        "    return 1\n",
        "\n",
        "print(AND(0, 0)) # 0을 출력\n",
        "print(AND(1, 0)) # 0을 출력\n",
        "print(AND(0, 1)) # 0을 출력\n",
        "print(AND(1, 1)) # 1을 출력"
      ],
      "execution_count": null,
      "outputs": [
        {
          "output_type": "stream",
          "text": [
            "0\n",
            "0\n",
            "0\n",
            "1\n"
          ],
          "name": "stdout"
        }
      ]
    },
    {
      "cell_type": "markdown",
      "metadata": {
        "id": "UlhxbNhddgj-"
      },
      "source": [
        "### Wegiht And Bias\n",
        "가중치와 편향을 도입한 퍼셉트론을 만들어보자\n",
        "\n",
        "**수식**  \n",
        "\n",
        "$$\n",
        "y = \n",
        "\\begin{cases}\n",
        "0 \\quad (b+w_1x_1 + w_2x_2 \\leq 0)\\\\\n",
        "1 \\quad (b+w_1x_1 + w_2x_2 \\gt 0)\n",
        "\\end{cases}\n",
        "$$  \n",
        "\n",
        "앞서 작성한 수식과 동일하다. $\\theta$를 이항시켜서 $b$로 기호를 변경하면 동일한 수식이다."
      ]
    },
    {
      "cell_type": "code",
      "metadata": {
        "colab": {
          "base_uri": "https://localhost:8080/"
        },
        "id": "f-P2_JlTddAJ",
        "outputId": "bc47512b-9519-4452-8ebf-b0749271629e"
      },
      "source": [
        "x = np.array([0, 1])         # input\n",
        "w = np.array([0.5, 0.5])  # weight\n",
        "b = -0.7                    # bias\n",
        "\n",
        "print(w * x)\n",
        "\n",
        "print(np.sum(w * x))\n",
        "\n",
        "print(np.sum(w * x) + b)"
      ],
      "execution_count": null,
      "outputs": [
        {
          "output_type": "stream",
          "text": [
            "[0.  0.5]\n",
            "0.5\n",
            "-0.19999999999999996\n"
          ],
          "name": "stdout"
        }
      ]
    },
    {
      "cell_type": "markdown",
      "metadata": {
        "id": "nAyAjpA2gE-F"
      },
      "source": [
        "AND 게이트를 수정해보자"
      ]
    },
    {
      "cell_type": "code",
      "metadata": {
        "id": "dYEEogUCf4Qn"
      },
      "source": [
        "def AND(x1, x2):\n",
        "  x = np.array([x1, x2])\n",
        "  w = np.array([0.5, 0.5])\n",
        "  b = -0.7\n",
        "\n",
        "  tmp = np.sum(w * x) + b\n",
        "\n",
        "  if tmp <= 0:\n",
        "    return 0\n",
        "  else:\n",
        "    return 1"
      ],
      "execution_count": null,
      "outputs": []
    },
    {
      "cell_type": "markdown",
      "metadata": {
        "id": "0vsJLJqwgbfQ"
      },
      "source": [
        "## NAND Gate\n",
        "\n",
        "|$x_1$|$x_2$|$y$|\n",
        "|:---:|:---:|:---:|\n",
        "|0|0|1|\n",
        "|1|0|1|\n",
        "|0|1|1|\n",
        "|1|1|0|\n",
        "\n",
        "NAND Gate는 두 입력($x_1 , x_2$)이 모두 1인 경우만 0을 출력한다.  \n",
        "NAND Gate perceptron 설계는 편향($b$)이 음수인 AND Gate와 반대로 양수로 바꿔주면 된다.  \n"
      ]
    },
    {
      "cell_type": "code",
      "metadata": {
        "id": "9-L_YGNCgWa7"
      },
      "source": [
        "def NAND(x1, x2):\n",
        "  x = np.array([x1, x2])\n",
        "  w = np.array([-0.5, -0.5])\n",
        "  b = 0.7\n",
        "\n",
        "  tmp = np.sum(w * x) + b\n",
        "  if tmp <= 0:\n",
        "    return 0\n",
        "  else:\n",
        "    return 1"
      ],
      "execution_count": null,
      "outputs": []
    },
    {
      "cell_type": "markdown",
      "metadata": {
        "id": "htiSDJSzhIRK"
      },
      "source": [
        "## OR Gate\n",
        "\n",
        "|$x_1$|$x_2$|$y$|\n",
        "|:---:|:---:|:---:|\n",
        "|0|0|0|\n",
        "|1|0|1|\n",
        "|0|1|1|\n",
        "|1|1|1|\n",
        "\n",
        "OR Gate는 두 입력($x_1 , x_2$)이 모두 0인 경우만 0을 출력한다.  \n",
        "OR Gate perceptron 설계는 AND Gate 설계와 반대의 느낌으로 설계하면된다."
      ]
    },
    {
      "cell_type": "code",
      "metadata": {
        "id": "ho5QaZz1hHg4"
      },
      "source": [
        "def OR(x1, x2):\n",
        "  x = np.array([x1, x2])\n",
        "  w = np.array([0.5, 0.5])\n",
        "  b = -0.2\n",
        "\n",
        "  tmp = np.sum(w * x) + b\n",
        "\n",
        "  if tmp <= 0:\n",
        "    return 0\n",
        "  else:\n",
        "    return 1"
      ],
      "execution_count": null,
      "outputs": []
    },
    {
      "cell_type": "markdown",
      "metadata": {
        "id": "oRkrZv66kre5"
      },
      "source": [
        "## XOR Gate\n",
        "\n",
        "|$x_1$|$x_2$|$y$|\n",
        "|:---:|:---:|:---:|\n",
        "|0|0|0|\n",
        "|1|0|1|\n",
        "|0|1|1|\n",
        "|1|1|0|\n",
        "\n",
        "XOR Gate는 일반적인 방식으로는 만들 수가 없다.  \n",
        "이유는 간단한데, 우리에게 주어지는 입력값은 다음과 같이 4개가 주어진다  \n",
        "(0, 0), (0, 1), (1, 0), (1, 1)  \n",
        "이 입력에 대해 XOR을 만족하기 위해서는 선형 그래프로는 구분할 수 없다.  \n",
        "그래서 비선형인 곡선 형태로 그려야한다. "
      ]
    },
    {
      "cell_type": "markdown",
      "metadata": {
        "id": "fkpTEcOAruHi"
      },
      "source": [
        "![Unknown.png](data:image/png;base64,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)"
      ]
    },
    {
      "cell_type": "markdown",
      "metadata": {
        "id": "LVHWOSzmr4nd"
      },
      "source": [
        "그렇다면 선형을 비선형으로 바꾸는 방법이 있을까?  \n",
        "지금까지 만든 퍼셉트론은 모두 선형식을 가진 퍼셉트론이었다.  \n",
        "이런 선형식들을 비선형으로 나오게하려면 어떻게 해야할까?  \n",
        "기존에 존재하는 게이트들을 섞으면 된다.\n",
        "\n",
        "일종의 합성함수와 같다고 생각하면 편하다."
      ]
    },
    {
      "cell_type": "markdown",
      "metadata": {
        "id": "yw0ZmlxespzE"
      },
      "source": [
        "|$x_1$|$x_2$|$s_1$|$s_2$|$y$|\n",
        "|:---:|:---:|:---:|:---:|:---:|\n",
        "|0|0|1|0|0|\n",
        "|1|0|1|1|1|\n",
        "|0|1|1|1|1|\n",
        "|1|1|0|1|0|\n",
        "\n",
        "기존에 제작한 NAND와 OR로 두 입력을 넣고  \n",
        "두 게이트에서 나온 결과를 AND게이트릐 입력으로 넣으면된다"
      ]
    },
    {
      "cell_type": "code",
      "metadata": {
        "id": "Al6F7Ak0pucu"
      },
      "source": [
        "def XOR(x1, x2):\n",
        "  s1 = NAND(x1, x2)\n",
        "  s2 = OR(x1, x2)\n",
        "  y = AND(s1, s2)\n",
        "\n",
        "  return y"
      ],
      "execution_count": null,
      "outputs": []
    },
    {
      "cell_type": "code",
      "metadata": {
        "colab": {
          "base_uri": "https://localhost:8080/"
        },
        "id": "AKrvRJVDtNMx",
        "outputId": "bb88b566-c546-42c3-f16e-9509845e7e91"
      },
      "source": [
        "print(XOR(0, 0)) # 0을 출력\n",
        "print(XOR(1, 0)) # 1을 출력\n",
        "print(XOR(0, 1)) # 1을 출력\n",
        "print(XOR(1, 1)) # 0을 출력"
      ],
      "execution_count": null,
      "outputs": [
        {
          "output_type": "stream",
          "text": [
            "0\n",
            "1\n",
            "1\n",
            "0\n"
          ],
          "name": "stdout"
        }
      ]
    }
  ]
}
