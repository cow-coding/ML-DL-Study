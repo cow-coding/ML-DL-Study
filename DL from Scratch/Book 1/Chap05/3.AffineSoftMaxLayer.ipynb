{
  "nbformat": 4,
  "nbformat_minor": 0,
  "metadata": {
    "colab": {
      "name": "3.AffineSoftMaxLayer.ipynb",
      "provenance": [],
      "authorship_tag": "ABX9TyPHYygQMCTgLhUzjNgTn06O",
      "include_colab_link": true
    },
    "kernelspec": {
      "name": "python3",
      "display_name": "Python 3"
    },
    "language_info": {
      "name": "python"
    }
  },
  "cells": [
    {
      "cell_type": "markdown",
      "metadata": {
        "id": "view-in-github",
        "colab_type": "text"
      },
      "source": [
        "<a href=\"https://colab.research.google.com/github/cow-coding/ML-DL-Study/blob/master/DL%20from%20Scratch/Book%201/Chap05/3.AffineSoftMaxLayer.ipynb\" target=\"_parent\"><img src=\"https://colab.research.google.com/assets/colab-badge.svg\" alt=\"Open In Colab\"/></a>"
      ]
    },
    {
      "cell_type": "markdown",
      "metadata": {
        "id": "DNV7lda9HheM"
      },
      "source": [
        "# Library import"
      ]
    },
    {
      "cell_type": "code",
      "metadata": {
        "id": "tuiTb7jxHhSD"
      },
      "source": [
        "import numpy as np"
      ],
      "execution_count": 1,
      "outputs": []
    },
    {
      "cell_type": "markdown",
      "metadata": {
        "id": "7Ll_2w57Hm0H"
      },
      "source": [
        "# Affine Layer"
      ]
    },
    {
      "cell_type": "markdown",
      "metadata": {
        "id": "zbXekBoGH1nv"
      },
      "source": [
        "순전파를 진행할 때는 행렬의 곱을 활용하였다.  \n",
        "행렬 곱의 핵심은 차원의 원소 수 일치이다.  \n",
        "이렇게 각 형상이 일치하는 두 행렬 곱 연산을 하는 것을 기하학적으로는 **어파인 변환 (affine transformation)**이라고 한다."
      ]
    },
    {
      "cell_type": "code",
      "metadata": {
        "colab": {
          "base_uri": "https://localhost:8080/"
        },
        "id": "Ra3ThaIjHH70",
        "outputId": "23c32933-a2b5-48f1-ad41-3f383ddf20c1"
      },
      "source": [
        "X = np.random.rand(2)\n",
        "W = np.random.rand(2, 3)\n",
        "B = np.random.rand(3)\n",
        "\n",
        "print(f\"Input shape : {X.shape}\")\n",
        "print(f\"Weight shape : {W.shape}\")\n",
        "print(f\"Bias shape : {B.shape}\")\n",
        "\n",
        "Y = np.dot(X, W) + B\n",
        "print(f\"Output shape : {Y.shape}\")\n",
        "print(\"\\nY = X · W + B\")"
      ],
      "execution_count": 7,
      "outputs": [
        {
          "output_type": "stream",
          "text": [
            "Input shape : (2,)\n",
            "Weight shape : (2, 3)\n",
            "Bias shape : (3,)\n",
            "Output shape : (3,)\n",
            "\n",
            "Y = X · W + B\n"
          ],
          "name": "stdout"
        }
      ]
    },
    {
      "cell_type": "markdown",
      "metadata": {
        "id": "B9Ik9dX-dB04"
      },
      "source": [
        "## Batch Affine Layer"
      ]
    },
    {
      "cell_type": "markdown",
      "metadata": {
        "id": "nnyTXEuhdFQx"
      },
      "source": [
        "앞의 Affine layer는 1개의 X만 고려한 것이다.  \n",
        "하지만 실제는 batch단위의 N개 데이터를 묶어서 입력으로 보낼 수 있다.  \n",
        "배치 데이터를 처리할 수 있는 Affine layer를 구현해보자"
      ]
    },
    {
      "cell_type": "code",
      "metadata": {
        "colab": {
          "base_uri": "https://localhost:8080/"
        },
        "id": "KEQTFbRLKXU-",
        "outputId": "9aa56207-6241-4443-edd3-fa21d96578d2"
      },
      "source": [
        "X_dot_W = np.array([[0, 0, 0],\n",
        "                   [10, 10, 10]])\n",
        "B = np.array([1, 2, 3])\n",
        "\n",
        "print(X_dot_W)\n",
        "print(X_dot_W + B)"
      ],
      "execution_count": 13,
      "outputs": [
        {
          "output_type": "stream",
          "text": [
            "[[ 0  0  0]\n",
            " [10 10 10]]\n",
            "[[ 1  2  3]\n",
            " [11 12 13]]\n"
          ],
          "name": "stdout"
        }
      ]
    },
    {
      "cell_type": "code",
      "metadata": {
        "colab": {
          "base_uri": "https://localhost:8080/"
        },
        "id": "5QV_BmHmeU7T",
        "outputId": "41281528-5602-49a9-fdfe-b47257c37956"
      },
      "source": [
        "dY = np.array([[1, 2, 3], [4, 5, 6]])\n",
        "print(dY)\n",
        "\n",
        "dB = np.sum(dY, axis=0)\n",
        "print(dB)"
      ],
      "execution_count": 14,
      "outputs": [
        {
          "output_type": "stream",
          "text": [
            "[[1 2 3]\n",
            " [4 5 6]]\n",
            "[5 7 9]\n"
          ],
          "name": "stdout"
        }
      ]
    },
    {
      "cell_type": "markdown",
      "metadata": {
        "id": "w2BqdhZVffg-"
      },
      "source": [
        "예시는 N = 2인 batch size라고 가정했다.  \n",
        "bias의 그래디언트는 두 데이터의 미분을 데이터마다 더해서 구한다.  "
      ]
    },
    {
      "cell_type": "markdown",
      "metadata": {
        "id": "nztGCdE7fs1L"
      },
      "source": [
        "## Implementation Affine Layer"
      ]
    },
    {
      "cell_type": "code",
      "metadata": {
        "id": "QJBV0Rhvfcyh"
      },
      "source": [
        "class Affine:\n",
        "    def __init__(self, W, b):\n",
        "        self.W = W\n",
        "        self.b = b\n",
        "        self.x = None\n",
        "        self.dW = None\n",
        "        self.db = None\n",
        "    \n",
        "    def forward(self, x):\n",
        "        self.x = x\n",
        "        out = np.dot(x, self.W) + self.b\n",
        "\n",
        "        return out\n",
        "\n",
        "    def backward(self, dout):\n",
        "        dx = np.dot(dout, self.W.T)\n",
        "        self.dW = np.dot(self.x.T, dout)\n",
        "        self.db = np.sum(dout, axis=0)\n",
        "\n",
        "        return dx"
      ],
      "execution_count": 15,
      "outputs": []
    },
    {
      "cell_type": "markdown",
      "metadata": {
        "id": "uWjJkjNVgRDO"
      },
      "source": [
        "# Softmax with loss"
      ]
    },
    {
      "cell_type": "markdown",
      "metadata": {
        "id": "0bMEhAEVghYc"
      },
      "source": [
        "softmax는 학습의 최종결과를 정규화하여 출력하는 역할을 한다.  \n",
        "예를 들어 MNIST 데이터의 경우는 들어온 입력 값을 총 10개의 출력으로 정규화하여 반환한다."
      ]
    },
    {
      "cell_type": "code",
      "metadata": {
        "id": "KN2GlsoRgKjy"
      },
      "source": [
        "class SoftmaxWithLoss:\n",
        "    def __init__(self):\n",
        "        self.loss = None\n",
        "        self.y = None\n",
        "        self.t = None\n",
        "\n",
        "    def forward(self, x, t):\n",
        "        self.t = t\n",
        "        self.y = softmax(x)\n",
        "        self.loss = cross_entropy_error(self.y, self.t)\n",
        "\n",
        "        return self.loss\n",
        "\n",
        "    def backward(self, dout=1):\n",
        "        batch_size = self.t.shape[0]\n",
        "        dx = (self.y - self.t) / batch_size\n",
        "\n",
        "        return dx"
      ],
      "execution_count": 16,
      "outputs": []
    },
    {
      "cell_type": "markdown",
      "metadata": {
        "id": "wlBrgfqwiN3z"
      },
      "source": [
        "주의할 점은 역전파 과정에서 batch_size로 나눠서 데이터 1개당 오차를 전파해야한다."
      ]
    }
  ]
}