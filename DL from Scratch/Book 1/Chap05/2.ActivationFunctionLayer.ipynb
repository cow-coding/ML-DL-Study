{
  "nbformat": 4,
  "nbformat_minor": 0,
  "metadata": {
    "colab": {
      "name": "2.ActivationFunctionLayer.ipynb",
      "provenance": [],
      "collapsed_sections": [],
      "include_colab_link": true
    },
    "kernelspec": {
      "name": "python3",
      "display_name": "Python 3"
    },
    "language_info": {
      "name": "python"
    }
  },
  "cells": [
    {
      "cell_type": "markdown",
      "metadata": {
        "id": "view-in-github",
        "colab_type": "text"
      },
      "source": [
        "<a href=\"https://colab.research.google.com/github/cow-coding/ML-DL-Study/blob/master/DL%20from%20Scratch/Book%201/Chap05/2.ActivationFunctionLayer.ipynb\" target=\"_parent\"><img src=\"https://colab.research.google.com/assets/colab-badge.svg\" alt=\"Open In Colab\"/></a>"
      ]
    },
    {
      "cell_type": "markdown",
      "metadata": {
        "id": "m26HMSI0xtUb"
      },
      "source": [
        "# Library import"
      ]
    },
    {
      "cell_type": "code",
      "metadata": {
        "id": "i67KjWohxv6u"
      },
      "source": [
        "import numpy as np"
      ],
      "execution_count": 3,
      "outputs": []
    },
    {
      "cell_type": "markdown",
      "metadata": {
        "id": "R1C-Tl3QsTSn"
      },
      "source": [
        "# Activation Function\n",
        "\n",
        "활성화 함수에는 대표적으로 ReLU와 Sigmoid가 있다.  \n",
        "이 두가지를 신경망으로 구성해보자."
      ]
    },
    {
      "cell_type": "markdown",
      "metadata": {
        "id": "BxPpNYQos2H6"
      },
      "source": [
        "## ReLU Function\n",
        "\n",
        "ReLU 함수의 식은 아래와 같다.  \n",
        "\n",
        "$\n",
        "y = \n",
        "\\begin{cases}\n",
        "x \\quad (x > 0) \\\\\n",
        "0 \\quad (x \\leq 0)\n",
        "\\end{cases}\n",
        "$  \n",
        "\n",
        "이 ReLU 함수에대한 역전파를 위해 ReLU의 편미분을 확인할 필요가 있다.  \n",
        "  \n",
        "$\n",
        "\\frac{\\partial y}{\\partial x} = \n",
        "\\begin{cases}\n",
        "1 \\quad (x > 0) \\\\\n",
        "0 \\quad (x \\leq 0)\n",
        "\\end{cases}\n",
        "$ \n",
        "  "
      ]
    },
    {
      "cell_type": "markdown",
      "metadata": {
        "id": "BcHmcDTyu0_R"
      },
      "source": [
        "ReLU의 편미분 구조는 아래와 같다.  \n",
        "\n",
        "$$\n",
        "\\frac{\\partial L}{\\partial y} \\leftarrow \\text{relu} \\leftarrow \\frac{\\partial L}{\\partial y} \\quad (x > 0)\n",
        "$$  \n",
        "\n",
        "$$\n",
        "0 \\leftarrow \\text{relu} \\leftarrow \\frac{\\partial L}{\\partial y} \\quad (x \\leq 0)\n",
        "$$ "
      ]
    },
    {
      "cell_type": "markdown",
      "metadata": {
        "id": "8q6EIjalwdXW"
      },
      "source": [
        "## ReLU implementation"
      ]
    },
    {
      "cell_type": "code",
      "metadata": {
        "id": "_8mz7E7kr-mo"
      },
      "source": [
        "class ReLU:\n",
        "  def __init__(self):\n",
        "    self.mask = None\n",
        "\n",
        "  def forward(self, x):\n",
        "    self.mask = (x <= 0)\n",
        "    out = x.copy()\n",
        "    out[self.mask] = 0\n",
        "\n",
        "    return out\n",
        "\n",
        "  def backward(self, dout):\n",
        "    dout[self.mask] = 0\n",
        "    dx = dout\n",
        "\n",
        "    return dx"
      ],
      "execution_count": 4,
      "outputs": []
    },
    {
      "cell_type": "markdown",
      "metadata": {
        "id": "HXkkH2J3xpMW"
      },
      "source": [
        "### Principle of ReLU backpropagation"
      ]
    },
    {
      "cell_type": "code",
      "metadata": {
        "colab": {
          "base_uri": "https://localhost:8080/"
        },
        "id": "40VI4qEhxotr",
        "outputId": "04a1e55f-9ae2-4615-8375-e25dda16fd90"
      },
      "source": [
        "x = np.array( [[1.0, -0.5], [-2.0, 3.0]] )\n",
        "print(x)\n",
        "\n",
        "mask = (x <= 0)\n",
        "print(mask)"
      ],
      "execution_count": 5,
      "outputs": [
        {
          "output_type": "stream",
          "text": [
            "[[ 1.  -0.5]\n",
            " [-2.   3. ]]\n",
            "[[False  True]\n",
            " [ True False]]\n"
          ],
          "name": "stdout"
        }
      ]
    },
    {
      "cell_type": "markdown",
      "metadata": {
        "id": "A6t_l49Kyw3Q"
      },
      "source": [
        "## Sigmoid Function\n",
        "\n",
        "시그모이드 함수는 아래와 같다.  \n",
        "\n",
        "$$\n",
        "y = \\frac{1}{1 + exp(-x)}\n",
        "$$  \n",
        "\n",
        "그리고 시그모이드의 역전파 편미분을 계산하기위해서 계산 그래프로 나타내보면 아래와 같다."
      ]
    },
    {
      "cell_type": "markdown",
      "metadata": {
        "id": "k573oCQnz6m1"
      },
      "source": [
        "![tt.png](data:image/png;base64,iVBORw0KGgoAAAANSUhEUgAAAcgAAABSCAYAAADQK0R7AAAGynRFWHRteGZpbGUAJTNDbXhmaWxlJTIwaG9zdCUzRCUyMkVsZWN0cm9uJTIyJTIwbW9kaWZpZWQlM0QlMjIyMDIxLTA0LTAzVDE3JTNBMzclM0EyMC45ODJaJTIyJTIwYWdlbnQlM0QlMjI1LjAlMjAoTWFjaW50b3NoJTNCJTIwSW50ZWwlMjBNYWMlMjBPUyUyMFglMjAxMF8xNl8wKSUyMEFwcGxlV2ViS2l0JTJGNTM3LjM2JTIwKEtIVE1MJTJDJTIwbGlrZSUyMEdlY2tvKSUyMGRyYXcuaW8lMkYxMy4zLjklMjBDaHJvbWUlMkY4My4wLjQxMDMuMTE5JTIwRWxlY3Ryb24lMkY5LjAuNSUyMFNhZmFyaSUyRjUzNy4zNiUyMiUyMGV0YWclM0QlMjJCT193eFBQSjNKQzZ6OFI1enFoaiUyMiUyMHZlcnNpb24lM0QlMjIxMy4zLjklMjIlMjB0eXBlJTNEJTIyZGV2aWNlJTIyJTNFJTNDZGlhZ3JhbSUyMGlkJTNEJTIyTVNzMFp5OGgtd3RGQ3d3dm1EOE8lMjIlMjBuYW1lJTNEJTIyUGFnZS0xJTIyJTNFN1pwTmM1c3dFSVolMkZqV2ZhZ3owZ0dRekhZQ2Zwb1oybWswN2JIQlVqMjB5eHhRZzV4dm4xWFl4a0klMkJTUGZHQ2JlSnBEQmkxb2hkN2RoeFhJTGR5ZlpyZWNKSk52TEtSeEMxbGgxc0tERmtJTzZzSCUyRjNMQXNETjJlVXhqR1BBb0xrNzB4M0VmUFZCb3RhWjFISVUyMUN3VmpzWWdTM1Roa3N4a2RDczFHT0djTCUyRmJJUmklMkZWUkV6S21odUYlMkJTR0xUJTJCanNLeGFTd2VtcGF1ZjBMamNZVE5iTHQlMkJzV1pLVkVYeTVta0V4S3lSY21FcjF1NHp4a1R4ZEUwNjlNNDEwN3BVdlM3MlhGMmZXT2N6c1JMT2lRUGQ3JTJGNiUyRk9jdCUyQjU3JTJCSFRnJTJGZnpqQmROR1dYcDVJUEpjVHp1VGRpcVdTQU55QTJ0QUlGcE5JMFB1RURQTXpDNGczMkNaaUdrUExoa09TSmtVSVJsRkdZZFJBT3FkYzBHem5YZHRyTFNDSEtKdFN3WmR3aWVxZzVKUDVnMVY3c1lsR1Y1b21wVUFvRzVIeEg2ODlieVNDQTZuU0t4UkRobUkwUzVxbEdXcWFadGpRcklXQ1ptbUdtNlpaZDR0bU44M1NyTnMwelp3dG1sVUZtNFZYZVZtQTFqQW1hUm9OZFoyS0RqUTBxc0pCVVVxVGRyWk1XdGs0alltSW5uVDMyNVNRSTl5eENBWmVhJTJCNVZKSzlxbWJJNUgxTFpxVndOS242TTUyclZrU0I4VElYaGFCV1g5YXpmSGlyYmZDWnNxVHdRaHElMkZrRVZZVWVpN0gwWGlXQnhCQ1Fqa1k4aXlPb0daZnlSUFRLQXh6SHdHbmFmUk1IbGYlMkJMR2duJTJCWFJXRTNTQ2xqUFloNEZjVU1qT216SmV6b1RkU2JpVG1iYlZzZHd1MXJSSDc4c01kUWtialZKNmxHQzU3JTJCY0tOT1BMUHpJTXE4WkQzdWc0cWpuSXlpY0hTOWw2S1klMkJ3TEZ3bDdLSEtmUzV1YmJmQ0clMkZZN1BmZHQ3Q0xyc0s5ajQycyUyQmF0c1h3cSUyQjdsMSUyRkFGMW11SnI5ZFM0S29naSUyQmRxalhUOGVIdU5SJTJGdWMwR0xhb1FXMjM3SDMlMkZ4NWVnazRlZmsxSCUyQm53R3ZPcG5YMiUyQkRJaDdKNGI0JTJCSmg2JTJGekhkaFNtdUVkTnVzekExb3c3cUJHZEVkY1JtUW42bHM2MmpvT3Z0UlJmV3p6YjI2aW01dGw1eDBha3FydjklMkJsSnVPWkxkR0pKMXp2NnFhOFFJOWJpNGFRdjhRaE1qem5Wb3l4ZWs0UFMyOEFMaHpLaExWTGtQOVZkV3VxYWElMkI0TDMycktEN0ZUYjl1cjVIdVNlRzNQemVxalpIUHZwYTJMYTJKMGpwaTVUbjZ1dWNkdU9YdzdhNWMlMkZYeHlNWG5KTGMyZEkydGsxT2phMzdCdUJSeTklMkIlMkIlMkY1R3RoSCUyQm52c2MwbkY1azFONSUyQlRZcmdjTkJCU0hDOWVaQzVZS2xkUnIxbFV2V0tEckZjaFE2VnFpWEM4aFhCazdZN1hqZzB5YUc1JTJCU2xDRWF2TjdESHo5RHclM0QlM0QlM0MlMkZkaWFncmFtJTNFJTNDJTJGbXhmaWxlJTNF16IiBgAAF/JJREFUeF7tnQW0FVUUhs+zu7swsPFhYKJid2Fgi12oKLaiiGIH6sLEQF1iYaCiiIUCdqCIimI8sRsDFZXn+o5r9L7h3jdn7sSdmfuftVjweBNn/v/s8++9TzU0Nzc3GxUhIASEgBAQAkKgBQINEki1CCEgBISAEBACUyMggVSrEAJCQAgIASFQBoG6FMhPPvnEPPHEE+aFF14wb731lmlqajLffvutmTx5splhhhnMfPPNZ9q0aWPatWtn1llnHbPZZpuZJZZYQg0oIQTER0LAVvlY8VElcAndJj4SAtbhsXUlkDfddJO57bbbzJgxY8yWW25pOnbsaBobG81SSy1lRXHGGWc0f/zxhxXLjz76yLz55ptm1KhR5rHHHjOrrLKK2Xfffc2BBx7oAKsucUFAfLiglN414iM9rF3eJD5cUEr2mroQyGuvvdZceOGFVuQQuJ122ik0qg888IChwSKuJ598sjn88MNDP0M3/IuA+MhWSxAf4iNbCGSnNoUWyNdff90cd9xxNjI844wzzPrrrx8Z+ZEjR5pzzjnHRpp9+/Y1q622WuRn1ssDxEe2mBYf4iNbCGSvNoUVSKK9gw46yFx11VXmyCOPjB35q6++2nTr1s3ceOONSrs6oCs+HEBK8RLxkSLYDq8SHw4g1eCSQgrkueeea2699VY73rjWWmslButLL71kxyX3228/c/rppyf2nrw/WHxki0HxIT7UX7m1gcIJJMZ///33m8GDB5tFF13UDYUIV3322Wdmxx13NJ07d5ZIlsFRfERoXAncKj4SADXCI4vIx3fffWe22GILw3DUzDPPbK677jrz008/mRNPPDECUrW5tVACSZqCyThPPfVUKuLoUYZIbrLJJnbyjma5/t+QxUdtjLrSW8WH+ACBNPorMnd9+vSxQrnuuuvaeRssl6P8+uuvpl+/flORcfTRR5tZZpklUyQVRiCZcLD66qubF198MdG0aiX2SLeuvfba5rXXXtPEHWOM+MiUnYuPbNFReD4uv/xy8+GHH5rTTjvNLLfccoaocvrpp7cs/PLLL+ayyy6bipHjjz/ezDrrrJliqjACudFGG5kuXbokMiHHlTEm7tx9991m+PDhrrcU9jrxkS1qxYf48COQZH/FOnI2WSGj99xzz5nrr7/+v9f/9ddf5t13352KkBVWWMFMN910mSKqEALJOi7GHVnQX+vCBgSMR9bzOknxUetW2PL94kN8VEIgyf5qjTXWMD/++KO55pprbKrVK2zEwiYt/vL888+beeaZJ1NkFUIg2QmHGatxrHOMyg4D08xsxYOq1yI+ssW8+BAflRBIsr+69NJLTe/eve3OZGzhmceSe4Fk4gG73Dz44IOZwX+HHXawu/XU44Qd8ZGZZmgrIj7ERxACSfVXV1xxhfnqq6/MeeedF1SFzP4+9wK58cYbm+7du1e1fVxSrCDYNI6nn346qVdk9rniI1vUiA/xEYRAEv3VSSedZIYMGWIef/xxs8giiwRVIbO/z7VAsss9M1cJ4bNW2PycGa1pnALy/vvvm1133dVujtC+fXtz6KGHmrZt2xoaaZpFfLihzTaFv//+u5lzzjkDb2D2H9dVM3lBfATCm+oF9cQHffLcc89tpp122lQxjvtluRZI0kdPPvmkuf322+PGJfLz9t57b7PpppumlmY95ZRTzKOPPmr3nmU9JrPEaKBpFvHhhvYxxxxjT5PZdtttA28gEzHNNNMY1oiFLUXggwXmc8wxR9hPD339pEmTDEu1mO3bWvn555/tgQXrrbde6HcUgY/QH53zGxIVSDxldplh+QXjcUz15RzGO++80xp9UGGQl2ho9tlnL3spv1t11VVrurSj0jcwhXr06NEtpjcHfW+Y3zMpCeeActZZZ5mFFlrIMGvs7bfftqndIEMP8y7v2ksuucRuq7fAAguIj2oANMa88847NtrnHNKGhobApyAQyy67rL1+/vnnb3F9kfkYP368eeaZZ+x6ubFjxwbiFPWCww47zOy1116mU6dOgY/afffdTa9evcxKK61UUz44z5b9oF999dXAOgddkHR/FfT+JH4fZB8u70xUIKkAUc0222xjl2DgNUMqC+pdCtsU/f3334YFpCw49QslXtxFF12Uidmr/u9hdhgpTtYAJVGeffZZ22lSdtttN+tls3sFZ1iOGDEiEUxmm20289tvv9kxX/ZynHfeeVt8WpH5+Pzzzw2RH9iSxiayI+1ZLrXNwuiHHnrIfPHFFzbaAC/uZSbfCSecYJ0Z/i4traXJjzjiCCuSPXr0aHFPkfm44IILLHY4mX6BPP/8863Tvcwyy1g8iOqIsOlrNthgA7u1Gf9m4t5dd91lx8HYuYXJIuzoQhtmQxHwJNuC04IDzzKD0oKzyYz0oUOH2n6IySz33XefIVXKLjGPPPJITfnghCJOKurZs2fkLiZMf8XwAKlTb+E/L6f9skTD3ydUUzE0Yvnllw/MgFFnhtgq7b4TZB8udUtcIKkEBs5arLPPPtseO+Va6IRIHU6ZMsV626QPS4WSvVZJi0TZcxURmzBhgk3TNjc3mz333NN06NAh8vgd2zkhWPydRkGw2GKPjgOvG+OuFHlXWx/WM+GswAcdxrHHHmuFcq655rKPDMPHl19+aYWDTRUQHBYUc3RYJT6Iju+44w670wYZCLx32hSG5FKi8kEbprCfJJkQ2ktTU5Ntj/7U9qBBg2zmgwiIThwHkQ5/6623NkyaQRzLpVcrpck5kYaO2csYeN8bJx9BGA4bNswKw8EHHxx0qdPvXfjA2cMe/QKJUJE1oXOkgA+OKP/H3qb0FWCz8sorW34QxiuvvNJmPrBJ+IIXloV5GRdEFGH1lwMOOMA6NmTDFlxwQdtOv/76a/tvhAKBqgUfvJO2jy3EceSeCx9sEYfTgo3SF7Pe2ysbbrihrUvUCTnjxo2zfQwOZlCG5eWXX7ac3XDDDWXbXJB9uDTUVAQS787z4E499VSXev13DR7J999/b3+moZYKJRNhSEGVNtJQDzfGQAg7ONx8883WCOgA+b+FF1447KNaXM+zEChEizrH/adUGPC42O+QiJJvIU3E4dB0DnG/t02bNuabb76x3wruOBWeUJICdOGDe8giIKwYGx0/AvLDDz/YaeHl+EBs6CwPOeQQm+Ylc0Canhl4LiUKH3S0tEMiDtoFO4EcddRRdistfvantvv372/uvfdeG3l4HTidPYLOhBuilxVXXNFgC0SZtGtElw63XJocceLoNhw5tukq5TQOPlzwY+swJp0xESyO0hof7MBC8Qsk7YROmrV1pEOJqnFm999/f9ve4enTTz81t9xyi/nggw+s7TEPAKeRSJIOlWs9weUYPBwW7J2ICD4GDBhgN9kmI4OjSVtHTOGNcX1vKzQ4wEEiaqoFH0RsCDyOZpCQuPDlYh/YO9hyEATpS08gqQOZFLIrRPcI02KLLWYdFxxZHEMCI4Z9uI62DJc42Q8//LC1IYaMWK/L3A2cEm/fVq/uONM44PQXvOPPP/80Z555pt2AgMCL95Tr61qzD5ex7VYFkoaIVxalkFoFFABgbSBG5nl+1T6X0B4vkk6IzjZqoXP21upAKmmVOAqE0YipY9x/ym3V5K8zM2jjfi+GRARZWjAcIiKiHBc+GDOhY2MzhSWXXNLeQ9qRcZBddtnFiqWfD7xTBNLz2hELvo8O03WD42r5YNwcZ4w6lc483WOPPWyH6U9tI5DcQ6dMufjii236jm8AK7jDwSEiximgPSP8YFsuTY5zQERKR47TVcppHHy4tPW4BZJ3VuLDS3X6BRIHhUiHrEO7du0sJ/wfYslch8UXX9x+Cu2BMUWiSnZsQRRxgBFIohOGJyhEw/RFjHfSSeMc44wgoN4z4IdOFueP/59pppnsvXSuiBSzxWvFBxF9uT1NXfgsd02QfeDYUejPETJPIMGWHXNwRrBRttskImcOCU4EThWiBlecnwsvaAGFnwmeaMc4vdgF9/pn/2MzOJWkzXk3aXEEk0iWzAB9Rrm+rjX7QD+CSqIRJI2LaABwyPGj+FSKjaxdd1bACJjqTkkiguS5zGCjo8ProdHF5ZFhRBBUlIIwEklhDBRy/Pwf4zg0VNeI/p577rFevb/gebJFXzk+EBfa0RtvvGFv4714/XSmXsTRGs7wEIWPrbbayjA5A+8WA8eJIj2H9+pPbVNXxoUwasRv8803t9H89ttvbztxIslyKdZKaXI6IATXP1ubDoEIJioflXDDS8cmKIzbMdbnTdCiPkRt1RYXPlxTrEQVdKhE9XSgpLhJu5F65P9on0Q9tFc6cRwz+hIm+CGWXA9XtD9/IbVOf0C2gDF2+jCieFKJZEtKS1z24YIpKU2CF04RiqO48OG9xy+Q2223ncGBwq5HjRpldt55Z3spkSL9KW2IrBYRJvbb2NhouAcHBaHE6eF7sCccENodbZohBwoZI37vBWxeP8HvCGhoJ+XS40F8uAxBJSqQUYljDJK0B6F4UmOQ1BFyafh0ABgLUUzU4pLTj/qOtO8nrQJOCBOdMw0YYfTSTq5jkHjpTNgiNeM1UozD89TL8YHo4OETOVI8j5JU2tJLLx0IRVQ+EEWGCkjhMQY1cOBAmxIql9omKkE4J0+ebIUF46bjJiVMZIOX7J9wUylNTmcAzgihf11rXHxUAg+OvXFPOj8iLW+IhEjXJUVV6dkufLgKJNFE165dzcSJE23KmvZFlEkkgpDDFe2WSIZ0H9EgIkckQgRGZATG/o094BzHCEHF2SelS7ujA6ct+K9Pmg8PS9ofkWucW7i58FFOIMEckSYrRMqayWylM4GJ3lluBo5kE73sCQJJNE+KG3yZh4At44AxhAE/LIuh4NQgqoz/whNpXkSTQraGoSW0wl+C+AjsNMhyNLvkxFyelMA1acxihRQaG0YEeXj3GFzUTXPDzApLALrYH4mTghAijkQ6CCP8lBbXWawYNp0UqUdmd9KRYTA0dDzIcnzQ6ZG+YeYgBoihkMLEsF0W0cfFByJBOphopFLBaPGWGVekYy0dz6YzJl3K7EyXTAWdBWNr/jNO8Y5JA8bBh0tjiTvFGhcfpXX/+OOPLTdeGtT/XaRYaTe0ITpgb8YlWBJtMjHEZWMPnB9mKpNi90qc9hHEB8NV2AN/x1XC8FEaQeI40W8yxsh4Ik4IQwfYJc4I2UKGXpg9TAYGp4K2TDZlzTXXtMtliAJ5Rt++fW3GhajTS5d734fd4XiSjiUrQL9NH0JfBGc4nqXFhQ8X7DItkGmsg2SQF48Q0hjfYmwDr6bSzCgXULmmiOuK8NJIgVaaFBVmXSriVtrBML5HdFKJDwbteT6ijAdN2gZP0jXFlCYfnkBWmtCCV73PPvtMNRGhXNsicn7vvfdsBOQvcfIR1K4RSESdSSxxlDT58OrrCaR/NjC/J9VKB884WGuFLBPLqhBZ/1rutPhgeII68CeuEoYPBJL2S3qUKJzMBhEgQyO0baJJUtKIGePDZIZwPhgKIRLEzsnUEYjg3JJOZZyd4ThmfJMS969HpV8gE8PQBf0AfTZDD4gukWu59atBfLhgl2mBDPoA7UwRhFC6vw/LBxNsSK+Qmg3a9QehIB3GmCORAulNl80mPATS3NkI75nIEWerXCEtxR+XaAXPmfEu14lIpe8Ly0earSVNPrzvIhqnE6+UGiYlHjQ3goQb0YlL1sKPZ73wwdAJTnRrNk3GiGieGcKkVb0t6Ti2kIwSgh1UEFaEk1R4NXwEPZ/f51og62lvQxcya31Nknx4Asm612pKmnvjVlO/JO5Jko+o9RUfURGM9/60+fAE0n9EIQ4IE9hwJkiXt1YYkyQiJZWbVMm1QAKKTitIqmlU99yk+GASD+JICidsSeK0grB1qNX1SfER5XvEh04fIlXNcEm5yI9In+xQUIaINGvpbj5R2mSle3MvkDrvLolmUf0zxUf12CVxp/hIAtXqnyk+qseuFnfmXiABTSem16LpVH6n+BAflRBI8gT7bKEu+8gLH63VsxACydIMBndZZ1Prwvo+dphgtme9FvGRLebFh/iohID6q9bbRiEEkk9knz+mPzPlt1aFmVdss8Qi5Xov4iNbLUB8iA8/AuqvgttEYQSSBaksJGUhNrt8pF2YQMIG3Ow1G8fu+mnXP+73iY+4EY32PPERDb+47xYfcSOazPMKI5DAwwA4U3/9u44kA93/T2XdGwvWWeDKnrMq/yIgPrLVEsSH+AAB9Vfu7aBQAslns/iU/RfZnDjKOZGuENLYOEmAcUe2PVJpiQDn8zE+LD6y0TJkH9ngwauF7CNbfPhrUwiBZOcGOmG29uLfbD/Ez+xVmGS6lbQqpzqwca7EsXJDpxOAG/FRm85A9lEb3F3fKvtwRSr963IrkJ7R0+m+8sordmsjNiDmdAW2HiKdxHErbISbxMQdBri7detmzzNTWjW44YqPYIzivEL2ESeayT9L9pE8xtW8IXcCyX6J7N9HB8Cu/YiiVzhtgiNOvCUWDIRz6gTiyW7z/m2NqgGMdVzsTM/5aew+rwk57iiKD3esqr1S9lEtcrW/T/ZRew5yn2LlqCTSmuwYj0iVHlrqHZXi38OPdWBM3uGAV6I97zTrMHSwPRZe3pgxY+xknHpe5xgGt3LXio+oCFa+X/aRHLZpPVn2kRbSwe/JXQRZ+kmcJ1h6iKyXXq302QgcKVlEjgWyHTt2tJvdsvMLm/USaSK6dDKcMsGBrZyQzQYEiCvCrHRqcKNyvUJ8uCJV3XWyj+pwy8pdso/aM5FbgRwyZIg9ZJfz2/r06WOPoClNr7YGLaccMNOVU9w5pLepqcmKonfcDWLJGWYcV8QZZpxF6HI0Ue3pzGcNxEf8vMk+4se0Vk+UfdQK+Zwed+UZPweccjQK54lx/t6ECRMCj0ipHdR6sxBIBwHZRzo46y3FRyB3EaTf+KGI88DGjh1r8LRUhEA9IyD7qGf29e1xI5ArgSxn/ABCepRTwoNOA48bPD1PCGQJAdlHlthQXYqAQG4EspLxF4EEfYMQiIqA7CMqgrpfCEyNQC4EUsavpisEKiMg+1DrEALJIJB5gZTxJ0O8nloMBGQfxeBRX5FNBDItkDL+bDYa1SobCMg+ssGDalFcBDItkA0NDcZbylFcCvRlQiA8AhLH8JjpDiEQFoFMCySdAOscVYSAEPgfAYmjWoMQSAeBTAnklClTTNeuXU2vXr1M27Zt00FAbxECOUJA4pgjslTV3COQGYEcPny4GThwoOnfv78ZPXq0ad++fe7B1QcIgbgR0LBD3IjqeUKgMgKZEUjOVxw/frw9QkoCqSYrBP5FgA3HyaZ07tzZ/qxhB7UMIZAeApkRSO+T2RFnxIgRiiDTawN6UwYRGDdunBk0aJDp2bOn6devnz2cW0UICIF0EaiJQE6cONF0797dfikHDnv/5mcJZLoNQG/LJgLDhg0zQ4cONYMHDzY9evSQQGaTJtWq4AjURCAnTZpkBgwYYKHlWKnSmaoSyIK3OH1eKAS6dOliOnXqJIEMhZouFgLxIFATgWyt6hLIeIjVU4qBgASyGDzqK/KJQE0EsrWJBgjkyJEjTWNjYz4RVa2FQIwISCBjBFOPEgIhEUhdIL11XM3NzSGrqsuFQPER8DuPEsjic64vzC4CqQqkFjlntyGoZrVHoJzzKIGsPS+qQf0ikJpAShzrt5Hpy4MRkH0EY6QrhEDaCKQikDL+tGnV+/KEgOwjT2yprvWEQOICKeOvp+akbw2LgOwjLGK6Xgikh0CiAinjT49IvSl/CMg+8seZalxfCCQmkDL++mpI+tpwCMg+wuGlq4VALRBIRCBl/LWgUu/MCwKyj7wwpXrWOwKxC6SMv96blL6/NQRkH2ofQiA/CMQqkDL+/BCvmqaPgOwjfcz1RiEQBYHYBFLGH4UG3Vt0BGQfRWdY31dEBGIRSBl/EZuGvikuBGQfcSGp5wiBdBGIRSB79+5tOnTo0OLYqnQ/Q28TAtlFQPaRXW5UMyHQGgKxCKQgFgJCQAgIASFQNAQkkEVjVN8jBISAEBACsSAggYwFRj1ECAgBISAEioaABLJojOp7hIAQEAJCIBYEJJCxwKiHCAEhIASEQNEQkEAWjVF9jxAQAkJACMSCgAQyFhj1ECEgBISAECgaAhLIojGq7xECQkAICIFYEPgHdtTDKEhtH24AAAAASUVORK5CYII=)"
      ]
    },
    {
      "cell_type": "markdown",
      "metadata": {
        "id": "5xMaq7tC0HKS"
      },
      "source": [
        "### First Step\n",
        "\n",
        "가장 오른쪽의 노드인 '/'노드인 $y = \\frac{1}{x}$를 미분하면 다음과 같다.\n",
        "\n",
        "$$\n",
        "\\frac{\\partial y}{\\partial x} = -\\frac{1}{x^2} \\\\\n",
        "= -y^2\n",
        "$$  \n",
        "\n",
        "이 식을 간단하게 표현해보면 역전파는 순전파 출력값의 제곱에 음수를 붙인 값을 상류의 값(이전 값)에 곱해서 역으로 전달한다."
      ]
    },
    {
      "cell_type": "markdown",
      "metadata": {
        "id": "txglj3Jv0xWP"
      },
      "source": [
        "### Second Step\n",
        "\n",
        "그 다음 노드인 '+'노드는 상류 값을 그대로 하류로 보낸다."
      ]
    },
    {
      "cell_type": "markdown",
      "metadata": {
        "id": "26svg4mf1Dso"
      },
      "source": [
        "### Third Step\n",
        "\n",
        "'exp'노드는 $y = exp(x)$의 연산이고 지수함수의 미분은 본인이 그대로 나온다.  \n",
        "\n",
        "$$\n",
        "\\frac{\\partial y}{\\partial x} = exp(x) \\\\\n",
        "$$  \n",
        "\n",
        "상류의 값에 순전파 때의 출력을 곱해서 전달한다."
      ]
    },
    {
      "cell_type": "markdown",
      "metadata": {
        "id": "91Zk6X-11rf3"
      },
      "source": [
        "### Forth Step\n",
        "\n",
        "'x'노드는 순전파때의 값을 교차하여 곱한다. 여기서는 -1을 곱한다."
      ]
    },
    {
      "cell_type": "markdown",
      "metadata": {
        "id": "3voFTd-D17Ye"
      },
      "source": [
        "### Total Step\n",
        "\n",
        "$$\n",
        "\\frac{\\partial L}{\\partial y}y^{2}exp(-x) \\ \\leftarrow \\ -\\frac{\\partial L}{\\partial y}y^{2}exp(-x) \\ \\leftarrow \\ -\\frac{\\partial L}{\\partial y}y^2 \\ \\leftarrow \\ -\\frac{\\partial L}{\\partial y}y^2 \\ \\leftarrow \\ \\frac{\\partial L}{\\partial y} \n",
        "$$  \n",
        "\n",
        "최종으로 나온 식(가장 왼쪽)을 다음과 같이 정리할 수 있다.  \n",
        "\n",
        "$$\n",
        "\\frac{\\partial L}{\\partial y}y^{2}exp(-x)\\\\\n",
        " = \\frac{\\partial L}{\\partial y}\\frac{1}{(1+exp(-x))^2}exp(-x)\\\\\n",
        "=\\frac{\\partial L}{\\partial y}\\frac{1}{1+exp(-x)}\\frac{exp(-x)}{1+exp(-x)}\\\\\n",
        "=\\frac{\\partial L}{\\partial y}y(1-y)\n",
        "$$"
      ]
    },
    {
      "cell_type": "markdown",
      "metadata": {
        "id": "ALkM_qjY3-JI"
      },
      "source": [
        "## Sigmoid implementation"
      ]
    },
    {
      "cell_type": "code",
      "metadata": {
        "id": "CZpw0p0Gx-0s"
      },
      "source": [
        "class Sigmoid:\n",
        "  def __init__(self):\n",
        "    self.out = None\n",
        "\n",
        "  def forward(self, x):\n",
        "    out = 1 / (1 + np.exp(-x))\n",
        "    self.out = out\n",
        "\n",
        "    return out\n",
        "\n",
        "  def backward(self, dout):\n",
        "    dx = dout * (1.0 - self.out) * self.out\n",
        "\n",
        "    return dx"
      ],
      "execution_count": 6,
      "outputs": []
    }
  ]
}