{
  "nbformat": 4,
  "nbformat_minor": 0,
  "metadata": {
    "colab": {
      "name": "BackPropagation.ipynb",
      "provenance": [],
      "toc_visible": true,
      "authorship_tag": "ABX9TyOBdUw0UrCrujkdo7LMd1/R",
      "include_colab_link": true
    },
    "kernelspec": {
      "name": "python3",
      "display_name": "Python 3"
    },
    "language_info": {
      "name": "python"
    }
  },
  "cells": [
    {
      "cell_type": "markdown",
      "metadata": {
        "id": "view-in-github",
        "colab_type": "text"
      },
      "source": [
        "<a href=\"https://colab.research.google.com/github/cow-coding/ML-DL-Study/blob/master/DL%20from%20Scratch/Book%201/Chap05/1.BackPropagation.ipynb\" target=\"_parent\"><img src=\"https://colab.research.google.com/assets/colab-badge.svg\" alt=\"Open In Colab\"/></a>"
      ]
    },
    {
      "cell_type": "markdown",
      "metadata": {
        "id": "9X19xzuQdkJz"
      },
      "source": [
        "# Back Propagation case by Node\n",
        "\n",
        "노드의 종류에 따라 역전파의 계산법이 다르다.  \n",
        "계산 방법은 아래와 같다."
      ]
    },
    {
      "cell_type": "markdown",
      "metadata": {
        "id": "IFyGjVnRgy0p"
      },
      "source": [
        "## Multiply Node backpropagation"
      ]
    },
    {
      "cell_type": "markdown",
      "metadata": {
        "id": "1jt1ZBiCg3UD"
      },
      "source": [
        "![Untitled 11.png](data:image/png;base64,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)"
      ]
    },
    {
      "cell_type": "markdown",
      "metadata": {
        "id": "P2N3HOwyg5r0"
      },
      "source": [
        "## Implementation MulLayer class"
      ]
    },
    {
      "cell_type": "code",
      "metadata": {
        "id": "pcSYq7CVgvRM"
      },
      "source": [
        "class MulLayer:\n",
        "  def __init__(self):\n",
        "    self.x = None\n",
        "    self.y = None\n",
        "\n",
        "  def forward(self, x, y):\n",
        "    self.x = x\n",
        "    self.y = y\n",
        "    out = x * y\n",
        "\n",
        "    return out\n",
        "\n",
        "  def backward(self, dout):\n",
        "    dx = dout * self.y\n",
        "    dy = dout * self.x\n",
        "\n",
        "    return dx, dy"
      ],
      "execution_count": 5,
      "outputs": []
    },
    {
      "cell_type": "markdown",
      "metadata": {
        "id": "1_0_9u_2hwTG"
      },
      "source": [
        "### example of MulLayer"
      ]
    },
    {
      "cell_type": "code",
      "metadata": {
        "colab": {
          "base_uri": "https://localhost:8080/"
        },
        "id": "-Etwf2hzhVGE",
        "outputId": "28231f1f-2d50-4ad1-be09-aef3375ec6fe"
      },
      "source": [
        "apple = 100\n",
        "apple_num = 2\n",
        "tax = 1.1\n",
        "\n",
        "# layers\n",
        "mul_apple_layer = MulLayer()\n",
        "mul_tax_layer = MulLayer()\n",
        "\n",
        "# forward\n",
        "apple_price = mul_apple_layer.forward(apple, apple_num)\n",
        "price = mul_tax_layer.forward(apple_price, tax)\n",
        "\n",
        "# backward\n",
        "dprice = 1\n",
        "dapple_price, dtax = mul_tax_layer.backward(dprice)\n",
        "dapple, dapple_num = mul_apple_layer.backward(dapple_price)\n",
        "\n",
        "print(dapple, dapple_num, dtax)"
      ],
      "execution_count": 6,
      "outputs": [
        {
          "output_type": "stream",
          "text": [
            "2.2 110.00000000000001 200\n"
          ],
          "name": "stdout"
        }
      ]
    },
    {
      "cell_type": "markdown",
      "metadata": {
        "id": "gUI4pDhMduZ9"
      },
      "source": [
        "## Add Node backpropagation"
      ]
    },
    {
      "cell_type": "markdown",
      "metadata": {
        "id": "n41D5HLkeYKB"
      },
      "source": [
        "![Untitled Diagram.png](data:image/png;base64,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)"
      ]
    },
    {
      "cell_type": "markdown",
      "metadata": {
        "id": "oXj_Z22BgaLg"
      },
      "source": [
        "## Implementation AddLyer class"
      ]
    },
    {
      "cell_type": "code",
      "metadata": {
        "id": "Trn4rOtpcvck"
      },
      "source": [
        "class AddLayer:\n",
        "  def __init__(self):\n",
        "    pass\n",
        "\n",
        "  def forward(self, x, y):\n",
        "    out = x + y\n",
        "    return out\n",
        "\n",
        "  def backward(self, dout):\n",
        "    dx = dout * 1\n",
        "    dy = dout * 1\n",
        "\n",
        "    return dx, dy"
      ],
      "execution_count": 8,
      "outputs": []
    },
    {
      "cell_type": "markdown",
      "metadata": {
        "id": "PI9KsI-Jixdz"
      },
      "source": [
        "### example of AddLayer"
      ]
    },
    {
      "cell_type": "code",
      "metadata": {
        "colab": {
          "base_uri": "https://localhost:8080/"
        },
        "id": "K-CzThKli1JW",
        "outputId": "e169b5c9-5f20-4908-9a2d-2e24925f5e86"
      },
      "source": [
        "apple = 100\n",
        "apple_num = 2\n",
        "orange = 150\n",
        "orange_num = 3\n",
        "tax = 1.1\n",
        "\n",
        "# layers\n",
        "mul_apple_layer = MulLayer()\n",
        "mul_orange_layer = MulLayer()\n",
        "add_apple_orange_layer = AddLayer()\n",
        "mul_tax_layer = MulLayer()\n",
        "\n",
        "# forward\n",
        "apple_price = mul_apple_layer.forward(apple, apple_num)\n",
        "orange_price = mul_orange_layer.forward(orange, orange_num)\n",
        "all_price = add_apple_orange_layer.forward(apple_price, orange_price)\n",
        "price = mul_tax_layer.forward(all_price, tax)\n",
        "\n",
        "# backward\n",
        "dprice = 1\n",
        "dall_price, dtax = mul_tax_layer.backward(dprice)\n",
        "dapple_price, dorange_price = add_apple_orange_layer.backward(dall_price)\n",
        "dapple, dapple_num = mul_apple_layer.backward(dapple_price)\n",
        "dorange, dorange_num = mul_orange_layer.backward(dorange_price)\n",
        "\n",
        "print(price)\n",
        "print(dapple_num, dapple, dorange, dorange_num, tax)"
      ],
      "execution_count": 15,
      "outputs": [
        {
          "output_type": "stream",
          "text": [
            "715.0000000000001\n",
            "110.00000000000001 2.2 3.3000000000000003 165.0 1.1\n"
          ],
          "name": "stdout"
        }
      ]
    }
  ]
}