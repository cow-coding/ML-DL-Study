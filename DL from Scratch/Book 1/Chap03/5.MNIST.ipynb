{
  "nbformat": 4,
  "nbformat_minor": 0,
  "metadata": {
    "colab": {
      "name": "5.MNIST.ipynb",
      "provenance": [],
      "collapsed_sections": [],
      "toc_visible": true,
      "mount_file_id": "1VcBC-Yt0ZKXIjgxbGvhU39YxqiRY_JIG",
      "authorship_tag": "ABX9TyMEe0rvljNQrfFxOZIbcfHZ",
      "include_colab_link": true
    },
    "kernelspec": {
      "name": "python3",
      "display_name": "Python 3"
    }
  },
  "cells": [
    {
      "cell_type": "markdown",
      "metadata": {
        "id": "view-in-github",
        "colab_type": "text"
      },
      "source": [
        "<a href=\"https://colab.research.google.com/github/cow-coding/ML-DL-Study/blob/master/DL%20from%20Scratch/Book%201/Chap03/5.MNIST.ipynb\" target=\"_parent\"><img src=\"https://colab.research.google.com/assets/colab-badge.svg\" alt=\"Open In Colab\"/></a>"
      ]
    },
    {
      "cell_type": "markdown",
      "metadata": {
        "id": "zDIDfyYr_6_G"
      },
      "source": [
        "# Drive setting"
      ]
    },
    {
      "cell_type": "code",
      "metadata": {
        "colab": {
          "base_uri": "https://localhost:8080/"
        },
        "id": "W5yeGPiF_6w9",
        "outputId": "d1753749-a83a-4d38-cc61-a7cd34a2d128"
      },
      "source": [
        "%cd /content/drive/MyDrive/Colab\\ Notebooks/"
      ],
      "execution_count": 3,
      "outputs": [
        {
          "output_type": "stream",
          "text": [
            "/content/drive/MyDrive/Colab Notebooks\n"
          ],
          "name": "stdout"
        }
      ]
    },
    {
      "cell_type": "markdown",
      "metadata": {
        "id": "4SCcrQ940fxM"
      },
      "source": [
        "# Libary import & Setting\n"
      ]
    },
    {
      "cell_type": "code",
      "metadata": {
        "id": "krrdrZ-dzlTg"
      },
      "source": [
        "from dataset.mnist import load_mnist # load MNIST data\n",
        "import numpy as np\n",
        "from PIL import Image                # Image module\n",
        "from matplotlib.pyplot import imshow\n",
        "import pickle\n",
        "\n",
        "%matplotlib inline"
      ],
      "execution_count": 32,
      "outputs": []
    },
    {
      "cell_type": "markdown",
      "metadata": {
        "id": "ivjaQLBgBxGj"
      },
      "source": [
        "# Load MNIST dataset\n",
        "\n",
        "신경망 학습의 대표적인 예가 손글씨 숫자 분류이다.  \n",
        "이미 학습된 매개변수를 활용해서 학습은 생략하고 추론과정만 구현할 예정  \n",
        "이 과정은 **순전파(Forward Propagation)**이라고 한다."
      ]
    },
    {
      "cell_type": "markdown",
      "metadata": {
        "id": "H6a2fj6TDxxP"
      },
      "source": [
        "## load_mnist explanation\n",
        "\n",
        "- parameter\n",
        "  - normalize : 입력 이미지의 픽셀 0.0 ~ 1.0으로 정규화  \n",
        "  (False : 0 ~ 255 / True : 0.0 ~ 1.0)  \n",
        "\n",
        "  - faltten : 입력 이미지 1차원 배열화  \n",
        "  (False : 1 X 28 X 28의 3차원 배열 / True : 784개의 요소인 1차원 배열)  \n",
        "\n",
        "  - one_hot_label : label을 0 또는 1의 형태로의 설정 여부  \n",
        "  (True : 0 or 1 / False : number)"
      ]
    },
    {
      "cell_type": "code",
      "metadata": {
        "id": "GL-Nw1Fl1i0H",
        "colab": {
          "base_uri": "https://localhost:8080/"
        },
        "outputId": "9a60edfb-afec-486a-be5f-06b416112500"
      },
      "source": [
        "# (train image, train label), (test image, test label)\n",
        "(x_train, t_train), (x_test, t_test) = load_mnist(flatten=True, normalize=False) # one-dimension array & 0~255\n",
        "\n",
        "# print each data shape\n",
        "print(x_train.shape)  # (60000, 784)\n",
        "print(t_train.shape)  # (60000, )\n",
        "print(x_test.shape)  # (10000, 784)\n",
        "print(t_test.shape)  # (10000, )"
      ],
      "execution_count": 49,
      "outputs": [
        {
          "output_type": "stream",
          "text": [
            "(60000, 784)\n",
            "(60000,)\n",
            "(10000, 784)\n",
            "(10000,)\n"
          ],
          "name": "stdout"
        }
      ]
    },
    {
      "cell_type": "markdown",
      "metadata": {
        "id": "cgiQyuKsInmh"
      },
      "source": [
        "# Image Show\n",
        "\n"
      ]
    },
    {
      "cell_type": "markdown",
      "metadata": {
        "id": "1VTkM7POIwIq"
      },
      "source": [
        "`flatten`이 `True`이므로 1차원 넘파이 배열이다.  \n",
        "이미지를 표시할 때는 28 X 28로 변환을 해야하므로 `reshpe()`를 사용한다.  \n",
        "넘파이 이미지 데이터는 PIL 객처로 변환해야하고 이때 `Image.fromarray()`를 사용함"
      ]
    },
    {
      "cell_type": "code",
      "metadata": {
        "colab": {
          "base_uri": "https://localhost:8080/",
          "height": 316
        },
        "id": "RovBMQnxArK4",
        "outputId": "eda482b1-0583-4f1d-e69b-c0623fb23698"
      },
      "source": [
        "def img_show(img):\n",
        "  pil_img = Image.fromarray(np.uint8(img))\n",
        "  imshow(pil_img)\n",
        "\n",
        "img = x_train[0]\n",
        "label = t_train[0]\n",
        "print(label)                # 5\n",
        "\n",
        "print(img.shape)            # (784, )\n",
        "img = img.reshape(28, 28)   # reshape for original image shape\n",
        "print(img.shape)            # (28, 28)\n",
        "\n",
        "img_show(img)"
      ],
      "execution_count": 21,
      "outputs": [
        {
          "output_type": "stream",
          "text": [
            "5\n",
            "(784,)\n",
            "(28, 28)\n"
          ],
          "name": "stdout"
        },
        {
          "output_type": "display_data",
          "data": {
            "image/png": "[encoded data removed]",
            "text/plain": [
              "<Figure size 432x288 with 1 Axes>"
            ]
          },
          "metadata": {
            "tags": [],
            "needs_background": "light"
          }
        }
      ]
    },
    {
      "cell_type": "markdown",
      "metadata": {
        "id": "bJhVZRLIJJe-"
      },
      "source": [
        "# Neural Network's Predict\n",
        "\n",
        "- Input Neuron : 784  \n",
        "(28 X 28 = 784 Image pixel setting)  \n",
        "\n",
        "- Output Neuron : 10  \n",
        "(0 ~ 9 classify setting)\n",
        "\n",
        "- Hidden Layer : 2 (neuron number is random)\n",
        "  - First hidden layer : 50 neuron\n",
        "  - Second hidden layer : 100 neuron"
      ]
    },
    {
      "cell_type": "markdown",
      "metadata": {
        "id": "lU33P2lqLRAx"
      },
      "source": [
        "## Activation function & softmax\n"
      ]
    },
    {
      "cell_type": "code",
      "metadata": {
        "id": "bQ4lfhHgLUFc"
      },
      "source": [
        "def sigmoid(x):\n",
        "  return 1/(1 + np.exp(-x))\n",
        "\n",
        "def softmax(x):\n",
        "  exp_x = np.exp(x)\n",
        "  sum_exp_x = np.sum(exp_x)\n",
        "\n",
        "  y = exp_x / sum_exp_x\n",
        "\n",
        "  return y"
      ],
      "execution_count": 39,
      "outputs": []
    },
    {
      "cell_type": "markdown",
      "metadata": {
        "id": "IrxnEWzZLoHR"
      },
      "source": [
        "## Predict functions"
      ]
    },
    {
      "cell_type": "markdown",
      "metadata": {
        "id": "nRb8MpzKNcVw"
      },
      "source": [
        "### function explanation\n",
        "\n",
        "- `init_network()`  \n",
        "'학습된 가중치 매개변수'를 sample_weight.pkl로부터 가져온다"
      ]
    },
    {
      "cell_type": "code",
      "metadata": {
        "id": "voCx3cTfGYd5"
      },
      "source": [
        "def get_data():\n",
        "  (x_train, t_train), (x_test, t_test) = load_mnist(flatten=True, normalize=True, one_hot_label=False)\n",
        "  \n",
        "  return x_test, t_test\n",
        "\n",
        "def init_network():\n",
        "  with open(\"ch03/sample_weight.pkl\", 'rb') as f:\n",
        "    network = pickle.load(f)\n",
        "\n",
        "    return network\n",
        "\n",
        "def predict(network, x):\n",
        "  W1, W2, W3 = network['W1'], network['W2'], network['W3']\n",
        "  b1, b2, b3 = network['b1'], network['b2'], network['b3']\n",
        "\n",
        "  a1 = np.dot(x, W1) + b1\n",
        "  z1 = sigmoid(a1)\n",
        "\n",
        "  a2 = np.dot(z1, W2) + b2\n",
        "  z2 = sigmoid(a2)\n",
        "\n",
        "  a3 = np.dot(z2, W3) + b3\n",
        "  y = softmax(a3)\n",
        "\n",
        "  return y"
      ],
      "execution_count": 50,
      "outputs": []
    },
    {
      "cell_type": "markdown",
      "metadata": {
        "id": "5Q_sCKdbNwp6"
      },
      "source": [
        "## Predict Test\n",
        "\n",
        "1. x에 저장된 이미지 데이터를 1장식 가져와서 `predict()`로 분류\n",
        "2. `predict()`에서는 각 label의 확률을 넘파이 배열로 저장 (예 : [0.1, 0.3, ..., 0.04] <- 확률값)\n",
        "3. `predict()`로 분류된 배열값 중 가장 확률이 높은 원소의 인덱스를 구한다.\n",
        "4. 해당 인덱스가 예측 결과로 반환"
      ]
    },
    {
      "cell_type": "code",
      "metadata": {
        "colab": {
          "base_uri": "https://localhost:8080/"
        },
        "id": "caasLrc1Lxk7",
        "outputId": "edfdf3a2-494a-41c7-c3b9-c9547b1321c7"
      },
      "source": [
        "x, t = get_data()\n",
        "network = init_network()\n",
        "\n",
        "accuracy_cnt = 0\n",
        "\n",
        "for i in range(len(x)):\n",
        "  y = predict(network, x[i])\n",
        "  p = np.argmax(y) # get index about high percentage elements\n",
        "  \n",
        "  if p == t[i]:\n",
        "    accuracy_cnt += 1\n",
        "\n",
        "print(\"Accuracy:\" + str(float(accuracy_cnt) / len(x)))"
      ],
      "execution_count": 51,
      "outputs": [
        {
          "output_type": "stream",
          "text": [
            "Accuracy:0.9352\n"
          ],
          "name": "stdout"
        }
      ]
    },
    {
      "cell_type": "markdown",
      "metadata": {
        "id": "hlZuhgPnS0Kw"
      },
      "source": [
        "# Batch processing\n"
      ]
    },
    {
      "cell_type": "markdown",
      "metadata": {
        "id": "tdvPXFdyTNgw"
      },
      "source": [
        "## Each Layer shape\n",
        "\n",
        "각 층의 형상 추이를 보면 아래와 같다.  \n",
        "\n",
        "$\n",
        "\\quad X \\quad \\quad \\ \\quad W1 \\quad \\ \\ \\quad W2 \\quad \\ \\quad\\quad W3 \\quad \\rightarrow  \\ \\quad Y \\\\\n",
        "1\\times784 \\quad 784 \\times 50 \\quad 50 \\times 100 \\quad 100 \\times 10 \\quad \\quad 1 \\times 10\n",
        "$\n",
        "\n",
        "위의 과정은 데이터 1장만 입력했을 경우의 흐름이다.  "
      ]
    },
    {
      "cell_type": "code",
      "metadata": {
        "colab": {
          "base_uri": "https://localhost:8080/"
        },
        "id": "Hetg4bgDOU_m",
        "outputId": "02447229-7028-4eaf-b305-8e92acc2ab5a"
      },
      "source": [
        "x, _ = get_data()\n",
        "network = init_network()\n",
        "W1, W2, W3 = network['W1'], network['W2'], network['W3']\n",
        "\n",
        "print(x.shape)\n",
        "print(x[0].shape)\n",
        "print(W1.shape)\n",
        "print(W2.shape)\n",
        "print(W3.shape)"
      ],
      "execution_count": 52,
      "outputs": [
        {
          "output_type": "stream",
          "text": [
            "(10000, 784)\n",
            "(784,)\n",
            "(784, 50)\n",
            "(50, 100)\n",
            "(100, 10)\n"
          ],
          "name": "stdout"
        }
      ]
    },
    {
      "cell_type": "markdown",
      "metadata": {
        "id": "kmJeEitEc44d"
      },
      "source": [
        "## Batch\n",
        "\n",
        "만약 이미지가 여러개 넘겨지는 경우 어떻게 해야할까?  \n",
        "입력 데이터의 형상을 100개로 늘리면 100장의 데이터가 한 번에 출력된다.  \n",
        "\n",
        "$\n",
        "\\quad X \\quad \\quad \\quad \\quad W1 \\quad \\ \\ \\quad W2 \\quad \\ \\quad\\quad W3 \\quad \\rightarrow  \\ \\quad Y \\\\\n",
        "100\\times784 \\quad 784 \\times 50 \\quad 50 \\times 100 \\quad 100 \\times 10 \\quad \\quad 100 \\times 10\n",
        "$  \n",
        "\n",
        "코드의 흐름으로 보면 `x[0]`와 `y[0]`이 짝을 이루며 결과가 저장된다.  \n",
        "이렇게 하나로 묶은 입력 데이터를 **배치(Batch)**라고 한다."
      ]
    },
    {
      "cell_type": "markdown",
      "metadata": {
        "id": "kI7Z3jo8d6kr"
      },
      "source": [
        "## Batch Process implementation"
      ]
    },
    {
      "cell_type": "markdown",
      "metadata": {
        "id": "ritdPIi6ewg4"
      },
      "source": [
        "### Code review\n",
        "\n",
        "1. `x[0:100]`, `x[100:200]`, ...처럼 `batch_size`만큼 데이터를 묶어 꺼내게된다.\n",
        "2. 앞서 말한 것처럼 `argmax()`의 최댓값 인덱스를 가져온다.  \n",
        "이때 `axis=1`을 추가해서 x축을 구성하는 원소에서 탐색한다."
      ]
    },
    {
      "cell_type": "code",
      "metadata": {
        "colab": {
          "base_uri": "https://localhost:8080/"
        },
        "id": "cefT8_03TIuE",
        "outputId": "7e92a568-b747-49dd-d43d-533cf50f862c"
      },
      "source": [
        "x, t = get_data()\n",
        "network = init_network()\n",
        "\n",
        "batch_size = 100 # batch size\n",
        "accuracy_cnt = 0\n",
        "\n",
        "for i in range(0, len(x), batch_size):\n",
        "  x_batch = x[i:i + batch_size]\n",
        "  y_batch = predict(network, x_batch)\n",
        "  p = np.argmax(y_batch, axis=1)\n",
        "\n",
        "  accuracy_cnt += np.sum(p == t[i:i + batch_size])\n",
        "\n",
        "print(\"Accuracy:\" + str(float(accuracy_cnt) / len(x)))"
      ],
      "execution_count": 53,
      "outputs": [
        {
          "output_type": "stream",
          "text": [
            "Accuracy:0.9352\n"
          ],
          "name": "stdout"
        }
      ]
    },
    {
      "cell_type": "markdown",
      "metadata": {
        "id": "LULGTvwLhE4W"
      },
      "source": [
        "### P.S argmax axis"
      ]
    },
    {
      "cell_type": "code",
      "metadata": {
        "colab": {
          "base_uri": "https://localhost:8080/"
        },
        "id": "uOdNTCzRelhj",
        "outputId": "1e3a48b9-34e3-4c8c-a52d-57a6a43455cf"
      },
      "source": [
        "x = np.array([[0.1, 0.8, 0.1],\n",
        "              [0.3, 0.1, 0.6],\n",
        "              [0.2, 0.5, 0.3], \n",
        "              [0.8, 0.1, 0.1]])\n",
        "\n",
        "y1 = np.argmax(x, axis=1)\n",
        "y2 = np.argmax(x, axis=0)\n",
        "print(y1)\n",
        "print(y2)"
      ],
      "execution_count": 56,
      "outputs": [
        {
          "output_type": "stream",
          "text": [
            "[1 2 1 0]\n",
            "[3 0 1]\n"
          ],
          "name": "stdout"
        }
      ]
    }
  ]
}