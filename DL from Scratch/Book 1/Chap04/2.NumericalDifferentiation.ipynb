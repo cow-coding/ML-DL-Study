{
  "nbformat": 4,
  "nbformat_minor": 0,
  "metadata": {
    "colab": {
      "name": "2.Numerical differentiation.ipynb",
      "provenance": [],
      "collapsed_sections": [],
      "authorship_tag": "ABX9TyPp+ELzWRmFQj3ffavCfQwW",
      "include_colab_link": true
    },
    "kernelspec": {
      "name": "python3",
      "display_name": "Python 3"
    },
    "language_info": {
      "name": "python"
    }
  },
  "cells": [
    {
      "cell_type": "markdown",
      "metadata": {
        "id": "view-in-github",
        "colab_type": "text"
      },
      "source": [
        "<a href=\"https://colab.research.google.com/github/cow-coding/ML-DL-Study/blob/master/DL%20from%20Scratch/Book%201/Chap04/2.NumericalDifferentiation.ipynb\" target=\"_parent\"><img src=\"https://colab.research.google.com/assets/colab-badge.svg\" alt=\"Open In Colab\"/></a>"
      ]
    },
    {
      "cell_type": "markdown",
      "metadata": {
        "id": "glZ2VYb8Eeh5"
      },
      "source": [
        "# Library Import\n"
      ]
    },
    {
      "cell_type": "code",
      "metadata": {
        "id": "DzFZ0g3VEh4b"
      },
      "source": [
        "import numpy as np\n",
        "import matplotlib.pyplot as plt"
      ],
      "execution_count": 3,
      "outputs": []
    },
    {
      "cell_type": "markdown",
      "metadata": {
        "id": "HiWqoWgg4IC_"
      },
      "source": [
        "# Numerical differentiation\n",
        "\n",
        "$$\n",
        "\\frac{df(x)}{dx} = \\lim_{h \\rightarrow 0}\\frac{f( x + h) - f(x)}{h}\n",
        "$$  \n",
        "\n",
        "미분의 식을 보면 분모에 있는 시간과 같은 역할을 하는 `h`를 0에 가깝게 한다는 의미를 나타낸다."
      ]
    },
    {
      "cell_type": "code",
      "metadata": {
        "id": "2lAMlo8eeVy0"
      },
      "source": [
        "# bad implementation\n",
        "def numerical_diff(f, x):\n",
        "  h = 10e-50\n",
        "\n",
        "  return (f(x + h) - f(x)) / h"
      ],
      "execution_count": null,
      "outputs": []
    },
    {
      "cell_type": "markdown",
      "metadata": {
        "id": "rxna98Y_CpeU"
      },
      "source": [
        "## Improvements"
      ]
    },
    {
      "cell_type": "markdown",
      "metadata": {
        "id": "DsG_NiWcBEyz"
      },
      "source": [
        "위처럼 수치 미분을 구현하면 2가지 개선점이 존재한다.\n",
        "\n",
        "1. 반올림 오차\n",
        "단순히 매우 작은 값을 분모에 넣게된다면 **반올림 오차(rounding error)**가 발생한다.  \n",
        "즉 매우 작은 값이 생략되어 최종 결과에 오차가 발생한다.  \n",
        "```python\n",
        "np.float32(10e-50)\n",
        "# output : 0.0\n",
        "```  \n",
        "따라서 일반적으로 매우 작은 값으로 10e-4를 활용한다.  \n",
        "\n",
        "2. 함수 f의 차분(값들의 차이)\n",
        "'진정한 미분'은 x 위치의 함수의 기울이지만, 위의 구현에서는 (x+h)와 x사이의 기울기이다.  \n",
        "즉 값이 엄밀하지 않다.  \n",
        "h를 완벽하게 0으로 좁히는 것이 불가능해 생기는 문제이다."
      ]
    },
    {
      "cell_type": "markdown",
      "metadata": {
        "id": "CYWKKa7BCvs-"
      },
      "source": [
        "## Solution"
      ]
    },
    {
      "cell_type": "markdown",
      "metadata": {
        "id": "61lKrvTeC2Tq"
      },
      "source": [
        "### 중앙 차분, 중심 차분\n",
        "오차를 줄이기 위해 $(x + h)$와 $(x - h)$일 때의 함수 $f$의 차분을 계산한다.  \n",
        "이런 방법을 **중심 차분**,**중앙 차분** "
      ]
    },
    {
      "cell_type": "code",
      "metadata": {
        "id": "LPvWka-_CoYu"
      },
      "source": [
        "def numerical_diff(f, x):\n",
        "  h = 1e-4  # 0.0001\n",
        "  return (f(x + h) - f(x - h)) / (2 * h)"
      ],
      "execution_count": 2,
      "outputs": []
    },
    {
      "cell_type": "markdown",
      "metadata": {
        "id": "loRyjhrvDgPt"
      },
      "source": [
        "## Example\n",
        "\n",
        "$$\n",
        "y = 0.01x^2 + 0.1x\n",
        "$$  \n",
        "\n",
        "위의 식을 이용해서 수치 미분 예제를 해보자. 아래 값이 나와야한다.\n",
        "\n",
        "$$\n",
        "\\frac{df(x)}{dx} = 0.02x + 0.1\n",
        "$$"
      ]
    },
    {
      "cell_type": "code",
      "metadata": {
        "colab": {
          "base_uri": "https://localhost:8080/",
          "height": 279
        },
        "id": "2IoPdNxKDakm",
        "outputId": "217591c4-c698-46df-eb96-430211d5042f"
      },
      "source": [
        "def function_1(x):\n",
        "  return 0.01*x**2 + 0.1*x\n",
        "\n",
        "x = np.arange(0.0, 20.0, 0.1)  # 0에서 20까지 0.1 간격의 배열 x를 만든다.\n",
        "y = function_1(x)\n",
        "\n",
        "plt.xlabel(\"x\")\n",
        "plt.ylabel(\"f(x)\")\n",
        "plt.plot(x, y)\n",
        "plt.show()"
      ],
      "execution_count": 8,
      "outputs": [
        {
          "output_type": "display_data",
          "data": {
            "image/png": "[encoded data removed]",
            "text/plain": [
              "<Figure size 432x288 with 1 Axes>"
            ]
          },
          "metadata": {
            "tags": [],
            "needs_background": "light"
          }
        }
      ]
    },
    {
      "cell_type": "code",
      "metadata": {
        "colab": {
          "base_uri": "https://localhost:8080/"
        },
        "id": "L6tvTLnPHIty",
        "outputId": "8e72def6-5338-4262-a2c2-c1d21b4e2478"
      },
      "source": [
        "# calculate numerical differentiation\n",
        "print(numerical_diff(function_1, 5))\n",
        "print(numerical_diff(function_1, 10))"
      ],
      "execution_count": 9,
      "outputs": [
        {
          "output_type": "stream",
          "text": [
            "0.1999999999990898\n",
            "0.2999999999986347\n"
          ],
          "name": "stdout"
        }
      ]
    },
    {
      "cell_type": "markdown",
      "metadata": {
        "id": "6CuwQ3BvIF3p"
      },
      "source": [
        "# Partial differentiation"
      ]
    },
    {
      "cell_type": "markdown",
      "metadata": {
        "id": "465s_QfrIPC6"
      },
      "source": [
        "인수들의 제곱 합을 계산하는 식을 보자.\n",
        "\n",
        "$$\n",
        "f(x_0, x_1) = {x_{0}}^2 + {x_{1}}^2\n",
        "$$"
      ]
    },
    {
      "cell_type": "code",
      "metadata": {
        "id": "4j7oCB3hILs3"
      },
      "source": [
        "def function_2(x):\n",
        "  return x[0]**2 + x[1]**2\n",
        "  # or return np.sum(x**2)"
      ],
      "execution_count": 10,
      "outputs": []
    },
    {
      "cell_type": "markdown",
      "metadata": {
        "id": "zFnOE6fyJG_R"
      },
      "source": [
        "이 식을 미분할 때 어떤 변수를 기준으로 미분하는가를 결정해야하는데,  \n",
        "이를 편미분을 사용하면 할 수 있다."
      ]
    },
    {
      "cell_type": "code",
      "metadata": {
        "colab": {
          "base_uri": "https://localhost:8080/"
        },
        "id": "96R21HPtJBvJ",
        "outputId": "06edd68d-362e-40c1-aaf9-55d7b6fd46bc"
      },
      "source": [
        "# partial differntiation by x0\n",
        "def function_tmp1(x0):\n",
        "  return x0 * x0 + 4.0**2.0\n",
        "\n",
        "print(numerical_diff(function_tmp1, 3.0))\n",
        "\n",
        "# partial differntiation by x1\n",
        "def function_tmp2(x1):\n",
        "  return 3.0 ** 2.0 + x1 * x1\n",
        "\n",
        "print(numerical_diff(function_tmp2, 4.0))  "
      ],
      "execution_count": 14,
      "outputs": [
        {
          "output_type": "stream",
          "text": [
            "6.00000000000378\n",
            "7.999999999999119\n"
          ],
          "name": "stdout"
        }
      ]
    },
    {
      "cell_type": "markdown",
      "metadata": {
        "id": "7aP9SSRgK_nr"
      },
      "source": [
        "무슨 함수를 넣은건가 생각이 들지만 편미분 성질에 의해서 `function_tmp1`은 x0만 변수를 살린 것이고 `function_tmp2`는 x1만 변수를 살린 것이다."
      ]
    }
  ]
}