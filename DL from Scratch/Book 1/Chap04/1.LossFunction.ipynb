{
  "nbformat": 4,
  "nbformat_minor": 0,
  "metadata": {
    "colab": {
      "name": "1.LossFunction.ipynb",
      "provenance": [],
      "collapsed_sections": [],
      "toc_visible": true,
      "mount_file_id": "1mwdf2BXCWQ5kb2yRaUz0eU3pjGFyzkvC",
      "authorship_tag": "ABX9TyPzwTUhCfRx2T4Bby98yFeT",
      "include_colab_link": true
    },
    "kernelspec": {
      "name": "python3",
      "display_name": "Python 3"
    },
    "language_info": {
      "name": "python"
    }
  },
  "cells": [
    {
      "cell_type": "markdown",
      "metadata": {
        "id": "view-in-github",
        "colab_type": "text"
      },
      "source": [
        "<a href=\"https://colab.research.google.com/github/cow-coding/ML-DL-Study/blob/master/DL%20from%20Scratch/Book%201/Chap04/1.LossFunction.ipynb\" target=\"_parent\"><img src=\"https://colab.research.google.com/assets/colab-badge.svg\" alt=\"Open In Colab\"/></a>"
      ]
    },
    {
      "cell_type": "markdown",
      "metadata": {
        "id": "8yGEyrwRB1r6"
      },
      "source": [
        "# Drive Setting"
      ]
    },
    {
      "cell_type": "code",
      "metadata": {
        "colab": {
          "base_uri": "https://localhost:8080/"
        },
        "id": "TxrbCIFSB3pP",
        "outputId": "08bb2d4c-a9f6-45c3-ae24-7b07d6142643"
      },
      "source": [
        "%cd /content/drive/MyDrive/Colab\\ Notebooks/"
      ],
      "execution_count": 22,
      "outputs": [
        {
          "output_type": "stream",
          "text": [
            "/content/drive/MyDrive/Colab Notebooks\n"
          ],
          "name": "stdout"
        }
      ]
    },
    {
      "cell_type": "markdown",
      "metadata": {
        "id": "0tyVt3w55MbF"
      },
      "source": [
        "# Library Import"
      ]
    },
    {
      "cell_type": "code",
      "metadata": {
        "id": "k41mFfsn5MGf"
      },
      "source": [
        "import numpy as np\n",
        "import matplotlib.pyplot as plt\n",
        "from dataset.mnist import load_mnist\n",
        "\n",
        "%matplotlib inline"
      ],
      "execution_count": 24,
      "outputs": []
    },
    {
      "cell_type": "markdown",
      "metadata": {
        "id": "pf1uSBXF0E3l"
      },
      "source": [
        "# Loss Function\n",
        "\n",
        "- 신경망은 '하나의 지표'를 기준으로 최적의 매개변수 값을 탐색한다.  \n",
        "이때 사용하는 지료가 **손실 함수(loog function)**이다.  \n",
        "일반적으로 손실함수는 통계학에서 사용하는 회귀분석에 자주 나타는 **평균 제곱 오차(Mean Squared Error, MSE)**  \n",
        "와 **교차 엔트로피 오차(Cross Entropy Error, CEE)**를 사용한다.  \n",
        "\n",
        "- 손실 함수는 간단하게 말하면 신경망 성능의 '나쁨'을 나타내는 지표이다.  \n",
        "즉, 훈련 데이터를 얼마나 잘 처리하지 '못'하냐를 나타낸다."
      ]
    },
    {
      "cell_type": "markdown",
      "metadata": {
        "id": "EknPc3p_1evS"
      },
      "source": [
        "## Mean Squared Error (MSE)\n",
        "\n",
        "최소 제곱 오차 (Mean Squared Error, MSE)는 손실 함수에서 가장 많이 쓰인다.  \n",
        "\n",
        "$$\n",
        "MSE = \\frac{1}{2}\\sum_{k} (y_{k}-t_{k})^{2}\n",
        "$$  \n",
        "\n",
        "- $y_{k}$ : 신경망의 출력(추정값)\n",
        "- $t_{k}$ : 정답 label (one-hot encoding)\n",
        "- $k$ : 데이터의 차원  \n",
        "\n",
        "이해를 돕기위해 아래의 간단한 예시를 보자."
      ]
    },
    {
      "cell_type": "markdown",
      "metadata": {
        "id": "pqHL4p023maN"
      },
      "source": [
        "### Simple example of MSE"
      ]
    },
    {
      "cell_type": "code",
      "metadata": {
        "id": "kXq8DyEWybEs"
      },
      "source": [
        "y = [0.1, 0.05, 0.6, 0.0, 0.05, 0.1, 0.0, 0.1, 0.0, 0.0]\n",
        "t = [0, 0, 1, 0, 0, 0, 0, 0, 0, 0]"
      ],
      "execution_count": 5,
      "outputs": []
    },
    {
      "cell_type": "markdown",
      "metadata": {
        "id": "aZsR3Ayd35Np"
      },
      "source": [
        "여기서 `y`는 softmax를 통해 나온 출력값이다.  \n",
        "t는 원-핫 인코딩을 통해 찾은 정답 인덱스 표시값이다.  \n",
        "이제 MSE를 구현하는 함수를 만들어 보자."
      ]
    },
    {
      "cell_type": "markdown",
      "metadata": {
        "id": "eS7ZhK3p4a91"
      },
      "source": [
        "#### Implementation of MSE"
      ]
    },
    {
      "cell_type": "code",
      "metadata": {
        "id": "eKOQ4zc24Eqk"
      },
      "source": [
        "def MSE(y, t):\n",
        "  return 0.5 * np.sum((y - t) ** 2)"
      ],
      "execution_count": 6,
      "outputs": []
    },
    {
      "cell_type": "code",
      "metadata": {
        "colab": {
          "base_uri": "https://localhost:8080/"
        },
        "id": "i_wD9QuA4jnq",
        "outputId": "73786251-26ef-4b71-ac98-630f9c1abe42"
      },
      "source": [
        "# ex1 : predict '2' is high percentage\n",
        "y = [0.1, 0.05, 0.6, 0.0, 0.05, 0.1, 0.0, 0.1, 0.0, 0.0]\n",
        "print(MSE(np.array(y), np.array(t)))\n",
        "\n",
        "# ex2 : predict '7' is high percentage\n",
        "y = [0.1, 0.05, 0.1, 0.0, 0.05, 0.1, 0.0, 0.6, 0.0, 0.0]\n",
        "print(MSE(np.array(y), np.array(t)))"
      ],
      "execution_count": 7,
      "outputs": [
        {
          "output_type": "stream",
          "text": [
            "0.09750000000000003\n",
            "0.5975\n"
          ],
          "name": "stdout"
        }
      ]
    },
    {
      "cell_type": "markdown",
      "metadata": {
        "id": "des8CgYA5T_g"
      },
      "source": [
        "위의 예를 보면 첫번째 예의 손실 함수 출력이 작으며 정답 레이블과 오차가 작다.  \n",
        "결과적으로 MSE 기준으로는 첫 번째 결과가 정답에 더 가까운 것으로 추정한다."
      ]
    },
    {
      "cell_type": "markdown",
      "metadata": {
        "id": "jnGc3-6i5sBQ"
      },
      "source": [
        "## Cross Entropy Error (CEE)\n",
        "\n",
        "$$\n",
        "CEE = -\\sum_{k} (t_{k}\\ln{y_{k}})\n",
        "$$  \n",
        "\n",
        "- $y_{k}$ : 신경망의 출력(추정값)\n",
        "- $t_{k}$ : 정답 label (one-hot encoding)\n",
        "- $k$ : 데이터의 차원  \n",
        "\n",
        "자연로그 연산을 하는 것을 알 수 있다. 결과적으로 모든 값은 양수로 나타난다.  \n",
        "대신에 $t_{k}$는 원-핫 인코딩 값을 갖고 있으므로 정답으로 판정되는 값의 출력이 전체 값을 정한다."
      ]
    },
    {
      "cell_type": "code",
      "metadata": {
        "colab": {
          "base_uri": "https://localhost:8080/",
          "height": 425
        },
        "id": "JhCZPwE08B54",
        "outputId": "41e5459a-9dc1-489b-9c15-71a27ee35372"
      },
      "source": [
        "# 자연로그 그래프 그리는 코드\n",
        "# X값 생성\n",
        "x = np.linspace(start=0.0, stop=1.0, num=1000)\n",
        "\n",
        "plt.figure(figsize=(10, 6)) # 크기 지정\n",
        "\n",
        "# 자연로그(Natural Logarithm) Y값 생성 \n",
        "plt.plot(x, np.log(x), 'b-', label='Natural Logarithm(ln)')\n",
        "plt.legend()"
      ],
      "execution_count": 14,
      "outputs": [
        {
          "output_type": "stream",
          "text": [
            "/usr/local/lib/python3.7/dist-packages/ipykernel_launcher.py:7: RuntimeWarning: divide by zero encountered in log\n",
            "  import sys\n"
          ],
          "name": "stderr"
        },
        {
          "output_type": "execute_result",
          "data": {
            "text/plain": [
              "<matplotlib.legend.Legend at 0x7f330bf5c310>"
            ]
          },
          "metadata": {
            "tags": []
          },
          "execution_count": 14
        },
        {
          "output_type": "display_data",
          "data": {
            "image/png": "[encoded data removed]",
            "text/plain": [
              "<Figure size 720x432 with 1 Axes>"
            ]
          },
          "metadata": {
            "tags": [],
            "needs_background": "light"
          }
        }
      ]
    },
    {
      "cell_type": "markdown",
      "metadata": {
        "id": "muHJ2qJW8TpJ"
      },
      "source": [
        "자연로그 그래프를 보면 x가 1이면 y가 0이되고 x가 0에 가까울수록 y는 점점 작아진다.  \n",
        "결과적으로 CEE의 식을 보면 출력값이 커질수록 0에 가까워지다가, 출력이 1이되면 값이 0이된다.  \n",
        "즉 결과적으로 정답일 확률이 낮아질수록 오차값이 커진다. (물론 원-핫 인코딩이라 0 아니면 1이다.)  \n",
        "= 오차값이 크다 -> 정답일 확률이 낮다."
      ]
    },
    {
      "cell_type": "markdown",
      "metadata": {
        "id": "Ck4Ov9MT9W_N"
      },
      "source": [
        "### Simple example of CEE"
      ]
    },
    {
      "cell_type": "code",
      "metadata": {
        "id": "aMEWP4y996hH"
      },
      "source": [
        "y = [0.1, 0.05, 0.6, 0.0, 0.05, 0.1, 0.0, 0.1, 0.0, 0.0]\n",
        "t = [0, 0, 1, 0, 0, 0, 0, 0, 0, 0]"
      ],
      "execution_count": 17,
      "outputs": []
    },
    {
      "cell_type": "markdown",
      "metadata": {
        "id": "Agz6E5PB9cjt"
      },
      "source": [
        "#### Implementation of CEE"
      ]
    },
    {
      "cell_type": "code",
      "metadata": {
        "id": "dILh9OfY8cB6"
      },
      "source": [
        "def CEE(y, t):\n",
        "  delta = 1e-7 # np.log에 0이 들어가서 -inf로 연산이 불가능하게 되는 것을 막기위함\n",
        "  \n",
        "  return -np.sum(t * np.log(y + delta))"
      ],
      "execution_count": 16,
      "outputs": []
    },
    {
      "cell_type": "code",
      "metadata": {
        "colab": {
          "base_uri": "https://localhost:8080/"
        },
        "id": "mg856_3W9qX1",
        "outputId": "a34d1ac3-3cd5-4a46-c1b3-eb4af1de8960"
      },
      "source": [
        "# ex1 : predict '2' is high percentage\n",
        "y = [0.1, 0.05, 0.6, 0.0, 0.05, 0.1, 0.0, 0.1, 0.0, 0.0]\n",
        "print(CEE(np.array(y), np.array(t)))\n",
        "\n",
        "# ex2 : predict '7' is high percentage\n",
        "y = [0.1, 0.05, 0.1, 0.0, 0.05, 0.1, 0.0, 0.6, 0.0, 0.0]\n",
        "print(CEE(np.array(y), np.array(t)))"
      ],
      "execution_count": 19,
      "outputs": [
        {
          "output_type": "stream",
          "text": [
            "0.510825457099338\n",
            "2.302584092994546\n"
          ],
          "name": "stdout"
        }
      ]
    },
    {
      "cell_type": "markdown",
      "metadata": {
        "id": "Mibhz3mI-VU2"
      },
      "source": [
        "위의 예로 CEE를 계산하면 아래와 같다.  \n",
        "첫 번째 예시의 $t_{k}\\ln{y_{k}}$를 계산하면 1 * ln(0.6) = 약 0.51이다.  \n",
        "두 번째 예시의 $t_{k}\\ln{y_{k}}$를 계산하면 1 * ln(0.1) = 약 2.3이다.  \n",
        "즉 계산결과(오차)가 더 작은 첫 번째 추정이 정답일 가능성이 높다."
      ]
    },
    {
      "cell_type": "markdown",
      "metadata": {
        "id": "K-UNo7Jz_2nj"
      },
      "source": [
        "# Mini Batch Learning\n",
        "\n",
        "훈련 데이터를 통해 손실 함수가 가장 작아지는 매개변수를 찾아야한다.  \n",
        "결국 모든 훈련 데이터를 대상으로 손실 함수를 구해야한다. <- 배치 프로세싱  \n",
        "이 경우를 생각해서 CEE를 수정하면 다음과 같다.  \n",
        "\n",
        "$$\n",
        "CEE = -\\frac{1}{N}\\sum_{n} \\sum_{k} (t_{nk}\\ln{y_{nk}})\n",
        "$$  \n",
        "\n",
        "데이터가 N개일때, $t_{nk}$는 n번째 데이터의 k번째 값을 의미한다.  \n",
        "이때 N으로 나누는 이유는 정규화 작업을 진행하는 것이다. ('평균 손실 함수')  \n",
        "\n",
        "하지만 이 식을 실제로 구현하면 이중 for문의 형태가 나타나는데, 시간복잡도가 $O(n^2)$이 되므로 데이터 값이 커질수록 시간 효율은 극악이 된다.  \n",
        "\n",
        "이를 해결하는 방법이 데이터의 일부만 추려서 '근사치'를 활용하는 **미니배치(mini-batch)**를 사용한다.\n"
      ]
    },
    {
      "cell_type": "markdown",
      "metadata": {
        "id": "1doTFmLHC84Y"
      },
      "source": [
        "## Mini batch with MNIST\n"
      ]
    },
    {
      "cell_type": "markdown",
      "metadata": {
        "id": "uT_6FrEPDig-"
      },
      "source": [
        "### Load MNIST"
      ]
    },
    {
      "cell_type": "code",
      "metadata": {
        "colab": {
          "base_uri": "https://localhost:8080/"
        },
        "id": "jmSxTVru-C-p",
        "outputId": "a89092e7-4ffd-4b99-f30d-a5d4a7f80099"
      },
      "source": [
        "(x_train, t_train), (x_test, t_test) = load_mnist(normalize=True, one_hot_label=True)\n",
        "\n",
        "print(x_train.shape)\n",
        "print(t_train.shape)"
      ],
      "execution_count": 25,
      "outputs": [
        {
          "output_type": "stream",
          "text": [
            "(60000, 784)\n",
            "(60000, 10)\n"
          ],
          "name": "stdout"
        }
      ]
    },
    {
      "cell_type": "markdown",
      "metadata": {
        "id": "MysPfZdaDl5_"
      },
      "source": [
        "### Extract random data"
      ]
    },
    {
      "cell_type": "code",
      "metadata": {
        "id": "Y9IQT7q6DWcs"
      },
      "source": [
        "train_size = x_train.shape[0]\n",
        "# extraction size\n",
        "batch_size = 10 \n",
        "# choice is random extract function\n",
        "batch_mask = np.random.choice(train_size, batch_size)\n",
        "\n",
        "x_batch = x_train[batch_mask]\n",
        "t_batch = t_train[batch_mask]"
      ],
      "execution_count": 29,
      "outputs": []
    },
    {
      "cell_type": "markdown",
      "metadata": {
        "id": "0q-DvfsOE_vg"
      },
      "source": [
        "### Implementation CEE for mini batch"
      ]
    },
    {
      "cell_type": "code",
      "metadata": {
        "id": "pdALujukEElE"
      },
      "source": [
        "# 이 부분은 다시 잘 이해해보기\n",
        "def CEE(y, t, one_hot=True):\n",
        "  if one_hot:\n",
        "    # one-hot encoding data\n",
        "    if y.ndim == 1:\n",
        "      t = t.reshape(t, t.size)\n",
        "      y = y.reshape(y, y.size)\n",
        "\n",
        "    batch_size = y.shape[0]\n",
        "\n",
        "    return -np.sum(t * np.log(y + 1e-7)) / batch_size\n",
        "\n",
        "  else:\n",
        "    if y.ndim == 1:\n",
        "      t = t.reshape(t, t.size)\n",
        "      y = y.reshape(y, y.size)\n",
        "\n",
        "    batch_size = y.shape[0]\n",
        "\n",
        "    return -np.sum(np.log(y[np.arange(batch_size), t] + 1e-7)) / batch_size"
      ],
      "execution_count": 40,
      "outputs": []
    },
    {
      "cell_type": "markdown",
      "metadata": {
        "id": "O1LUb33mLMKZ"
      },
      "source": [
        "# Why use loss function?\n",
        "\n"
      ]
    },
    {
      "cell_type": "markdown",
      "metadata": {
        "id": "kgRsU-3_LSER"
      },
      "source": [
        "이쯤되면 왜 귀찮고 이해하기 어렵게 손실함수를 사용하는 지가 생각이 든다.  \n",
        "사실 직관적이고 바로바로 알아볼 수 있게 '정확도'를 사용하면 안될까?라는 생각도 할 수 있다.  \n",
        "이 질문의 답은 '미분'이 갖는 역할에 주목하면 알 수 있다.  \n",
        "\n",
        "신경망 학습에서 최적의 매개변수를 탐색할 때 손실 함수를 가능한 작게 만드는 매개변수를 찾는다.  \n",
        "이 의미는 수학적으로 바라보면 극소, 최소를 찾는 것이라 볼 수 있다.  \n",
        "이 과정에서 미분이 사용된다.  \n",
        "\n",
        "여기서 미분 값이 음수면 매개변수를 양의 방향으로, 값이 양수면 매개변수를 음의 방향으로 조정한다.  \n",
        "하지만 미분 값이 0이라면 어떠한 조정도 이루어지지 않는다.  \n",
        "\n",
        "그렇다면 이게 왜 정확도를 쓸 수 없는가?의 답인 걸까?"
      ]
    },
    {
      "cell_type": "markdown",
      "metadata": {
        "id": "94DGCyXxNeRg"
      },
      "source": [
        "## Why can't we use accuracy\n",
        "\n"
      ]
    },
    {
      "cell_type": "markdown",
      "metadata": {
        "id": "t_KLqpgkNlfH"
      },
      "source": [
        "'정확도'를 지표로 삼게되면 매개변수의 미분 값이 대대분의 지점에서 0이 된다.  \n",
        "왜 '정확도'는 대부분의 미분 값이 0이될까?  \n",
        "\n",
        "예를 들어 생각해보자. 100장의 이미지 중에 32장이 올바르게 인식했다고 하자.  \n",
        "이때의 정확도는 32%가 된다.  \n",
        "만약 정확도를 사용해서 수치를 조정해도 정확하게 33장이 올바르게 인식되지 않는다면 계속해서 32%의 정확도를 갖는다.  \n",
        "그리고 개선이 된다고 해도 33%, 34%처럼 **부드러운**형태가 아닌 불연속적인 변화가 나타나는 **계단함수**가 된다.  \n",
        "\n",
        "즉 매개변수의 미세한 변화가 주는 변화를 계단 함수는 무효화시켜 버리기 때문에 손실 함수에는 변화가 나타나지 않는다.  \n",
        "\n",
        "하지만 시그모이드 형태의 함수는 지속적인 변화가 나타나고 어떤 부분에서도 0의 미분값이 나타나지 않는다.  \n",
        "이런 이유로 '정확도'가 아닌 '손실함수'를 사용하는 것이다."
      ]
    }
  ]
}