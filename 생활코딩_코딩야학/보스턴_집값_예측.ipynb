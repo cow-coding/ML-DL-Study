{
  "nbformat": 4,
  "nbformat_minor": 0,
  "metadata": {
    "colab": {
      "name": "보스턴 집값 예측.ipynb",
      "provenance": [],
      "authorship_tag": "ABX9TyMCeM7k67get9TnuUMuQd3F",
      "include_colab_link": true
    },
    "kernelspec": {
      "name": "python3",
      "display_name": "Python 3"
    }
  },
  "cells": [
    {
      "cell_type": "markdown",
      "metadata": {
        "id": "view-in-github",
        "colab_type": "text"
      },
      "source": [
        "<a href=\"https://colab.research.google.com/github/cow-coding/ML-DL-Study/blob/master/%EC%83%9D%ED%99%9C%EC%BD%94%EB%94%A9_%EC%BD%94%EB%94%A9%EC%95%BC%ED%95%99/%EB%B3%B4%EC%8A%A4%ED%84%B4_%EC%A7%91%EA%B0%92_%EC%98%88%EC%B8%A1.ipynb\" target=\"_parent\"><img src=\"https://colab.research.google.com/assets/colab-badge.svg\" alt=\"Open In Colab\"/></a>"
      ]
    },
    {
      "cell_type": "code",
      "metadata": {
        "id": "B8WeVXZPUREo",
        "colab_type": "code",
        "colab": {}
      },
      "source": [
        "# 라이브러리\n",
        "import tensorflow as tf\n",
        "import pandas as pd"
      ],
      "execution_count": null,
      "outputs": []
    },
    {
      "cell_type": "code",
      "metadata": {
        "id": "dLKzW-pjW3IE",
        "colab_type": "code",
        "colab": {
          "base_uri": "https://localhost:8080/",
          "height": 68
        },
        "outputId": "d4cb3097-3e07-4802-94f0-6c626c858ff3"
      },
      "source": [
        "# 과거의 데이터 준비\n",
        "file_url = 'https://raw.githubusercontent.com/blackdew/tensorflow1/master/csv/boston.csv'\n",
        "boston = pd.read_csv(file_url)\n",
        "boston.head()\n",
        "print(boston.columns)"
      ],
      "execution_count": null,
      "outputs": [
        {
          "output_type": "stream",
          "text": [
            "Index(['crim', 'zn', 'indus', 'chas', 'nox', 'rm', 'age', 'dis', 'rad', 'tax',\n",
            "       'ptratio', 'b', 'lstat', 'medv'],\n",
            "      dtype='object')\n"
          ],
          "name": "stdout"
        }
      ]
    },
    {
      "cell_type": "code",
      "metadata": {
        "id": "YannTSV0XAMU",
        "colab_type": "code",
        "colab": {
          "base_uri": "https://localhost:8080/",
          "height": 34
        },
        "outputId": "0803713e-380b-4e67-fcac-dd07a02bed88"
      },
      "source": [
        "# 독립, 종속 변수설정\n",
        "cause = boston[['crim', 'zn', 'indus', 'chas', 'nox', 'rm', 'age', 'dis', 'rad', 'tax',\n",
        "       'ptratio', 'b', 'lstat']]\n",
        "effect = boston[['medv']]\n",
        "\n",
        "print(cause.shape, effect.shape)"
      ],
      "execution_count": null,
      "outputs": [
        {
          "output_type": "stream",
          "text": [
            "(506, 13) (506, 1)\n"
          ],
          "name": "stdout"
        }
      ]
    },
    {
      "cell_type": "code",
      "metadata": {
        "id": "RMvvnJgJXT83",
        "colab_type": "code",
        "colab": {}
      },
      "source": [
        "# 모델의 구조를 만듭니다.\n",
        "X = tf.keras.layers.Input(shape=[13])\n",
        "Y = tf.keras.layers.Dense(1)(X)\n",
        "model = tf.keras.models.Model(X, Y)\n",
        "model.compile(loss='mse')"
      ],
      "execution_count": null,
      "outputs": []
    },
    {
      "cell_type": "code",
      "metadata": {
        "id": "HeEOao9FXqhI",
        "colab_type": "code",
        "colab": {
          "base_uri": "https://localhost:8080/",
          "height": 374
        },
        "outputId": "51fb3487-c510-4a07-ffea-273310b341c5"
      },
      "source": [
        "# 데이터로 모델 학습\n",
        "model.fit(cause, effect, epochs=1000, verbose=0)\n",
        "model.fit(cause, effect, epochs=10)"
      ],
      "execution_count": null,
      "outputs": [
        {
          "output_type": "stream",
          "text": [
            "Epoch 1/10\n",
            "16/16 [==============================] - 0s 868us/step - loss: 23.3970\n",
            "Epoch 2/10\n",
            "16/16 [==============================] - 0s 811us/step - loss: 23.9189\n",
            "Epoch 3/10\n",
            "16/16 [==============================] - 0s 792us/step - loss: 23.4642\n",
            "Epoch 4/10\n",
            "16/16 [==============================] - 0s 772us/step - loss: 23.5572\n",
            "Epoch 5/10\n",
            "16/16 [==============================] - 0s 799us/step - loss: 23.7983\n",
            "Epoch 6/10\n",
            "16/16 [==============================] - 0s 1ms/step - loss: 23.4249\n",
            "Epoch 7/10\n",
            "16/16 [==============================] - 0s 888us/step - loss: 23.5073\n",
            "Epoch 8/10\n",
            "16/16 [==============================] - 0s 853us/step - loss: 23.7168\n",
            "Epoch 9/10\n",
            "16/16 [==============================] - 0s 841us/step - loss: 23.9394\n",
            "Epoch 10/10\n",
            "16/16 [==============================] - 0s 875us/step - loss: 23.2870\n"
          ],
          "name": "stdout"
        },
        {
          "output_type": "execute_result",
          "data": {
            "text/plain": [
              "<tensorflow.python.keras.callbacks.History at 0x7fc91963b198>"
            ]
          },
          "metadata": {
            "tags": []
          },
          "execution_count": 22
        }
      ]
    },
    {
      "cell_type": "code",
      "metadata": {
        "id": "VPUEbzLXXugX",
        "colab_type": "code",
        "colab": {
          "base_uri": "https://localhost:8080/",
          "height": 102
        },
        "outputId": "1dfe849c-3272-4475-d42c-47d490d40c49"
      },
      "source": [
        "# 모델을 이용\n",
        "model.predict(cause[0:5])"
      ],
      "execution_count": null,
      "outputs": [
        {
          "output_type": "execute_result",
          "data": {
            "text/plain": [
              "array([[29.726707],\n",
              "       [24.665173],\n",
              "       [31.024109],\n",
              "       [29.50922 ],\n",
              "       [29.115215]], dtype=float32)"
            ]
          },
          "metadata": {
            "tags": []
          },
          "execution_count": 19
        }
      ]
    },
    {
      "cell_type": "code",
      "metadata": {
        "id": "fZu1kfRpYqIA",
        "colab_type": "code",
        "colab": {
          "base_uri": "https://localhost:8080/",
          "height": 204
        },
        "outputId": "764f4028-739c-4e1b-ab84-fac06055a734"
      },
      "source": [
        "effect[0:5]"
      ],
      "execution_count": null,
      "outputs": [
        {
          "output_type": "execute_result",
          "data": {
            "text/html": [
              "<div>\n",
              "<style scoped>\n",
              "    .dataframe tbody tr th:only-of-type {\n",
              "        vertical-align: middle;\n",
              "    }\n",
              "\n",
              "    .dataframe tbody tr th {\n",
              "        vertical-align: top;\n",
              "    }\n",
              "\n",
              "    .dataframe thead th {\n",
              "        text-align: right;\n",
              "    }\n",
              "</style>\n",
              "<table border=\"1\" class=\"dataframe\">\n",
              "  <thead>\n",
              "    <tr style=\"text-align: right;\">\n",
              "      <th></th>\n",
              "      <th>medv</th>\n",
              "    </tr>\n",
              "  </thead>\n",
              "  <tbody>\n",
              "    <tr>\n",
              "      <th>0</th>\n",
              "      <td>24.0</td>\n",
              "    </tr>\n",
              "    <tr>\n",
              "      <th>1</th>\n",
              "      <td>21.6</td>\n",
              "    </tr>\n",
              "    <tr>\n",
              "      <th>2</th>\n",
              "      <td>34.7</td>\n",
              "    </tr>\n",
              "    <tr>\n",
              "      <th>3</th>\n",
              "      <td>33.4</td>\n",
              "    </tr>\n",
              "    <tr>\n",
              "      <th>4</th>\n",
              "      <td>36.2</td>\n",
              "    </tr>\n",
              "  </tbody>\n",
              "</table>\n",
              "</div>"
            ],
            "text/plain": [
              "   medv\n",
              "0  24.0\n",
              "1  21.6\n",
              "2  34.7\n",
              "3  33.4\n",
              "4  36.2"
            ]
          },
          "metadata": {
            "tags": []
          },
          "execution_count": 21
        }
      ]
    },
    {
      "cell_type": "code",
      "metadata": {
        "id": "OSD-BNxPYt0A",
        "colab_type": "code",
        "colab": {
          "base_uri": "https://localhost:8080/",
          "height": 238
        },
        "outputId": "9ac0c4db-3fbc-4b36-c019-6170c23a1aea"
      },
      "source": [
        "# 모델의 수식 확인\n",
        "model.get_weights()"
      ],
      "execution_count": null,
      "outputs": [
        {
          "output_type": "execute_result",
          "data": {
            "text/plain": [
              "[array([[-0.09539508],\n",
              "        [ 0.04693284],\n",
              "        [-0.01268334],\n",
              "        [ 2.6468308 ],\n",
              "        [-4.90954   ],\n",
              "        [ 5.0729666 ],\n",
              "        [-0.00669395],\n",
              "        [-1.1285049 ],\n",
              "        [ 0.21431635],\n",
              "        [-0.00992624],\n",
              "        [-0.58351356],\n",
              "        [ 0.0132887 ],\n",
              "        [-0.46906078]], dtype=float32), array([12.529167], dtype=float32)]"
            ]
          },
          "metadata": {
            "tags": []
          },
          "execution_count": 23
        }
      ]
    },
    {
      "cell_type": "code",
      "metadata": {
        "id": "OlEIQkZGZF5_",
        "colab_type": "code",
        "colab": {}
      },
      "source": [
        ""
      ],
      "execution_count": null,
      "outputs": []
    }
  ]
}