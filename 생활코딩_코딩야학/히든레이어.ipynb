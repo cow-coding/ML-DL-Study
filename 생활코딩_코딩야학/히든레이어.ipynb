{
  "nbformat": 4,
  "nbformat_minor": 0,
  "metadata": {
    "colab": {
      "name": "히든레이어.ipynb",
      "provenance": [],
      "collapsed_sections": [],
      "authorship_tag": "ABX9TyMgToRASY/ttd8Z/X2Z9s8E",
      "include_colab_link": true
    },
    "kernelspec": {
      "name": "python3",
      "display_name": "Python 3"
    }
  },
  "cells": [
    {
      "cell_type": "markdown",
      "metadata": {
        "id": "view-in-github",
        "colab_type": "text"
      },
      "source": [
        "<a href=\"https://colab.research.google.com/github/cow-coding/ML-DL-Study/blob/master/%EC%83%9D%ED%99%9C%EC%BD%94%EB%94%A9_%EC%BD%94%EB%94%A9%EC%95%BC%ED%95%99/%ED%9E%88%EB%93%A0%EB%A0%88%EC%9D%B4%EC%96%B4.ipynb\" target=\"_parent\"><img src=\"https://colab.research.google.com/assets/colab-badge.svg\" alt=\"Open In Colab\"/></a>"
      ]
    },
    {
      "cell_type": "code",
      "metadata": {
        "id": "YlRyqgEiuuvX",
        "colab_type": "code",
        "colab": {}
      },
      "source": [
        "boston : 'https://raw.githubusercontent.com/blackdew/tensorflow1/master/csv/boston.csv'\n",
        "iris : 'https://raw.githubusercontent.com/blackdew/tensorflow1/master/csv/iris.csv'"
      ],
      "execution_count": null,
      "outputs": []
    },
    {
      "cell_type": "code",
      "metadata": {
        "id": "DdwXZL3EvwDk",
        "colab_type": "code",
        "colab": {}
      },
      "source": [
        "# library\n",
        "import tensorflow as tf\n",
        "import pandas as pd"
      ],
      "execution_count": null,
      "outputs": []
    },
    {
      "cell_type": "markdown",
      "metadata": {
        "id": "qrtDcH68v1bM",
        "colab_type": "text"
      },
      "source": [
        "# 보스턴 집값 예측"
      ]
    },
    {
      "cell_type": "code",
      "metadata": {
        "id": "moUc1lkHv0KS",
        "colab_type": "code",
        "colab": {
          "base_uri": "https://localhost:8080/",
          "height": 34
        },
        "outputId": "ae9de7e8-93bc-4aa3-d6a7-fe63c5811b21"
      },
      "source": [
        "# setting\n",
        "url = 'https://raw.githubusercontent.com/blackdew/tensorflow1/master/csv/boston.csv'\n",
        "boston = pd.read_csv(url)\n",
        "\n",
        "cause = boston[['crim', 'zn', 'indus', 'chas', 'nox', 'rm', 'age', 'dis', 'rad', 'tax', 'ptratio', 'b', 'lstat']]\n",
        "effect = boston[['medv']]\n",
        "\n",
        "print(cause.shape, effect.shape)\n",
        "\n",
        "X = tf.keras.layers.Input(shape=[13])\n",
        "H = tf.keras.layers.Dense(10, activation='swish')(X)\n",
        "Y = tf.keras.layers.Dense(1)(H)\n",
        "model = tf.keras.models.Model(X,Y)\n",
        "model.compile(loss='mse')"
      ],
      "execution_count": null,
      "outputs": [
        {
          "output_type": "stream",
          "text": [
            "(506, 13) (506, 1)\n"
          ],
          "name": "stdout"
        }
      ]
    },
    {
      "cell_type": "code",
      "metadata": {
        "id": "HpBZVeFfxLat",
        "colab_type": "code",
        "colab": {
          "base_uri": "https://localhost:8080/",
          "height": 289
        },
        "outputId": "43c80924-6450-4088-94cf-e3b7724849fb"
      },
      "source": [
        "model.summary()"
      ],
      "execution_count": null,
      "outputs": [
        {
          "output_type": "stream",
          "text": [
            "Model: \"functional_5\"\n",
            "_________________________________________________________________\n",
            "Layer (type)                 Output Shape              Param #   \n",
            "=================================================================\n",
            "input_7 (InputLayer)         [(None, 13)]              0         \n",
            "_________________________________________________________________\n",
            "dense_13 (Dense)             (None, 10)                140       \n",
            "_________________________________________________________________\n",
            "dense_14 (Dense)             (None, 3)                 33        \n",
            "_________________________________________________________________\n",
            "dense_15 (Dense)             (None, 1)                 4         \n",
            "=================================================================\n",
            "Total params: 177\n",
            "Trainable params: 177\n",
            "Non-trainable params: 0\n",
            "_________________________________________________________________\n"
          ],
          "name": "stdout"
        }
      ]
    },
    {
      "cell_type": "code",
      "metadata": {
        "id": "tOZm4M1kwPiW",
        "colab_type": "code",
        "colab": {
          "base_uri": "https://localhost:8080/",
          "height": 374
        },
        "outputId": "1249fd61-24d6-4cbd-f4e8-c35d103d59af"
      },
      "source": [
        "# fitting\n",
        "model.fit(cause, effect, epochs=1000, verbose=0)\n",
        "model.fit(cause, effect, epochs=10)"
      ],
      "execution_count": null,
      "outputs": [
        {
          "output_type": "stream",
          "text": [
            "Epoch 1/10\n",
            "16/16 [==============================] - 0s 947us/step - loss: 9.2407\n",
            "Epoch 2/10\n",
            "16/16 [==============================] - 0s 916us/step - loss: 10.4705\n",
            "Epoch 3/10\n",
            "16/16 [==============================] - 0s 962us/step - loss: 11.1880\n",
            "Epoch 4/10\n",
            "16/16 [==============================] - 0s 937us/step - loss: 9.6145\n",
            "Epoch 5/10\n",
            "16/16 [==============================] - 0s 932us/step - loss: 9.9097\n",
            "Epoch 6/10\n",
            "16/16 [==============================] - 0s 811us/step - loss: 9.4009\n",
            "Epoch 7/10\n",
            "16/16 [==============================] - 0s 937us/step - loss: 9.7135\n",
            "Epoch 8/10\n",
            "16/16 [==============================] - 0s 846us/step - loss: 9.3619\n",
            "Epoch 9/10\n",
            "16/16 [==============================] - 0s 826us/step - loss: 10.1273\n",
            "Epoch 10/10\n",
            "16/16 [==============================] - 0s 820us/step - loss: 9.5979\n"
          ],
          "name": "stdout"
        },
        {
          "output_type": "execute_result",
          "data": {
            "text/plain": [
              "<tensorflow.python.keras.callbacks.History at 0x7f366ec77dd8>"
            ]
          },
          "metadata": {
            "tags": []
          },
          "execution_count": 43
        }
      ]
    },
    {
      "cell_type": "code",
      "metadata": {
        "id": "XQaDLV0IxnYG",
        "colab_type": "code",
        "colab": {
          "base_uri": "https://localhost:8080/",
          "height": 204
        },
        "outputId": "0a148a5e-c5a9-4377-fc35-14332e545ef7"
      },
      "source": [
        "# use model\n",
        "print(model.predict(cause[:5]))\n",
        "print(effect[:5])"
      ],
      "execution_count": null,
      "outputs": [
        {
          "output_type": "stream",
          "text": [
            "[[29.481722]\n",
            " [23.027624]\n",
            " [34.766857]\n",
            " [33.16109 ]\n",
            " [31.806032]]\n",
            "   medv\n",
            "0  24.0\n",
            "1  21.6\n",
            "2  34.7\n",
            "3  33.4\n",
            "4  36.2\n"
          ],
          "name": "stdout"
        }
      ]
    },
    {
      "cell_type": "markdown",
      "metadata": {
        "id": "xPbn6uDLz-sb",
        "colab_type": "text"
      },
      "source": [
        "# 아이리스 품종 분류"
      ]
    },
    {
      "cell_type": "code",
      "metadata": {
        "id": "ifYAWIJCz-CH",
        "colab_type": "code",
        "colab": {
          "base_uri": "https://localhost:8080/",
          "height": 34
        },
        "outputId": "2050ee27-cff9-4587-a9ae-0105c5626c73"
      },
      "source": [
        "# setting\n",
        "url = 'https://raw.githubusercontent.com/blackdew/tensorflow1/master/csv/iris.csv'\n",
        "iris = pd.read_csv(url)\n",
        "iris = pd.get_dummies(iris)\n",
        "\n",
        "cause = iris[['꽃잎길이', '꽃잎폭', '꽃받침길이', '꽃받침폭']]\n",
        "effect = iris[['품종_setosa', '품종_versicolor', '품종_virginica']]\n",
        "\n",
        "print(cause.shape, effect.shape)"
      ],
      "execution_count": null,
      "outputs": [
        {
          "output_type": "stream",
          "text": [
            "(150, 4) (150, 3)\n"
          ],
          "name": "stdout"
        }
      ]
    },
    {
      "cell_type": "code",
      "metadata": {
        "id": "EYyes8j40OoA",
        "colab_type": "code",
        "colab": {}
      },
      "source": [
        "# model make\n",
        "X = tf.keras.layers.Input(shape=[4])\n",
        "H = tf.keras.layers.Dense(8, activation='swish')(X)\n",
        "H = tf.keras.layers.Dense(8, activation='swish')(H)\n",
        "H = tf.keras.layers.Dense(8, activation='swish')(H)\n",
        "Y = tf.keras.layers.Dense(3, activation='softmax')(H)\n",
        "model = tf.keras.models.Model(X, Y)\n",
        "model.compile(loss='categorical_crossentropy', metrics='accuracy')"
      ],
      "execution_count": null,
      "outputs": []
    },
    {
      "cell_type": "code",
      "metadata": {
        "id": "VBdnXlSQ1Bhq",
        "colab_type": "code",
        "colab": {
          "base_uri": "https://localhost:8080/",
          "height": 1000
        },
        "outputId": "e8ba0b38-84e9-4a8c-c142-fb10da0f60b7"
      },
      "source": [
        "# mode fitting\n",
        "model.fit(cause, effect, epochs=100)"
      ],
      "execution_count": null,
      "outputs": [
        {
          "output_type": "stream",
          "text": [
            "Epoch 1/100\n",
            "5/5 [==============================] - 0s 2ms/step - loss: 0.1471 - accuracy: 0.9800\n",
            "Epoch 2/100\n",
            "5/5 [==============================] - 0s 1ms/step - loss: 0.1484 - accuracy: 0.9667\n",
            "Epoch 3/100\n",
            "5/5 [==============================] - 0s 1ms/step - loss: 0.1424 - accuracy: 0.9800\n",
            "Epoch 4/100\n",
            "5/5 [==============================] - 0s 1ms/step - loss: 0.1416 - accuracy: 0.9800\n",
            "Epoch 5/100\n",
            "5/5 [==============================] - 0s 2ms/step - loss: 0.1358 - accuracy: 0.9733\n",
            "Epoch 6/100\n",
            "5/5 [==============================] - 0s 1ms/step - loss: 0.1329 - accuracy: 0.9800\n",
            "Epoch 7/100\n",
            "5/5 [==============================] - 0s 2ms/step - loss: 0.1352 - accuracy: 0.9667\n",
            "Epoch 8/100\n",
            "5/5 [==============================] - 0s 2ms/step - loss: 0.1333 - accuracy: 0.9800\n",
            "Epoch 9/100\n",
            "5/5 [==============================] - 0s 2ms/step - loss: 0.1267 - accuracy: 0.9800\n",
            "Epoch 10/100\n",
            "5/5 [==============================] - 0s 2ms/step - loss: 0.1247 - accuracy: 0.9800\n",
            "Epoch 11/100\n",
            "5/5 [==============================] - 0s 2ms/step - loss: 0.1223 - accuracy: 0.9800\n",
            "Epoch 12/100\n",
            "5/5 [==============================] - 0s 1ms/step - loss: 0.1226 - accuracy: 0.9733\n",
            "Epoch 13/100\n",
            "5/5 [==============================] - 0s 1ms/step - loss: 0.1296 - accuracy: 0.9667\n",
            "Epoch 14/100\n",
            "5/5 [==============================] - 0s 1ms/step - loss: 0.1191 - accuracy: 0.9733\n",
            "Epoch 15/100\n",
            "5/5 [==============================] - 0s 1ms/step - loss: 0.1169 - accuracy: 0.9733\n",
            "Epoch 16/100\n",
            "5/5 [==============================] - 0s 1ms/step - loss: 0.1146 - accuracy: 0.9733\n",
            "Epoch 17/100\n",
            "5/5 [==============================] - 0s 2ms/step - loss: 0.1149 - accuracy: 0.9800\n",
            "Epoch 18/100\n",
            "5/5 [==============================] - 0s 1ms/step - loss: 0.1146 - accuracy: 0.9800\n",
            "Epoch 19/100\n",
            "5/5 [==============================] - 0s 1ms/step - loss: 0.1101 - accuracy: 0.9800\n",
            "Epoch 20/100\n",
            "5/5 [==============================] - 0s 2ms/step - loss: 0.1106 - accuracy: 0.9733\n",
            "Epoch 21/100\n",
            "5/5 [==============================] - 0s 2ms/step - loss: 0.1102 - accuracy: 0.9800\n",
            "Epoch 22/100\n",
            "5/5 [==============================] - 0s 2ms/step - loss: 0.1055 - accuracy: 0.9800\n",
            "Epoch 23/100\n",
            "5/5 [==============================] - 0s 1ms/step - loss: 0.1098 - accuracy: 0.9667\n",
            "Epoch 24/100\n",
            "5/5 [==============================] - 0s 2ms/step - loss: 0.1053 - accuracy: 0.9733\n",
            "Epoch 25/100\n",
            "5/5 [==============================] - 0s 1ms/step - loss: 0.1035 - accuracy: 0.9800\n",
            "Epoch 26/100\n",
            "5/5 [==============================] - 0s 1ms/step - loss: 0.1041 - accuracy: 0.9733\n",
            "Epoch 27/100\n",
            "5/5 [==============================] - 0s 2ms/step - loss: 0.1069 - accuracy: 0.9733\n",
            "Epoch 28/100\n",
            "5/5 [==============================] - 0s 2ms/step - loss: 0.1031 - accuracy: 0.9800\n",
            "Epoch 29/100\n",
            "5/5 [==============================] - 0s 2ms/step - loss: 0.1020 - accuracy: 0.9733\n",
            "Epoch 30/100\n",
            "5/5 [==============================] - 0s 2ms/step - loss: 0.1015 - accuracy: 0.9733\n",
            "Epoch 31/100\n",
            "5/5 [==============================] - 0s 2ms/step - loss: 0.1011 - accuracy: 0.9800\n",
            "Epoch 32/100\n",
            "5/5 [==============================] - 0s 2ms/step - loss: 0.0958 - accuracy: 0.9733\n",
            "Epoch 33/100\n",
            "5/5 [==============================] - 0s 1ms/step - loss: 0.0932 - accuracy: 0.9800\n",
            "Epoch 34/100\n",
            "5/5 [==============================] - 0s 2ms/step - loss: 0.0948 - accuracy: 0.9733\n",
            "Epoch 35/100\n",
            "5/5 [==============================] - 0s 2ms/step - loss: 0.0951 - accuracy: 0.9667\n",
            "Epoch 36/100\n",
            "5/5 [==============================] - 0s 2ms/step - loss: 0.0917 - accuracy: 0.9800\n",
            "Epoch 37/100\n",
            "5/5 [==============================] - 0s 2ms/step - loss: 0.0906 - accuracy: 0.9733\n",
            "Epoch 38/100\n",
            "5/5 [==============================] - 0s 2ms/step - loss: 0.0911 - accuracy: 0.9733\n",
            "Epoch 39/100\n",
            "5/5 [==============================] - 0s 2ms/step - loss: 0.0910 - accuracy: 0.9733\n",
            "Epoch 40/100\n",
            "5/5 [==============================] - 0s 2ms/step - loss: 0.0867 - accuracy: 0.9800\n",
            "Epoch 41/100\n",
            "5/5 [==============================] - 0s 2ms/step - loss: 0.0908 - accuracy: 0.9667\n",
            "Epoch 42/100\n",
            "5/5 [==============================] - 0s 2ms/step - loss: 0.0963 - accuracy: 0.9667\n",
            "Epoch 43/100\n",
            "5/5 [==============================] - 0s 2ms/step - loss: 0.0848 - accuracy: 0.9733\n",
            "Epoch 44/100\n",
            "5/5 [==============================] - 0s 2ms/step - loss: 0.0847 - accuracy: 0.9800\n",
            "Epoch 45/100\n",
            "5/5 [==============================] - 0s 2ms/step - loss: 0.0854 - accuracy: 0.9800\n",
            "Epoch 46/100\n",
            "5/5 [==============================] - 0s 2ms/step - loss: 0.0864 - accuracy: 0.9800\n",
            "Epoch 47/100\n",
            "5/5 [==============================] - 0s 2ms/step - loss: 0.0863 - accuracy: 0.9733\n",
            "Epoch 48/100\n",
            "5/5 [==============================] - 0s 2ms/step - loss: 0.0815 - accuracy: 0.9867\n",
            "Epoch 49/100\n",
            "5/5 [==============================] - 0s 2ms/step - loss: 0.0797 - accuracy: 0.9667\n",
            "Epoch 50/100\n",
            "5/5 [==============================] - 0s 2ms/step - loss: 0.0840 - accuracy: 0.9800\n",
            "Epoch 51/100\n",
            "5/5 [==============================] - 0s 2ms/step - loss: 0.0829 - accuracy: 0.9733\n",
            "Epoch 52/100\n",
            "5/5 [==============================] - 0s 2ms/step - loss: 0.0783 - accuracy: 0.9800\n",
            "Epoch 53/100\n",
            "5/5 [==============================] - 0s 2ms/step - loss: 0.0817 - accuracy: 0.9733\n",
            "Epoch 54/100\n",
            "5/5 [==============================] - 0s 2ms/step - loss: 0.0814 - accuracy: 0.9733\n",
            "Epoch 55/100\n",
            "5/5 [==============================] - 0s 2ms/step - loss: 0.0780 - accuracy: 0.9733\n",
            "Epoch 56/100\n",
            "5/5 [==============================] - 0s 2ms/step - loss: 0.0777 - accuracy: 0.9733\n",
            "Epoch 57/100\n",
            "5/5 [==============================] - 0s 2ms/step - loss: 0.0762 - accuracy: 0.9800\n",
            "Epoch 58/100\n",
            "5/5 [==============================] - 0s 2ms/step - loss: 0.0781 - accuracy: 0.9800\n",
            "Epoch 59/100\n",
            "5/5 [==============================] - 0s 1ms/step - loss: 0.0804 - accuracy: 0.9733\n",
            "Epoch 60/100\n",
            "5/5 [==============================] - 0s 2ms/step - loss: 0.0762 - accuracy: 0.9800\n",
            "Epoch 61/100\n",
            "5/5 [==============================] - 0s 1ms/step - loss: 0.0812 - accuracy: 0.9733\n",
            "Epoch 62/100\n",
            "5/5 [==============================] - 0s 1ms/step - loss: 0.0760 - accuracy: 0.9800\n",
            "Epoch 63/100\n",
            "5/5 [==============================] - 0s 2ms/step - loss: 0.0778 - accuracy: 0.9733\n",
            "Epoch 64/100\n",
            "5/5 [==============================] - 0s 2ms/step - loss: 0.0727 - accuracy: 0.9800\n",
            "Epoch 65/100\n",
            "5/5 [==============================] - 0s 2ms/step - loss: 0.0739 - accuracy: 0.9800\n",
            "Epoch 66/100\n",
            "5/5 [==============================] - 0s 2ms/step - loss: 0.0785 - accuracy: 0.9733\n",
            "Epoch 67/100\n",
            "5/5 [==============================] - 0s 2ms/step - loss: 0.0766 - accuracy: 0.9733\n",
            "Epoch 68/100\n",
            "5/5 [==============================] - 0s 1ms/step - loss: 0.0782 - accuracy: 0.9733\n",
            "Epoch 69/100\n",
            "5/5 [==============================] - 0s 1ms/step - loss: 0.0752 - accuracy: 0.9800\n",
            "Epoch 70/100\n",
            "5/5 [==============================] - 0s 1ms/step - loss: 0.0743 - accuracy: 0.9733\n",
            "Epoch 71/100\n",
            "5/5 [==============================] - 0s 1ms/step - loss: 0.0754 - accuracy: 0.9733\n",
            "Epoch 72/100\n",
            "5/5 [==============================] - 0s 2ms/step - loss: 0.0731 - accuracy: 0.9800\n",
            "Epoch 73/100\n",
            "5/5 [==============================] - 0s 2ms/step - loss: 0.0724 - accuracy: 0.9733\n",
            "Epoch 74/100\n",
            "5/5 [==============================] - 0s 2ms/step - loss: 0.0738 - accuracy: 0.9733\n",
            "Epoch 75/100\n",
            "5/5 [==============================] - 0s 2ms/step - loss: 0.0718 - accuracy: 0.9733\n",
            "Epoch 76/100\n",
            "5/5 [==============================] - 0s 2ms/step - loss: 0.0699 - accuracy: 0.9800\n",
            "Epoch 77/100\n",
            "5/5 [==============================] - 0s 2ms/step - loss: 0.0724 - accuracy: 0.9800\n",
            "Epoch 78/100\n",
            "5/5 [==============================] - 0s 2ms/step - loss: 0.0674 - accuracy: 0.9800\n",
            "Epoch 79/100\n",
            "5/5 [==============================] - 0s 2ms/step - loss: 0.0740 - accuracy: 0.9733\n",
            "Epoch 80/100\n",
            "5/5 [==============================] - 0s 2ms/step - loss: 0.0694 - accuracy: 0.9800\n",
            "Epoch 81/100\n",
            "5/5 [==============================] - 0s 2ms/step - loss: 0.0686 - accuracy: 0.9800\n",
            "Epoch 82/100\n",
            "5/5 [==============================] - 0s 2ms/step - loss: 0.0737 - accuracy: 0.9733\n",
            "Epoch 83/100\n",
            "5/5 [==============================] - 0s 2ms/step - loss: 0.0663 - accuracy: 0.9800\n",
            "Epoch 84/100\n",
            "5/5 [==============================] - 0s 3ms/step - loss: 0.0696 - accuracy: 0.9800\n",
            "Epoch 85/100\n",
            "5/5 [==============================] - 0s 2ms/step - loss: 0.0689 - accuracy: 0.9733\n",
            "Epoch 86/100\n",
            "5/5 [==============================] - 0s 2ms/step - loss: 0.0670 - accuracy: 0.9800\n",
            "Epoch 87/100\n",
            "5/5 [==============================] - 0s 2ms/step - loss: 0.0742 - accuracy: 0.9667\n",
            "Epoch 88/100\n",
            "5/5 [==============================] - 0s 1ms/step - loss: 0.0680 - accuracy: 0.9800\n",
            "Epoch 89/100\n",
            "5/5 [==============================] - 0s 2ms/step - loss: 0.0649 - accuracy: 0.9800\n",
            "Epoch 90/100\n",
            "5/5 [==============================] - 0s 2ms/step - loss: 0.0677 - accuracy: 0.9800\n",
            "Epoch 91/100\n",
            "5/5 [==============================] - 0s 2ms/step - loss: 0.0692 - accuracy: 0.9733\n",
            "Epoch 92/100\n",
            "5/5 [==============================] - 0s 1ms/step - loss: 0.0645 - accuracy: 0.9733\n",
            "Epoch 93/100\n",
            "5/5 [==============================] - 0s 2ms/step - loss: 0.0672 - accuracy: 0.9733\n",
            "Epoch 94/100\n",
            "5/5 [==============================] - 0s 2ms/step - loss: 0.0728 - accuracy: 0.9733\n",
            "Epoch 95/100\n",
            "5/5 [==============================] - 0s 2ms/step - loss: 0.0734 - accuracy: 0.9800\n",
            "Epoch 96/100\n",
            "5/5 [==============================] - 0s 2ms/step - loss: 0.0676 - accuracy: 0.9800\n",
            "Epoch 97/100\n",
            "5/5 [==============================] - 0s 2ms/step - loss: 0.0625 - accuracy: 0.9800\n",
            "Epoch 98/100\n",
            "5/5 [==============================] - 0s 2ms/step - loss: 0.0662 - accuracy: 0.9800\n",
            "Epoch 99/100\n",
            "5/5 [==============================] - 0s 2ms/step - loss: 0.0666 - accuracy: 0.9733\n",
            "Epoch 100/100\n",
            "5/5 [==============================] - 0s 2ms/step - loss: 0.0666 - accuracy: 0.9800\n"
          ],
          "name": "stdout"
        },
        {
          "output_type": "execute_result",
          "data": {
            "text/plain": [
              "<tensorflow.python.keras.callbacks.History at 0x7f3673fc69e8>"
            ]
          },
          "metadata": {
            "tags": []
          },
          "execution_count": 58
        }
      ]
    },
    {
      "cell_type": "code",
      "metadata": {
        "id": "HrOoH8--1WRt",
        "colab_type": "code",
        "colab": {
          "base_uri": "https://localhost:8080/",
          "height": 204
        },
        "outputId": "0784d0a0-d803-4ebc-ba9b-811270aaab69"
      },
      "source": [
        "# model use\n",
        "print(model.predict(cause[0:5]))\n",
        "print(effect[0:5])"
      ],
      "execution_count": null,
      "outputs": [
        {
          "output_type": "stream",
          "text": [
            "[[9.9732471e-01 2.6446767e-03 3.0503830e-05]\n",
            " [9.9713516e-01 2.8370488e-03 2.7824788e-05]\n",
            " [9.9737203e-01 2.5861894e-03 4.1718478e-05]\n",
            " [9.9727482e-01 2.6929281e-03 3.2274540e-05]\n",
            " [9.9742174e-01 2.5436229e-03 3.4612043e-05]]\n",
            "   품종_setosa  품종_versicolor  품종_virginica\n",
            "0          1              0             0\n",
            "1          1              0             0\n",
            "2          1              0             0\n",
            "3          1              0             0\n",
            "4          1              0             0\n"
          ],
          "name": "stdout"
        }
      ]
    }
  ]
}